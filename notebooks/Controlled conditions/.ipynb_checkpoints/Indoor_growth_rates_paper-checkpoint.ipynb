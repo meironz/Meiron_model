{
 "cells": [
  {
   "cell_type": "markdown",
   "metadata": {
    "colab_type": "text",
    "id": "raGTYa1h4iD_"
   },
   "source": [
    "# Closed system simulation with experimental data markers\n",
    "\n",
    "In this simulation we have a system of 5 liters in which we start with Next = 1000/500/200, some Nint (measured) of some mass (m). After this we \"feed\" for a period of 7/3.5/2.33 days, i.e. solve the \"feeding\" part of the simulation. After that, we add 1000/500/200 uM to the last value of Next and keep \"feeding\". After one duration (7 days) we reset the water, mass and the amplitude to the beginning of the first cycle. The only difference from the t_0 is the Nint which is accumulating all the effects through the time. The mass is reset to m_0 and Next is reset to 1000 ppm (per something per something)\n"
   ]
  },
  {
   "cell_type": "code",
   "execution_count": 1,
   "metadata": {
    "colab": {},
    "colab_type": "code",
    "id": "yUfAvi3l4iEA"
   },
   "outputs": [],
   "source": [
    "from __future__ import division\n",
    "import numpy as np\n",
    "import scipy as sp\n",
    "from scipy.integrate import odeint\n",
    "from scipy import stats\n",
    "import matplotlib.pyplot as plt\n",
    "import pandas as pd\n",
    "import seaborn as sns\n",
    "from array import *\n",
    "import researchpy as rp\n",
    "import scipy.stats as stats\n",
    "%matplotlib inline\n",
    "\n",
    "from myfunctions_controlled_conditions import *\n",
    "\n",
    "import datetime"
   ]
  },
  {
   "cell_type": "code",
   "execution_count": 2,
   "metadata": {},
   "outputs": [],
   "source": [
    "# statistics functions\n",
    "\n",
    "import scikit_posthocs as scp"
   ]
  },
  {
   "cell_type": "code",
   "execution_count": 3,
   "metadata": {
    "colab": {
     "base_uri": "https://localhost:8080/",
     "height": 277
    },
    "colab_type": "code",
    "executionInfo": {
     "elapsed": 62295,
     "status": "ok",
     "timestamp": 1565466545086,
     "user": {
      "displayName": "Meiron Zollmann",
      "photoUrl": "",
      "userId": "18114482091462006341"
     },
     "user_tz": -180
    },
    "id": "d4VzbZ484iED",
    "inputHidden": false,
    "outputHidden": false,
    "outputId": "6d76a9eb-17b9-400c-de1d-c0cec8fc215c"
   },
   "outputs": [],
   "source": [
    "# Import data and parameters\n",
    "\n",
    "xl = pd.ExcelFile('C:/Users/meiro/Desktop/GitHub/Model/Meiron_model/data/Parameters.xlsx')\n",
    "x2 = pd.ExcelFile('C:/Users/meiro/Desktop/GitHub/Model/Meiron_model/data/Data.xlsx')\n",
    "\n",
    "# Import parameters into df1\n",
    "df1 = xl.parse('Parameters',header=None)\n",
    "\n",
    "# Import indoor data into df2\n",
    "df2 = x2.parse('Indoor')\n",
    "\n",
    "# Import offshore data ito df2\n",
    "df3 = x2.parse('Offshore')\n",
    "\n",
    "# Import outdoor data ito df4\n",
    "df4 = x2.parse('Outdoor')"
   ]
  },
  {
   "cell_type": "code",
   "execution_count": 4,
   "metadata": {},
   "outputs": [
    {
     "data": {
      "text/html": [
       "<div>\n",
       "<style scoped>\n",
       "    .dataframe tbody tr th:only-of-type {\n",
       "        vertical-align: middle;\n",
       "    }\n",
       "\n",
       "    .dataframe tbody tr th {\n",
       "        vertical-align: top;\n",
       "    }\n",
       "\n",
       "    .dataframe thead th {\n",
       "        text-align: right;\n",
       "    }\n",
       "</style>\n",
       "<table border=\"1\" class=\"dataframe\">\n",
       "  <thead>\n",
       "    <tr style=\"text-align: right;\">\n",
       "      <th></th>\n",
       "      <th>Sample</th>\n",
       "      <th>Exp</th>\n",
       "      <th>Sleeve</th>\n",
       "      <th>Week</th>\n",
       "      <th>Stage</th>\n",
       "      <th>Timei</th>\n",
       "      <th>Timeh</th>\n",
       "      <th>Time</th>\n",
       "      <th>DW</th>\n",
       "      <th>mmi</th>\n",
       "      <th>...</th>\n",
       "      <th>Frequency</th>\n",
       "      <th>Amplitude</th>\n",
       "      <th>Duration</th>\n",
       "      <th>Flux</th>\n",
       "      <th>Sporulated</th>\n",
       "      <th>Comment</th>\n",
       "      <th>Day</th>\n",
       "      <th>Comment2</th>\n",
       "      <th>Unnamed: 38</th>\n",
       "      <th>N_Saturation</th>\n",
       "    </tr>\n",
       "  </thead>\n",
       "  <tbody>\n",
       "    <tr>\n",
       "      <th>0</th>\n",
       "      <td>0.0</td>\n",
       "      <td>1</td>\n",
       "      <td>0</td>\n",
       "      <td>0.0</td>\n",
       "      <td>i</td>\n",
       "      <td>2019,3,12,13,0</td>\n",
       "      <td>2019,3,12,13,0</td>\n",
       "      <td>2019,3,12,13,0</td>\n",
       "      <td>0.750</td>\n",
       "      <td>NaN</td>\n",
       "      <td>...</td>\n",
       "      <td>NaN</td>\n",
       "      <td>NaN</td>\n",
       "      <td>NaN</td>\n",
       "      <td>NaN</td>\n",
       "      <td>No</td>\n",
       "      <td>NaN</td>\n",
       "      <td>NaN</td>\n",
       "      <td>NaN</td>\n",
       "      <td>NaN</td>\n",
       "      <td>yes</td>\n",
       "    </tr>\n",
       "    <tr>\n",
       "      <th>1</th>\n",
       "      <td>0.7</td>\n",
       "      <td>1</td>\n",
       "      <td>0</td>\n",
       "      <td>0.0</td>\n",
       "      <td>f</td>\n",
       "      <td>2019,3,12,13,0</td>\n",
       "      <td>2019,3,12,13,0</td>\n",
       "      <td>2019,3,19,13,0</td>\n",
       "      <td>0.753</td>\n",
       "      <td>50.0</td>\n",
       "      <td>...</td>\n",
       "      <td>NaN</td>\n",
       "      <td>NaN</td>\n",
       "      <td>NaN</td>\n",
       "      <td>NaN</td>\n",
       "      <td>No</td>\n",
       "      <td>NaN</td>\n",
       "      <td>NaN</td>\n",
       "      <td>NaN</td>\n",
       "      <td>NaN</td>\n",
       "      <td>yes</td>\n",
       "    </tr>\n",
       "    <tr>\n",
       "      <th>2</th>\n",
       "      <td>1.0</td>\n",
       "      <td>1</td>\n",
       "      <td>1</td>\n",
       "      <td>1.0</td>\n",
       "      <td>i</td>\n",
       "      <td>2019,3,19,13,0</td>\n",
       "      <td>2019,3,19,13,0</td>\n",
       "      <td>2019,3,19,13,0</td>\n",
       "      <td>0.144</td>\n",
       "      <td>NaN</td>\n",
       "      <td>...</td>\n",
       "      <td>1.0</td>\n",
       "      <td>1000.0</td>\n",
       "      <td>168.0</td>\n",
       "      <td>1000.0</td>\n",
       "      <td>No</td>\n",
       "      <td>NaN</td>\n",
       "      <td>NaN</td>\n",
       "      <td>NaN</td>\n",
       "      <td>NaN</td>\n",
       "      <td>yes</td>\n",
       "    </tr>\n",
       "    <tr>\n",
       "      <th>3</th>\n",
       "      <td>2.0</td>\n",
       "      <td>1</td>\n",
       "      <td>2</td>\n",
       "      <td>1.0</td>\n",
       "      <td>i</td>\n",
       "      <td>2019,3,19,13,0</td>\n",
       "      <td>2019,3,19,13,0</td>\n",
       "      <td>2019,3,19,13,0</td>\n",
       "      <td>0.153</td>\n",
       "      <td>NaN</td>\n",
       "      <td>...</td>\n",
       "      <td>1.0</td>\n",
       "      <td>1000.0</td>\n",
       "      <td>168.0</td>\n",
       "      <td>1000.0</td>\n",
       "      <td>No</td>\n",
       "      <td>NaN</td>\n",
       "      <td>NaN</td>\n",
       "      <td>NaN</td>\n",
       "      <td>NaN</td>\n",
       "      <td>yes</td>\n",
       "    </tr>\n",
       "    <tr>\n",
       "      <th>4</th>\n",
       "      <td>3.0</td>\n",
       "      <td>1</td>\n",
       "      <td>3</td>\n",
       "      <td>1.0</td>\n",
       "      <td>i</td>\n",
       "      <td>2019,3,19,13,0</td>\n",
       "      <td>2019,3,19,13,0</td>\n",
       "      <td>2019,3,19,13,0</td>\n",
       "      <td>0.159</td>\n",
       "      <td>NaN</td>\n",
       "      <td>...</td>\n",
       "      <td>1.0</td>\n",
       "      <td>1000.0</td>\n",
       "      <td>168.0</td>\n",
       "      <td>1000.0</td>\n",
       "      <td>No</td>\n",
       "      <td>NaN</td>\n",
       "      <td>NaN</td>\n",
       "      <td>NaN</td>\n",
       "      <td>NaN</td>\n",
       "      <td>yes</td>\n",
       "    </tr>\n",
       "  </tbody>\n",
       "</table>\n",
       "<p>5 rows × 40 columns</p>\n",
       "</div>"
      ],
      "text/plain": [
       "   Sample  Exp  Sleeve  Week Stage           Timei           Timeh  \\\n",
       "0     0.0    1       0   0.0     i  2019,3,12,13,0  2019,3,12,13,0   \n",
       "1     0.7    1       0   0.0     f  2019,3,12,13,0  2019,3,12,13,0   \n",
       "2     1.0    1       1   1.0     i  2019,3,19,13,0  2019,3,19,13,0   \n",
       "3     2.0    1       2   1.0     i  2019,3,19,13,0  2019,3,19,13,0   \n",
       "4     3.0    1       3   1.0     i  2019,3,19,13,0  2019,3,19,13,0   \n",
       "\n",
       "             Time     DW   mmi  ...  Frequency  Amplitude  Duration    Flux  \\\n",
       "0  2019,3,12,13,0  0.750   NaN  ...        NaN        NaN       NaN     NaN   \n",
       "1  2019,3,19,13,0  0.753  50.0  ...        NaN        NaN       NaN     NaN   \n",
       "2  2019,3,19,13,0  0.144   NaN  ...        1.0     1000.0     168.0  1000.0   \n",
       "3  2019,3,19,13,0  0.153   NaN  ...        1.0     1000.0     168.0  1000.0   \n",
       "4  2019,3,19,13,0  0.159   NaN  ...        1.0     1000.0     168.0  1000.0   \n",
       "\n",
       "   Sporulated  Comment  Day  Comment2  Unnamed: 38  N_Saturation  \n",
       "0          No      NaN  NaN       NaN          NaN           yes  \n",
       "1          No      NaN  NaN       NaN          NaN           yes  \n",
       "2          No      NaN  NaN       NaN          NaN           yes  \n",
       "3          No      NaN  NaN       NaN          NaN           yes  \n",
       "4          No      NaN  NaN       NaN          NaN           yes  \n",
       "\n",
       "[5 rows x 40 columns]"
      ]
     },
     "execution_count": 4,
     "metadata": {},
     "output_type": "execute_result"
    }
   ],
   "source": [
    "df2.head()"
   ]
  },
  {
   "cell_type": "code",
   "execution_count": 5,
   "metadata": {},
   "outputs": [
    {
     "name": "stdout",
     "output_type": "stream",
     "text": [
      "\n",
      "\n"
     ]
    },
    {
     "data": {
      "text/html": [
       "<div>\n",
       "<style scoped>\n",
       "    .dataframe tbody tr th:only-of-type {\n",
       "        vertical-align: middle;\n",
       "    }\n",
       "\n",
       "    .dataframe tbody tr th {\n",
       "        vertical-align: top;\n",
       "    }\n",
       "\n",
       "    .dataframe thead th {\n",
       "        text-align: right;\n",
       "    }\n",
       "</style>\n",
       "<table border=\"1\" class=\"dataframe\">\n",
       "  <thead>\n",
       "    <tr style=\"text-align: right;\">\n",
       "      <th></th>\n",
       "      <th>N</th>\n",
       "      <th>Mean</th>\n",
       "      <th>SD</th>\n",
       "      <th>SE</th>\n",
       "      <th>95% Conf.</th>\n",
       "      <th>Interval</th>\n",
       "    </tr>\n",
       "    <tr>\n",
       "      <th>Treatment</th>\n",
       "      <th></th>\n",
       "      <th></th>\n",
       "      <th></th>\n",
       "      <th></th>\n",
       "      <th></th>\n",
       "      <th></th>\n",
       "    </tr>\n",
       "  </thead>\n",
       "  <tbody>\n",
       "    <tr>\n",
       "      <th>1000/1/168</th>\n",
       "      <td>33</td>\n",
       "      <td>0.3371</td>\n",
       "      <td>0.1072</td>\n",
       "      <td>0.0187</td>\n",
       "      <td>0.2991</td>\n",
       "      <td>0.3751</td>\n",
       "    </tr>\n",
       "    <tr>\n",
       "      <th>200/5/168</th>\n",
       "      <td>9</td>\n",
       "      <td>0.2665</td>\n",
       "      <td>0.0996</td>\n",
       "      <td>0.0332</td>\n",
       "      <td>0.1899</td>\n",
       "      <td>0.3431</td>\n",
       "    </tr>\n",
       "    <tr>\n",
       "      <th>2000/1/168</th>\n",
       "      <td>9</td>\n",
       "      <td>0.2620</td>\n",
       "      <td>0.1023</td>\n",
       "      <td>0.0341</td>\n",
       "      <td>0.1834</td>\n",
       "      <td>0.3406</td>\n",
       "    </tr>\n",
       "    <tr>\n",
       "      <th>2000/1/4</th>\n",
       "      <td>6</td>\n",
       "      <td>0.1585</td>\n",
       "      <td>0.1041</td>\n",
       "      <td>0.0425</td>\n",
       "      <td>0.0493</td>\n",
       "      <td>0.2677</td>\n",
       "    </tr>\n",
       "    <tr>\n",
       "      <th>500/1/4</th>\n",
       "      <td>6</td>\n",
       "      <td>0.1835</td>\n",
       "      <td>0.0861</td>\n",
       "      <td>0.0351</td>\n",
       "      <td>0.0932</td>\n",
       "      <td>0.2738</td>\n",
       "    </tr>\n",
       "    <tr>\n",
       "      <th>500/2/168</th>\n",
       "      <td>45</td>\n",
       "      <td>0.3420</td>\n",
       "      <td>0.0816</td>\n",
       "      <td>0.0122</td>\n",
       "      <td>0.3175</td>\n",
       "      <td>0.3665</td>\n",
       "    </tr>\n",
       "    <tr>\n",
       "      <th>500/3/168</th>\n",
       "      <td>15</td>\n",
       "      <td>0.3420</td>\n",
       "      <td>0.0994</td>\n",
       "      <td>0.0257</td>\n",
       "      <td>0.2870</td>\n",
       "      <td>0.3970</td>\n",
       "    </tr>\n",
       "  </tbody>\n",
       "</table>\n",
       "</div>"
      ],
      "text/plain": [
       "             N    Mean      SD      SE  95% Conf.  Interval\n",
       "Treatment                                                  \n",
       "1000/1/168  33  0.3371  0.1072  0.0187     0.2991    0.3751\n",
       "200/5/168    9  0.2665  0.0996  0.0332     0.1899    0.3431\n",
       "2000/1/168   9  0.2620  0.1023  0.0341     0.1834    0.3406\n",
       "2000/1/4     6  0.1585  0.1041  0.0425     0.0493    0.2677\n",
       "500/1/4      6  0.1835  0.0861  0.0351     0.0932    0.2738\n",
       "500/2/168   45  0.3420  0.0816  0.0122     0.3175    0.3665\n",
       "500/3/168   15  0.3420  0.0994  0.0257     0.2870    0.3970"
      ]
     },
     "execution_count": 5,
     "metadata": {},
     "output_type": "execute_result"
    }
   ],
   "source": [
    "# All DW results by treatment \n",
    "dall = df2[(df2.Stage == 'f')&(np.isnan(df2.DW)!= True)&(df2.Treatment != 'Acclimation')&(df2.Comment != 'Exclude')&(df2.Week <= 3)]\n",
    "rp.summary_cont(dall['DW'].groupby(dall['Treatment']))"
   ]
  },
  {
   "cell_type": "code",
   "execution_count": 6,
   "metadata": {},
   "outputs": [
    {
     "name": "stdout",
     "output_type": "stream",
     "text": [
      "\n",
      "\n"
     ]
    },
    {
     "data": {
      "text/html": [
       "<div>\n",
       "<style scoped>\n",
       "    .dataframe tbody tr th:only-of-type {\n",
       "        vertical-align: middle;\n",
       "    }\n",
       "\n",
       "    .dataframe tbody tr th {\n",
       "        vertical-align: top;\n",
       "    }\n",
       "\n",
       "    .dataframe thead th {\n",
       "        text-align: right;\n",
       "    }\n",
       "</style>\n",
       "<table border=\"1\" class=\"dataframe\">\n",
       "  <thead>\n",
       "    <tr style=\"text-align: right;\">\n",
       "      <th></th>\n",
       "      <th>N</th>\n",
       "      <th>Mean</th>\n",
       "      <th>SD</th>\n",
       "      <th>SE</th>\n",
       "      <th>95% Conf.</th>\n",
       "      <th>Interval</th>\n",
       "    </tr>\n",
       "    <tr>\n",
       "      <th>Treatment</th>\n",
       "      <th></th>\n",
       "      <th></th>\n",
       "      <th></th>\n",
       "      <th></th>\n",
       "      <th></th>\n",
       "      <th></th>\n",
       "    </tr>\n",
       "  </thead>\n",
       "  <tbody>\n",
       "    <tr>\n",
       "      <th>1000/1/168</th>\n",
       "      <td>33</td>\n",
       "      <td>11.5334</td>\n",
       "      <td>5.3921</td>\n",
       "      <td>0.9386</td>\n",
       "      <td>9.6215</td>\n",
       "      <td>13.4454</td>\n",
       "    </tr>\n",
       "    <tr>\n",
       "      <th>200/5/168</th>\n",
       "      <td>9</td>\n",
       "      <td>7.6249</td>\n",
       "      <td>6.2784</td>\n",
       "      <td>2.0928</td>\n",
       "      <td>2.7989</td>\n",
       "      <td>12.4509</td>\n",
       "    </tr>\n",
       "    <tr>\n",
       "      <th>2000/1/168</th>\n",
       "      <td>9</td>\n",
       "      <td>7.3934</td>\n",
       "      <td>6.0525</td>\n",
       "      <td>2.0175</td>\n",
       "      <td>2.7410</td>\n",
       "      <td>12.0457</td>\n",
       "    </tr>\n",
       "    <tr>\n",
       "      <th>2000/1/4</th>\n",
       "      <td>6</td>\n",
       "      <td>-2.0888</td>\n",
       "      <td>11.2092</td>\n",
       "      <td>4.5761</td>\n",
       "      <td>-13.8521</td>\n",
       "      <td>9.6745</td>\n",
       "    </tr>\n",
       "    <tr>\n",
       "      <th>500/1/4</th>\n",
       "      <td>6</td>\n",
       "      <td>1.7213</td>\n",
       "      <td>7.0552</td>\n",
       "      <td>2.8803</td>\n",
       "      <td>-5.6827</td>\n",
       "      <td>9.1253</td>\n",
       "    </tr>\n",
       "    <tr>\n",
       "      <th>500/2/168</th>\n",
       "      <td>45</td>\n",
       "      <td>12.0545</td>\n",
       "      <td>4.2485</td>\n",
       "      <td>0.6333</td>\n",
       "      <td>10.7781</td>\n",
       "      <td>13.3308</td>\n",
       "    </tr>\n",
       "    <tr>\n",
       "      <th>500/3/168</th>\n",
       "      <td>15</td>\n",
       "      <td>11.8421</td>\n",
       "      <td>5.3172</td>\n",
       "      <td>1.3729</td>\n",
       "      <td>8.8975</td>\n",
       "      <td>14.7866</td>\n",
       "    </tr>\n",
       "  </tbody>\n",
       "</table>\n",
       "</div>"
      ],
      "text/plain": [
       "             N     Mean       SD      SE  95% Conf.  Interval\n",
       "Treatment                                                    \n",
       "1000/1/168  33  11.5334   5.3921  0.9386     9.6215   13.4454\n",
       "200/5/168    9   7.6249   6.2784  2.0928     2.7989   12.4509\n",
       "2000/1/168   9   7.3934   6.0525  2.0175     2.7410   12.0457\n",
       "2000/1/4     6  -2.0888  11.2092  4.5761   -13.8521    9.6745\n",
       "500/1/4      6   1.7213   7.0552  2.8803    -5.6827    9.1253\n",
       "500/2/168   45  12.0545   4.2485  0.6333    10.7781   13.3308\n",
       "500/3/168   15  11.8421   5.3172  1.3729     8.8975   14.7866"
      ]
     },
     "execution_count": 6,
     "metadata": {},
     "output_type": "execute_result"
    }
   ],
   "source": [
    "# All GR results by treatment \n",
    "dall = df2[(df2.Stage == 'f')&(np.isnan(df2.DW)!= True)&(df2.Treatment != 'Acclimation')&(df2.Comment != 'Exclude')&(df2.Week <= 3)]\n",
    "rp.summary_cont(dall['GR'].groupby(dall['Treatment']))"
   ]
  },
  {
   "cell_type": "code",
   "execution_count": 7,
   "metadata": {},
   "outputs": [
    {
     "name": "stdout",
     "output_type": "stream",
     "text": [
      "\n",
      "\n"
     ]
    },
    {
     "data": {
      "text/html": [
       "<div>\n",
       "<style scoped>\n",
       "    .dataframe tbody tr th:only-of-type {\n",
       "        vertical-align: middle;\n",
       "    }\n",
       "\n",
       "    .dataframe tbody tr th {\n",
       "        vertical-align: top;\n",
       "    }\n",
       "\n",
       "    .dataframe thead th {\n",
       "        text-align: right;\n",
       "    }\n",
       "</style>\n",
       "<table border=\"1\" class=\"dataframe\">\n",
       "  <thead>\n",
       "    <tr style=\"text-align: right;\">\n",
       "      <th></th>\n",
       "      <th>N</th>\n",
       "      <th>Mean</th>\n",
       "      <th>SD</th>\n",
       "      <th>SE</th>\n",
       "      <th>95% Conf.</th>\n",
       "      <th>Interval</th>\n",
       "    </tr>\n",
       "    <tr>\n",
       "      <th>Duration</th>\n",
       "      <th></th>\n",
       "      <th></th>\n",
       "      <th></th>\n",
       "      <th></th>\n",
       "      <th></th>\n",
       "      <th></th>\n",
       "    </tr>\n",
       "  </thead>\n",
       "  <tbody>\n",
       "    <tr>\n",
       "      <th>4.0</th>\n",
       "      <td>12</td>\n",
       "      <td>-0.1838</td>\n",
       "      <td>9.1486</td>\n",
       "      <td>2.641</td>\n",
       "      <td>-5.9965</td>\n",
       "      <td>5.6290</td>\n",
       "    </tr>\n",
       "    <tr>\n",
       "      <th>168.0</th>\n",
       "      <td>111</td>\n",
       "      <td>11.1338</td>\n",
       "      <td>5.2366</td>\n",
       "      <td>0.497</td>\n",
       "      <td>10.1488</td>\n",
       "      <td>12.1188</td>\n",
       "    </tr>\n",
       "  </tbody>\n",
       "</table>\n",
       "</div>"
      ],
      "text/plain": [
       "            N     Mean      SD     SE  95% Conf.  Interval\n",
       "Duration                                                  \n",
       "4.0        12  -0.1838  9.1486  2.641    -5.9965    5.6290\n",
       "168.0     111  11.1338  5.2366  0.497    10.1488   12.1188"
      ]
     },
     "execution_count": 7,
     "metadata": {},
     "output_type": "execute_result"
    }
   ],
   "source": [
    "# All GR results by treatment \n",
    "dall = df2[(df2.Stage == 'f')&(np.isnan(df2.DW)!= True)&(df2.Treatment != 'Acclimation')&(df2.Comment != 'Exclude')&(df2.Week <= 3)]\n",
    "rp.summary_cont(dall['GR'].groupby(dall['Duration']))"
   ]
  },
  {
   "cell_type": "code",
   "execution_count": 8,
   "metadata": {},
   "outputs": [
    {
     "name": "stdout",
     "output_type": "stream",
     "text": [
      "NormaltestResult(statistic=5.671963451112826, pvalue=0.05866090864318812)\n"
     ]
    },
    {
     "data": {
      "text/plain": [
       "(array([ 2.,  0.,  0.,  0.,  0.,  1.,  2.,  2.,  4.,  4.,  3.,  9., 12.,\n",
       "         8., 10., 17., 16., 20., 10.,  3.]),\n",
       " array([-15.80175557, -13.99816738, -12.19457919, -10.390991  ,\n",
       "         -8.58740282,  -6.78381463,  -4.98022644,  -3.17663825,\n",
       "         -1.37305007,   0.43053812,   2.23412631,   4.0377145 ,\n",
       "          5.84130268,   7.64489087,   9.44847906,  11.25206725,\n",
       "         13.05565543,  14.85924362,  16.66283181,  18.46642   ,\n",
       "         20.27000818]),\n",
       " <a list of 20 Patch objects>)"
      ]
     },
     "execution_count": 8,
     "metadata": {},
     "output_type": "execute_result"
    },
    {
     "data": {
      "image/png": "[encoded data removed]",
      "text/plain": [
       "<Figure size 432x288 with 1 Axes>"
      ]
     },
     "metadata": {
      "needs_background": "light"
     },
     "output_type": "display_data"
    }
   ],
   "source": [
    "# normality test for all DGR results\n",
    "norm = sp.stats.normaltest(dall.DGR, axis=0, nan_policy='propagate')\n",
    "print(norm)\n",
    "plt.hist(dall['GR'], bins = 20)"
   ]
  },
  {
   "cell_type": "code",
   "execution_count": 9,
   "metadata": {},
   "outputs": [
    {
     "data": {
      "text/plain": [
       "[Text(0.5, 0, 'Daily growth rate\\n [% per day]')]"
      ]
     },
     "execution_count": 9,
     "metadata": {},
     "output_type": "execute_result"
    },
    {
     "data": {
      "image/png": "[encoded data removed]",
      "text/plain": [
       "<Figure size 504x360 with 1 Axes>"
      ]
     },
     "metadata": {
      "needs_background": "light"
     },
     "output_type": "display_data"
    }
   ],
   "source": [
    "fig,ax = plt.subplots(1,1,figsize=(7,5))#,sharex=True)\n",
    "sns.set_context(\"paper\", rc={\"font.size\":16,\"axes.titlesize\":16,\"axes.labelsize\":16,\"weight\":'bold'}) \n",
    "\n",
    "ax = sns.histplot(dall['GR'], kde = True,bins = 20,alpha=0.6,legend=True)\n",
    "#ax.legend(['Beakers', 'Indoor','Offshore','Outdoor MPBR'],fontsize = 12)\n",
    "ax.set(xlabel= 'Daily growth rate\\n [% per day]')"
   ]
  },
  {
   "cell_type": "code",
   "execution_count": 10,
   "metadata": {},
   "outputs": [
    {
     "name": "stdout",
     "output_type": "stream",
     "text": [
      "\n",
      "\n"
     ]
    },
    {
     "data": {
      "text/html": [
       "<div>\n",
       "<style scoped>\n",
       "    .dataframe tbody tr th:only-of-type {\n",
       "        vertical-align: middle;\n",
       "    }\n",
       "\n",
       "    .dataframe tbody tr th {\n",
       "        vertical-align: top;\n",
       "    }\n",
       "\n",
       "    .dataframe thead th {\n",
       "        text-align: right;\n",
       "    }\n",
       "</style>\n",
       "<table border=\"1\" class=\"dataframe\">\n",
       "  <thead>\n",
       "    <tr style=\"text-align: right;\">\n",
       "      <th></th>\n",
       "      <th>N</th>\n",
       "      <th>Mean</th>\n",
       "      <th>SD</th>\n",
       "      <th>SE</th>\n",
       "      <th>95% Conf.</th>\n",
       "      <th>Interval</th>\n",
       "    </tr>\n",
       "    <tr>\n",
       "      <th>Treatment</th>\n",
       "      <th></th>\n",
       "      <th></th>\n",
       "      <th></th>\n",
       "      <th></th>\n",
       "      <th></th>\n",
       "      <th></th>\n",
       "    </tr>\n",
       "  </thead>\n",
       "  <tbody>\n",
       "    <tr>\n",
       "      <th>1000/1/168</th>\n",
       "      <td>33</td>\n",
       "      <td>2.4912</td>\n",
       "      <td>0.6745</td>\n",
       "      <td>0.1174</td>\n",
       "      <td>2.2520</td>\n",
       "      <td>2.7304</td>\n",
       "    </tr>\n",
       "    <tr>\n",
       "      <th>200/5/168</th>\n",
       "      <td>9</td>\n",
       "      <td>2.1121</td>\n",
       "      <td>0.4775</td>\n",
       "      <td>0.1592</td>\n",
       "      <td>1.7451</td>\n",
       "      <td>2.4791</td>\n",
       "    </tr>\n",
       "    <tr>\n",
       "      <th>2000/1/168</th>\n",
       "      <td>9</td>\n",
       "      <td>3.7062</td>\n",
       "      <td>0.5282</td>\n",
       "      <td>0.1761</td>\n",
       "      <td>3.3002</td>\n",
       "      <td>4.1123</td>\n",
       "    </tr>\n",
       "    <tr>\n",
       "      <th>2000/1/4</th>\n",
       "      <td>6</td>\n",
       "      <td>1.8289</td>\n",
       "      <td>0.5519</td>\n",
       "      <td>0.2253</td>\n",
       "      <td>1.2497</td>\n",
       "      <td>2.4080</td>\n",
       "    </tr>\n",
       "    <tr>\n",
       "      <th>500/1/4</th>\n",
       "      <td>6</td>\n",
       "      <td>1.4601</td>\n",
       "      <td>0.5363</td>\n",
       "      <td>0.2189</td>\n",
       "      <td>0.8973</td>\n",
       "      <td>2.0229</td>\n",
       "    </tr>\n",
       "    <tr>\n",
       "      <th>500/2/168</th>\n",
       "      <td>40</td>\n",
       "      <td>2.5453</td>\n",
       "      <td>0.4467</td>\n",
       "      <td>0.0706</td>\n",
       "      <td>2.4024</td>\n",
       "      <td>2.6881</td>\n",
       "    </tr>\n",
       "    <tr>\n",
       "      <th>500/3/168</th>\n",
       "      <td>14</td>\n",
       "      <td>3.3235</td>\n",
       "      <td>0.7194</td>\n",
       "      <td>0.1923</td>\n",
       "      <td>2.9082</td>\n",
       "      <td>3.7389</td>\n",
       "    </tr>\n",
       "  </tbody>\n",
       "</table>\n",
       "</div>"
      ],
      "text/plain": [
       "             N    Mean      SD      SE  95% Conf.  Interval\n",
       "Treatment                                                  \n",
       "1000/1/168  33  2.4912  0.6745  0.1174     2.2520    2.7304\n",
       "200/5/168    9  2.1121  0.4775  0.1592     1.7451    2.4791\n",
       "2000/1/168   9  3.7062  0.5282  0.1761     3.3002    4.1123\n",
       "2000/1/4     6  1.8289  0.5519  0.2253     1.2497    2.4080\n",
       "500/1/4      6  1.4601  0.5363  0.2189     0.8973    2.0229\n",
       "500/2/168   40  2.5453  0.4467  0.0706     2.4024    2.6881\n",
       "500/3/168   14  3.3235  0.7194  0.1923     2.9082    3.7389"
      ]
     },
     "execution_count": 10,
     "metadata": {},
     "output_type": "execute_result"
    }
   ],
   "source": [
    "# All internal N results by treatment\n",
    "dNall = df2[(df2.Stage == 'f')&(np.isnan(df2.N)!= True)&(df2.Treatment != 'Acclimation')&(df2.Comment != 'Exclude')&(df2.Week <= 3)]\n",
    "rp.summary_cont(dNall['N'].groupby(dNall['Treatment']))"
   ]
  },
  {
   "cell_type": "code",
   "execution_count": 11,
   "metadata": {},
   "outputs": [
    {
     "name": "stdout",
     "output_type": "stream",
     "text": [
      "NormaltestResult(statistic=5.151973738605474, pvalue=0.0760787059999321)\n"
     ]
    },
    {
     "data": {
      "text/plain": [
       "(array([ 3.,  3.,  4.,  2.,  5., 13., 17.,  9.,  6., 10.,  7., 10.,  7.,\n",
       "         7.,  2.,  4.,  3.,  0.,  3.,  2.]),\n",
       " array([1.01343012, 1.1890656 , 1.36470108, 1.54033656, 1.71597204,\n",
       "        1.89160752, 2.067243  , 2.24287848, 2.41851397, 2.59414945,\n",
       "        2.76978493, 2.94542041, 3.12105589, 3.29669137, 3.47232685,\n",
       "        3.64796233, 3.82359781, 3.99923329, 4.17486877, 4.35050426,\n",
       "        4.52613974]),\n",
       " <a list of 20 Patch objects>)"
      ]
     },
     "execution_count": 11,
     "metadata": {},
     "output_type": "execute_result"
    },
    {
     "data": {
      "image/png": "[encoded data removed]",
      "text/plain": [
       "<Figure size 432x288 with 1 Axes>"
      ]
     },
     "metadata": {
      "needs_background": "light"
     },
     "output_type": "display_data"
    }
   ],
   "source": [
    "# normality test for all N results\n",
    "normN = sp.stats.normaltest(dNall.DGR, axis=0, nan_policy='propagate')\n",
    "print(normN)\n",
    "plt.hist(dNall['N'], bins = 20)"
   ]
  },
  {
   "cell_type": "code",
   "execution_count": 12,
   "metadata": {},
   "outputs": [
    {
     "data": {
      "text/plain": [
       "[Text(0.5, 0, 'Internal N\\n [% g N per g DW]')]"
      ]
     },
     "execution_count": 12,
     "metadata": {},
     "output_type": "execute_result"
    },
    {
     "data": {
      "image/png": "[encoded data removed]",
      "text/plain": [
       "<Figure size 504x360 with 1 Axes>"
      ]
     },
     "metadata": {
      "needs_background": "light"
     },
     "output_type": "display_data"
    }
   ],
   "source": [
    "fig,ax = plt.subplots(1,1,figsize=(7,5))#,sharex=True)\n",
    "sns.set_context(\"paper\", rc={\"font.size\":16,\"axes.titlesize\":16,\"axes.labelsize\":16,\"weight\":'bold'}) \n",
    "\n",
    "ax = sns.histplot(dNall['N'], kde = True,bins = 20,alpha=0.6,legend=True)\n",
    "#ax.legend(['Beakers', 'Indoor','Offshore','Outdoor MPBR'],fontsize = 12)\n",
    "ax.set(xlabel= 'Internal N\\n [% g N per g DW]')"
   ]
  },
  {
   "cell_type": "code",
   "execution_count": 13,
   "metadata": {},
   "outputs": [
    {
     "name": "stdout",
     "output_type": "stream",
     "text": [
      "\n",
      "\n"
     ]
    },
    {
     "data": {
      "text/html": [
       "<div>\n",
       "<style scoped>\n",
       "    .dataframe tbody tr th:only-of-type {\n",
       "        vertical-align: middle;\n",
       "    }\n",
       "\n",
       "    .dataframe tbody tr th {\n",
       "        vertical-align: top;\n",
       "    }\n",
       "\n",
       "    .dataframe thead th {\n",
       "        text-align: right;\n",
       "    }\n",
       "</style>\n",
       "<table border=\"1\" class=\"dataframe\">\n",
       "  <thead>\n",
       "    <tr style=\"text-align: right;\">\n",
       "      <th></th>\n",
       "      <th>N</th>\n",
       "      <th>Mean</th>\n",
       "      <th>SD</th>\n",
       "      <th>SE</th>\n",
       "      <th>95% Conf.</th>\n",
       "      <th>Interval</th>\n",
       "    </tr>\n",
       "    <tr>\n",
       "      <th>Treatment</th>\n",
       "      <th></th>\n",
       "      <th></th>\n",
       "      <th></th>\n",
       "      <th></th>\n",
       "      <th></th>\n",
       "      <th></th>\n",
       "    </tr>\n",
       "  </thead>\n",
       "  <tbody>\n",
       "    <tr>\n",
       "      <th>1000/1/168</th>\n",
       "      <td>33</td>\n",
       "      <td>0.3325</td>\n",
       "      <td>0.1845</td>\n",
       "      <td>0.0321</td>\n",
       "      <td>0.2671</td>\n",
       "      <td>0.3979</td>\n",
       "    </tr>\n",
       "    <tr>\n",
       "      <th>200/5/168</th>\n",
       "      <td>9</td>\n",
       "      <td>0.2038</td>\n",
       "      <td>0.0877</td>\n",
       "      <td>0.0292</td>\n",
       "      <td>0.1365</td>\n",
       "      <td>0.2712</td>\n",
       "    </tr>\n",
       "    <tr>\n",
       "      <th>2000/1/168</th>\n",
       "      <td>9</td>\n",
       "      <td>0.1679</td>\n",
       "      <td>0.1275</td>\n",
       "      <td>0.0425</td>\n",
       "      <td>0.0699</td>\n",
       "      <td>0.2659</td>\n",
       "    </tr>\n",
       "    <tr>\n",
       "      <th>2000/1/4</th>\n",
       "      <td>6</td>\n",
       "      <td>0.0003</td>\n",
       "      <td>0.0304</td>\n",
       "      <td>0.0124</td>\n",
       "      <td>-0.0316</td>\n",
       "      <td>0.0322</td>\n",
       "    </tr>\n",
       "    <tr>\n",
       "      <th>500/1/4</th>\n",
       "      <td>6</td>\n",
       "      <td>0.0132</td>\n",
       "      <td>0.0769</td>\n",
       "      <td>0.0314</td>\n",
       "      <td>-0.0675</td>\n",
       "      <td>0.0938</td>\n",
       "    </tr>\n",
       "    <tr>\n",
       "      <th>500/2/168</th>\n",
       "      <td>40</td>\n",
       "      <td>0.3633</td>\n",
       "      <td>0.1243</td>\n",
       "      <td>0.0197</td>\n",
       "      <td>0.3236</td>\n",
       "      <td>0.4031</td>\n",
       "    </tr>\n",
       "    <tr>\n",
       "      <th>500/3/168</th>\n",
       "      <td>14</td>\n",
       "      <td>0.3211</td>\n",
       "      <td>0.1759</td>\n",
       "      <td>0.0470</td>\n",
       "      <td>0.2196</td>\n",
       "      <td>0.4227</td>\n",
       "    </tr>\n",
       "  </tbody>\n",
       "</table>\n",
       "</div>"
      ],
      "text/plain": [
       "             N    Mean      SD      SE  95% Conf.  Interval\n",
       "Treatment                                                  \n",
       "1000/1/168  33  0.3325  0.1845  0.0321     0.2671    0.3979\n",
       "200/5/168    9  0.2038  0.0877  0.0292     0.1365    0.2712\n",
       "2000/1/168   9  0.1679  0.1275  0.0425     0.0699    0.2659\n",
       "2000/1/4     6  0.0003  0.0304  0.0124    -0.0316    0.0322\n",
       "500/1/4      6  0.0132  0.0769  0.0314    -0.0675    0.0938\n",
       "500/2/168   40  0.3633  0.1243  0.0197     0.3236    0.4031\n",
       "500/3/168   14  0.3211  0.1759  0.0470     0.2196    0.4227"
      ]
     },
     "execution_count": 13,
     "metadata": {},
     "output_type": "execute_result"
    }
   ],
   "source": [
    "# All fertilization efficiency results by treatment\n",
    "dEffall = df2[(df2.Stage == 'f')&(np.isnan(df2.Fertilizing_Efficiency)!= True)&(df2.Treatment != 'Acclimation')&(df2.Comment != 'Exclude')&(df2.Week <= 3)]\n",
    "rp.summary_cont(dEffall['Fertilizing_Efficiency'].groupby(dEffall['Treatment']))"
   ]
  },
  {
   "cell_type": "code",
   "execution_count": 14,
   "metadata": {},
   "outputs": [
    {
     "name": "stdout",
     "output_type": "stream",
     "text": [
      "NormaltestResult(statistic=27.41851988787881, pvalue=1.1121005495801724e-06)\n"
     ]
    },
    {
     "data": {
      "text/plain": [
       "(array([ 3.,  9.,  5., 10.,  6., 15., 31., 15., 11.,  4.,  2.,  2.,  2.,\n",
       "         1.,  0.,  0.,  0.,  0.,  0.,  1.]),\n",
       " array([-0.08982707, -0.02873871,  0.03234965,  0.09343801,  0.15452637,\n",
       "         0.21561473,  0.27670309,  0.33779145,  0.3988798 ,  0.45996816,\n",
       "         0.52105652,  0.58214488,  0.64323324,  0.7043216 ,  0.76540996,\n",
       "         0.82649832,  0.88758668,  0.94867503,  1.00976339,  1.07085175,\n",
       "         1.13194011]),\n",
       " <a list of 20 Patch objects>)"
      ]
     },
     "execution_count": 14,
     "metadata": {},
     "output_type": "execute_result"
    },
    {
     "data": {
      "image/png": "[encoded data removed]",
      "text/plain": [
       "<Figure size 432x288 with 1 Axes>"
      ]
     },
     "metadata": {
      "needs_background": "light"
     },
     "output_type": "display_data"
    }
   ],
   "source": [
    "# normality test for all fertilization efficiency results\n",
    "normEff = sp.stats.normaltest(dEffall.Fertilizing_Efficiency, axis=0, nan_policy='propagate')\n",
    "print(normEff)\n",
    "plt.hist(dEffall['Fertilizing_Efficiency'],bins = 20)"
   ]
  },
  {
   "cell_type": "code",
   "execution_count": 15,
   "metadata": {},
   "outputs": [
    {
     "data": {
      "text/plain": [
       "[Text(0.5, 0, 'Fertilizing_Efficiency\\n [% g assimilated N per g added N]')]"
      ]
     },
     "execution_count": 15,
     "metadata": {},
     "output_type": "execute_result"
    },
    {
     "data": {
      "image/png": "[encoded data removed]",
      "text/plain": [
       "<Figure size 504x360 with 1 Axes>"
      ]
     },
     "metadata": {
      "needs_background": "light"
     },
     "output_type": "display_data"
    }
   ],
   "source": [
    "fig,ax = plt.subplots(1,1,figsize=(7,5))#,sharex=True)\n",
    "sns.set_context(\"paper\", rc={\"font.size\":16,\"axes.titlesize\":16,\"axes.labelsize\":16,\"weight\":'bold'}) \n",
    "\n",
    "ax = sns.histplot(dEffall['Fertilizing_Efficiency'], kde = True,bins = 20,alpha=0.6,legend=True)\n",
    "#ax.legend(['Beakers', 'Indoor','Offshore','Outdoor MPBR'],fontsize = 12)\n",
    "ax.set(xlabel= 'Fertilizing_Efficiency\\n [% g assimilated N per g added N]')"
   ]
  },
  {
   "cell_type": "code",
   "execution_count": 16,
   "metadata": {},
   "outputs": [
    {
     "name": "stdout",
     "output_type": "stream",
     "text": [
      "\n",
      "\n"
     ]
    },
    {
     "data": {
      "text/html": [
       "<div>\n",
       "<style scoped>\n",
       "    .dataframe tbody tr th:only-of-type {\n",
       "        vertical-align: middle;\n",
       "    }\n",
       "\n",
       "    .dataframe tbody tr th {\n",
       "        vertical-align: top;\n",
       "    }\n",
       "\n",
       "    .dataframe thead th {\n",
       "        text-align: right;\n",
       "    }\n",
       "</style>\n",
       "<table border=\"1\" class=\"dataframe\">\n",
       "  <thead>\n",
       "    <tr style=\"text-align: right;\">\n",
       "      <th></th>\n",
       "      <th>N</th>\n",
       "      <th>Mean</th>\n",
       "      <th>SD</th>\n",
       "      <th>SE</th>\n",
       "      <th>95% Conf.</th>\n",
       "      <th>Interval</th>\n",
       "    </tr>\n",
       "    <tr>\n",
       "      <th>Duration</th>\n",
       "      <th></th>\n",
       "      <th></th>\n",
       "      <th></th>\n",
       "      <th></th>\n",
       "      <th></th>\n",
       "      <th></th>\n",
       "    </tr>\n",
       "  </thead>\n",
       "  <tbody>\n",
       "    <tr>\n",
       "      <th>4.0</th>\n",
       "      <td>12</td>\n",
       "      <td>-0.1838</td>\n",
       "      <td>9.1486</td>\n",
       "      <td>2.6410</td>\n",
       "      <td>-5.9965</td>\n",
       "      <td>5.6290</td>\n",
       "    </tr>\n",
       "    <tr>\n",
       "      <th>168.0</th>\n",
       "      <td>75</td>\n",
       "      <td>11.4193</td>\n",
       "      <td>5.2248</td>\n",
       "      <td>0.6033</td>\n",
       "      <td>10.2172</td>\n",
       "      <td>12.6214</td>\n",
       "    </tr>\n",
       "  </tbody>\n",
       "</table>\n",
       "</div>"
      ],
      "text/plain": [
       "           N     Mean      SD      SE  95% Conf.  Interval\n",
       "Duration                                                  \n",
       "4.0       12  -0.1838  9.1486  2.6410    -5.9965    5.6290\n",
       "168.0     75  11.4193  5.2248  0.6033    10.2172   12.6214"
      ]
     },
     "execution_count": 16,
     "metadata": {},
     "output_type": "execute_result"
    }
   ],
   "source": [
    "# All DGR results by duration \n",
    "dall = df2[(df2.Stage == 'f')&(np.isnan(df2.DW)!= True)&(df2.Treatment != 'Acclimation')&(df2.Comment != 'Exclude')&(df2.Week <= 2)]\n",
    "rp.summary_cont(dall['GR'].groupby(dall['Duration']))"
   ]
  },
  {
   "cell_type": "code",
   "execution_count": 17,
   "metadata": {},
   "outputs": [
    {
     "name": "stdout",
     "output_type": "stream",
     "text": [
      "\n",
      "\n"
     ]
    },
    {
     "data": {
      "text/html": [
       "<div>\n",
       "<style scoped>\n",
       "    .dataframe tbody tr th:only-of-type {\n",
       "        vertical-align: middle;\n",
       "    }\n",
       "\n",
       "    .dataframe tbody tr th {\n",
       "        vertical-align: top;\n",
       "    }\n",
       "\n",
       "    .dataframe thead th {\n",
       "        text-align: right;\n",
       "    }\n",
       "</style>\n",
       "<table border=\"1\" class=\"dataframe\">\n",
       "  <thead>\n",
       "    <tr style=\"text-align: right;\">\n",
       "      <th></th>\n",
       "      <th>N</th>\n",
       "      <th>Mean</th>\n",
       "      <th>SD</th>\n",
       "      <th>SE</th>\n",
       "      <th>95% Conf.</th>\n",
       "      <th>Interval</th>\n",
       "    </tr>\n",
       "    <tr>\n",
       "      <th>Duration</th>\n",
       "      <th></th>\n",
       "      <th></th>\n",
       "      <th></th>\n",
       "      <th></th>\n",
       "      <th></th>\n",
       "      <th></th>\n",
       "    </tr>\n",
       "  </thead>\n",
       "  <tbody>\n",
       "    <tr>\n",
       "      <th>4.0</th>\n",
       "      <td>12</td>\n",
       "      <td>1.6445</td>\n",
       "      <td>0.5534</td>\n",
       "      <td>0.1598</td>\n",
       "      <td>1.2929</td>\n",
       "      <td>1.9961</td>\n",
       "    </tr>\n",
       "    <tr>\n",
       "      <th>168.0</th>\n",
       "      <td>70</td>\n",
       "      <td>2.5670</td>\n",
       "      <td>0.7150</td>\n",
       "      <td>0.0855</td>\n",
       "      <td>2.3966</td>\n",
       "      <td>2.7375</td>\n",
       "    </tr>\n",
       "  </tbody>\n",
       "</table>\n",
       "</div>"
      ],
      "text/plain": [
       "           N    Mean      SD      SE  95% Conf.  Interval\n",
       "Duration                                                 \n",
       "4.0       12  1.6445  0.5534  0.1598     1.2929    1.9961\n",
       "168.0     70  2.5670  0.7150  0.0855     2.3966    2.7375"
      ]
     },
     "execution_count": 17,
     "metadata": {},
     "output_type": "execute_result"
    }
   ],
   "source": [
    "# All N results by duration \n",
    "dNall = df2[(df2.Stage == 'f')&(np.isnan(df2.N)!= True)&(df2.Treatment != 'Acclimation')&(df2.Comment != 'Exclude')&(df2.Week <= 2)]\n",
    "rp.summary_cont(dNall['N'].groupby(dNall['Duration']))"
   ]
  },
  {
   "cell_type": "code",
   "execution_count": 18,
   "metadata": {},
   "outputs": [
    {
     "name": "stdout",
     "output_type": "stream",
     "text": [
      "\n",
      "\n"
     ]
    },
    {
     "data": {
      "text/html": [
       "<div>\n",
       "<style scoped>\n",
       "    .dataframe tbody tr th:only-of-type {\n",
       "        vertical-align: middle;\n",
       "    }\n",
       "\n",
       "    .dataframe tbody tr th {\n",
       "        vertical-align: top;\n",
       "    }\n",
       "\n",
       "    .dataframe thead th {\n",
       "        text-align: right;\n",
       "    }\n",
       "</style>\n",
       "<table border=\"1\" class=\"dataframe\">\n",
       "  <thead>\n",
       "    <tr style=\"text-align: right;\">\n",
       "      <th></th>\n",
       "      <th>N</th>\n",
       "      <th>Mean</th>\n",
       "      <th>SD</th>\n",
       "      <th>SE</th>\n",
       "      <th>95% Conf.</th>\n",
       "      <th>Interval</th>\n",
       "    </tr>\n",
       "    <tr>\n",
       "      <th>Duration</th>\n",
       "      <th></th>\n",
       "      <th></th>\n",
       "      <th></th>\n",
       "      <th></th>\n",
       "      <th></th>\n",
       "      <th></th>\n",
       "    </tr>\n",
       "  </thead>\n",
       "  <tbody>\n",
       "    <tr>\n",
       "      <th>4.0</th>\n",
       "      <td>12</td>\n",
       "      <td>0.0067</td>\n",
       "      <td>0.0561</td>\n",
       "      <td>0.0162</td>\n",
       "      <td>-0.0289</td>\n",
       "      <td>0.0424</td>\n",
       "    </tr>\n",
       "    <tr>\n",
       "      <th>168.0</th>\n",
       "      <td>70</td>\n",
       "      <td>0.3058</td>\n",
       "      <td>0.1242</td>\n",
       "      <td>0.0148</td>\n",
       "      <td>0.2762</td>\n",
       "      <td>0.3354</td>\n",
       "    </tr>\n",
       "  </tbody>\n",
       "</table>\n",
       "</div>"
      ],
      "text/plain": [
       "           N    Mean      SD      SE  95% Conf.  Interval\n",
       "Duration                                                 \n",
       "4.0       12  0.0067  0.0561  0.0162    -0.0289    0.0424\n",
       "168.0     70  0.3058  0.1242  0.0148     0.2762    0.3354"
      ]
     },
     "execution_count": 18,
     "metadata": {},
     "output_type": "execute_result"
    }
   ],
   "source": [
    "# All fertilization efficiency results by duration\n",
    "dEffall = df2[(df2.Stage == 'f')&(np.isnan(df2.Fertilizing_Efficiency)!= True)&(df2.Treatment != 'Acclimation')&(df2.Comment != 'Exclude')&(df2.Week <= 2)]\n",
    "rp.summary_cont(dEffall['Fertilizing_Efficiency'].groupby(dEffall['Duration']))"
   ]
  },
  {
   "cell_type": "code",
   "execution_count": 19,
   "metadata": {},
   "outputs": [
    {
     "data": {
      "text/plain": [
       "MannwhitneyuResult(statistic=113.0, pvalue=1.717273290605612e-05)"
      ]
     },
     "execution_count": 19,
     "metadata": {},
     "output_type": "execute_result"
    }
   ],
   "source": [
    "# Mann-Whitney U Test between durations of 4 and 168 hours - GR\n",
    "stats.mannwhitneyu(dall[(dall.Duration == 4)].GR, dall[(dall.Duration == 168)].GR)"
   ]
  },
  {
   "cell_type": "code",
   "execution_count": 20,
   "metadata": {},
   "outputs": [
    {
     "data": {
      "text/plain": [
       "MannwhitneyuResult(statistic=120.0, pvalue=4.2607052009232235e-05)"
      ]
     },
     "execution_count": 20,
     "metadata": {},
     "output_type": "execute_result"
    }
   ],
   "source": [
    "# Mann-Whitney U Test between durations of 4 and 168 hours - N\n",
    "stats.mannwhitneyu(dNall[(dNall.Duration == 4)].N, dNall[(dNall.Duration == 168)].N)"
   ]
  },
  {
   "cell_type": "code",
   "execution_count": 21,
   "metadata": {},
   "outputs": [
    {
     "data": {
      "text/plain": [
       "MannwhitneyuResult(statistic=7.0, pvalue=3.120988629273312e-08)"
      ]
     },
     "execution_count": 21,
     "metadata": {},
     "output_type": "execute_result"
    }
   ],
   "source": [
    "# Mann-Whitney U Test between durations of 4 and 168 hours - fertilizing efficiency\n",
    "stats.mannwhitneyu(dEffall[(dEffall.Duration == 4)].Fertilizing_Efficiency, dEffall[(dEffall.Duration == 168)].Fertilizing_Efficiency)"
   ]
  },
  {
   "cell_type": "code",
   "execution_count": 22,
   "metadata": {},
   "outputs": [
    {
     "data": {
      "image/png": "[encoded data removed]",
      "text/plain": [
       "<Figure size 360x360 with 1 Axes>"
      ]
     },
     "metadata": {
      "needs_background": "light"
     },
     "output_type": "display_data"
    }
   ],
   "source": [
    "# DGR in different durations - all weeks together\n",
    "sns.set_context(\"paper\", rc={\"font.size\":16,\"axes.titlesize\":16,\"axes.labelsize\":16}) \n",
    "\n",
    "# combined strip plot - all data\n",
    "fig = sns.catplot(x = 'Duration', y = 'GR', data = dall,kind='box')#.set(xlabel='Fertilization Duration\\n [hours]', ylabel='Daily growth rate')\n",
    "fig.set_xticklabels([4, 168],fontdict= { 'fontsize': 14, 'fontweight':'bold','color': 'k'})\n",
    "fig = sns.stripplot(x = 'Duration', y = 'GR', data = dall,color='k').set(xlabel='Fertilization Duration\\n [hours]', ylabel='Daily growth rate')"
   ]
  },
  {
   "cell_type": "code",
   "execution_count": 23,
   "metadata": {},
   "outputs": [
    {
     "data": {
      "text/plain": [
       "<seaborn.axisgrid.FacetGrid at 0x22d71b286d8>"
      ]
     },
     "execution_count": 23,
     "metadata": {},
     "output_type": "execute_result"
    },
    {
     "data": {
      "image/png": "[encoded data removed]",
      "text/plain": [
       "<Figure size 360x360 with 1 Axes>"
      ]
     },
     "metadata": {
      "needs_background": "light"
     },
     "output_type": "display_data"
    }
   ],
   "source": [
    "# DGR in different durations - all weeks together - no scatter\n",
    "sns.set_context(\"paper\", rc={\"font.size\":16,\"axes.titlesize\":16,\"axes.labelsize\":16}) \n",
    "\n",
    "# combined strip plot - all data\n",
    "fig = sns.catplot(x = 'Duration', y = 'GR', data = dall,kind='box',palette=sns.color_palette(['dodgerblue', 'lightgreen'])).set(xlabel='Fertilization Duration\\n [hours]', ylabel='Daily growth rate\\n[% $day^{-1}$]')\n",
    "fig.set_xticklabels([4, 168],fontdict= { 'fontsize': 14, 'fontweight':'bold','color': 'k'})\n",
    "#fig = sns.stripplot(x = 'Duration', y = 'DGR', data = dall,color='k').set(xlabel='Fertilization Duration\\n [hours]', ylabel='Daily growth rate')"
   ]
  },
  {
   "cell_type": "code",
   "execution_count": 24,
   "metadata": {},
   "outputs": [
    {
     "data": {
      "image/png": "[encoded data removed]",
      "text/plain": [
       "<Figure size 360x360 with 1 Axes>"
      ]
     },
     "metadata": {
      "needs_background": "light"
     },
     "output_type": "display_data"
    }
   ],
   "source": [
    "# N in different durations - all weeks together\n",
    "sns.set_context(\"paper\", rc={\"font.size\":16,\"axes.titlesize\":16,\"axes.labelsize\":16}) \n",
    "\n",
    "# combined strip plot - all data\n",
    "fig = sns.catplot(x = 'Duration', y = 'N', data = dNall,kind='box')#.set(xlabel='Fertilization Duration\\n [hours]', ylabel='Daily growth rate')\n",
    "fig.set_xticklabels([4, 168],fontdict= { 'fontsize': 14, 'fontweight':'bold','color': 'k'})\n",
    "fig = sns.stripplot(x = 'Duration', y = 'N', data = dNall,color='k').set(xlabel='Fertilization Duration\\n [hours]', ylabel='Internal N\\n [%g N / g DW]')"
   ]
  },
  {
   "cell_type": "code",
   "execution_count": 25,
   "metadata": {},
   "outputs": [
    {
     "data": {
      "text/plain": [
       "<seaborn.axisgrid.FacetGrid at 0x22d71b5cdd8>"
      ]
     },
     "execution_count": 25,
     "metadata": {},
     "output_type": "execute_result"
    },
    {
     "data": {
      "image/png": "[encoded data removed]",
      "text/plain": [
       "<Figure size 360x360 with 1 Axes>"
      ]
     },
     "metadata": {
      "needs_background": "light"
     },
     "output_type": "display_data"
    }
   ],
   "source": [
    "# N in different durations - all weeks together - no scatter\n",
    "sns.set_context(\"paper\", rc={\"font.size\":16,\"axes.titlesize\":16,\"axes.labelsize\":16}) \n",
    "\n",
    "# combined strip plot - all data\n",
    "fig = sns.catplot(x = 'Duration', y = 'N', data = dNall,kind='box',palette=sns.color_palette(['dodgerblue', 'lightgreen'])).set(xlabel='Fertilization Duration\\n [hours]', ylabel='Internal N\\n [%g N $g^{-1}$ DW]')\n",
    "fig.set_xticklabels([4, 168],fontdict= { 'fontsize': 14, 'fontweight':'bold','color': 'k'})\n",
    "\n",
    "#fig = sns.stripplot(x = 'Duration', y = 'N', data = dNall,color='k').set(xlabel='Fertilization Duration\\n [hours]', ylabel='Internal N\\n [%g N / g DW]')"
   ]
  },
  {
   "cell_type": "code",
   "execution_count": null,
   "metadata": {},
   "outputs": [],
   "source": [
    "# Fertilization efficiency in different durations - all weeks together\n",
    "sns.set_context(\"paper\", rc={\"font.size\":16,\"axes.titlesize\":16,\"axes.labelsize\":16}) \n",
    "\n",
    "# combined strip plot - all data\n",
    "fig = sns.catplot(x = 'Duration', y = 'Fertilizing_Efficiency', data = dEffall,kind='box')#.set(xlabel='Fertilization Duration\\n [hours]', ylabel='Daily growth rate')\n",
    "fig.set_xticklabels([4, 168],fontdict= { 'fontsize': 14, 'fontweight':'bold','color': 'k'})\n",
    "fig = sns.stripplot(x = 'Duration', y = 'Fertilizing_Efficiency', data = dEffall,color='k').set(xlabel='Fertilization Duration\\n [hours]', ylabel='Fertilizing Efficiency \\n [g N assimilated / g N added]')"
   ]
  },
  {
   "cell_type": "code",
   "execution_count": null,
   "metadata": {},
   "outputs": [],
   "source": [
    "# Fertilization efficiency in different durations - all weeks together - no scatter\n",
    "sns.set_context(\"paper\", rc={\"font.size\":16,\"axes.titlesize\":16,\"axes.labelsize\":16}) \n",
    "\n",
    "# combined strip plot - all data\n",
    "fig = sns.catplot(x = 'Duration', y = 'Fertilizing_Efficiency', data = dEffall,kind='box',palette=sns.color_palette(['dodgerblue', 'lightgreen'])).set(xlabel='Fertilization Duration\\n [hours]', ylabel='Fertilizing Efficiency \\n [g N assimilated $g^{-1}$ N added]')\n",
    "fig.set_xticklabels([4, 168],fontdict= { 'fontsize': 14, 'fontweight':'bold','color': 'k'})\n",
    "#fig = sns.stripplot(x = 'Duration', y = 'Fertilizing_Efficiency', data = dEffall,color='k').set(xlabel='Fertilization Duration\\n [hours]', ylabel='Fertilizing Efficiency \\n [g N assimilated / g N added]')"
   ]
  },
  {
   "cell_type": "code",
   "execution_count": null,
   "metadata": {},
   "outputs": [],
   "source": [
    "# All DGR results by duration by week\n",
    "for i in [1,2]:\n",
    "    print('\\nweek: ' + str(i) + '\\n')\n",
    "    print(rp.summary_cont(dall[(dall.Week == i)]['GR'].groupby(dall[(dall.Week == i)]['Duration'])))"
   ]
  },
  {
   "cell_type": "code",
   "execution_count": null,
   "metadata": {},
   "outputs": [],
   "source": [
    "# All N results by duration by week\n",
    "for i in [1,2]:\n",
    "    print('\\nweek: ' + str(i) + '\\n')\n",
    "    print(rp.summary_cont(dNall[(dNall.Week == i)]['N'].groupby(dNall[(dNall.Week == i)]['Duration'])))\n"
   ]
  },
  {
   "cell_type": "code",
   "execution_count": null,
   "metadata": {},
   "outputs": [],
   "source": [
    "# All fertilization efficiency results by duration by week\n",
    "for i in [1,2]:\n",
    "    print('\\nweek: ' + str(i) + '\\n')\n",
    "    print(rp.summary_cont(dEffall[(dEffall.Week == i)]['Fertilizing_Efficiency'].groupby(dEffall[(dEffall.Week == i)]['Duration'])))"
   ]
  },
  {
   "cell_type": "code",
   "execution_count": null,
   "metadata": {},
   "outputs": [],
   "source": [
    "# DGR/N/Fertilizing Efficiency in different durations - by week\n",
    "\n",
    "for i in [1,2]:\n",
    "    # Mann-Whitney U Test between durations of 4 and 168 hours - DGR\n",
    "    print('\\nWeek ' + str(i) + ':\\n')\n",
    "    a = stats.mannwhitneyu(dall[(dall.Week == i)&(dall.Duration == 4)].DGR, dall[(dall.Week == i)&(dall.Duration == 168)].DGR)\n",
    "    print('DGR: ')\n",
    "    print(a)\n",
    "\n",
    "    # Mann-Whitney U Test between durations of 4 and 168 hours - N\n",
    "    b = stats.mannwhitneyu(dNall[(dNall.Week == i)&(dNall.Duration == 4)].N, dNall[(dNall.Week == i)&(dNall.Duration == 168)].N)\n",
    "    print('\\nN: ')\n",
    "    print(b)\n",
    "       \n",
    "    # Mann-Whitney U Test between durations of 4 and 168 hours - fertilizing efficiency\n",
    "    c = stats.mannwhitneyu(dEffall[(dEffall.Week == i)&(dEffall.Duration == 4)].Fertilizing_Efficiency, dEffall[(dEffall.Week == i)&(dEffall.Duration == 168)].Fertilizing_Efficiency)\n",
    "    print('\\nFertilizing Efficiency: ')\n",
    "    print(c)"
   ]
  },
  {
   "cell_type": "code",
   "execution_count": null,
   "metadata": {},
   "outputs": [],
   "source": [
    "# GR/N/Fertilizing Efficiency in different durations - by week\n",
    "\n",
    "for i in [1,2]:\n",
    "    # Mann-Whitney U Test between durations of 4 and 168 hours - DGR\n",
    "    print('\\nWeek ' + str(i) + ':\\n')\n",
    "    a = stats.mannwhitneyu(dall[(dall.Week == i)&(dall.Duration == 4)].GR, dall[(dall.Week == i)&(dall.Duration == 168)].GR)\n",
    "    print('DGR: ')\n",
    "    print(a)\n",
    "\n",
    "    # Mann-Whitney U Test between durations of 4 and 168 hours - N\n",
    "    b = stats.mannwhitneyu(dNall[(dNall.Week == i)&(dNall.Duration == 4)].N, dNall[(dNall.Week == i)&(dNall.Duration == 168)].N)\n",
    "    print('\\nN: ')\n",
    "    print(b)\n",
    "       \n",
    "    # Mann-Whitney U Test between durations of 4 and 168 hours - fertilizing efficiency\n",
    "    c = stats.mannwhitneyu(dEffall[(dEffall.Week == i)&(dEffall.Duration == 4)].Fertilizing_Efficiency, dEffall[(dEffall.Week == i)&(dEffall.Duration == 168)].Fertilizing_Efficiency)\n",
    "    print('\\nFertilizing Efficiency: ')\n",
    "    print(c)"
   ]
  },
  {
   "cell_type": "code",
   "execution_count": null,
   "metadata": {},
   "outputs": [],
   "source": [
    "# DGR/N/Fertilizing Efficiency in different weeks - by duration\n",
    "\n",
    "for i in [4,168]:\n",
    "    # Mann-Whitney U Test between durations of 4 and 168 hours - DGR\n",
    "    print('\\nDuration ' + str(i) + ':\\n')\n",
    "    a = stats.mannwhitneyu(dall[(dall.Duration == i)&(dall.Week == 1)].DGR, dall[(dall.Duration == i)&(dall.Week == 2)].DGR)\n",
    "    print('DGR: ')\n",
    "    print(a)\n",
    "\n",
    "    # Mann-Whitney U Test between durations of 4 and 168 hours - N\n",
    "    b = stats.mannwhitneyu(dNall[(dNall.Duration == i)&(dNall.Week == 1)].N, dNall[(dNall.Duration == i)&(dNall.Week == 2)].N)\n",
    "    print('\\nN: ')\n",
    "    print(b)\n",
    "       \n",
    "    # Mann-Whitney U Test between durations of 4 and 168 hours - fertilizing efficiency\n",
    "    c = stats.mannwhitneyu(dEffall[(dEffall.Duration == i)&(dEffall.Week == 1)].Fertilizing_Efficiency, dEffall[(dEffall.Duration == i)&(dEffall.Week == 2)].Fertilizing_Efficiency)\n",
    "    print('\\nFertilizing Efficiency: ')\n",
    "    print(c)"
   ]
  },
  {
   "cell_type": "code",
   "execution_count": null,
   "metadata": {},
   "outputs": [],
   "source": [
    "# GR/N/Fertilizing Efficiency in different weeks - by duration\n",
    "\n",
    "for i in [4,168]:\n",
    "    # Mann-Whitney U Test between durations of 4 and 168 hours - DGR\n",
    "    print('\\nDuration ' + str(i) + ':\\n')\n",
    "    a = stats.mannwhitneyu(dall[(dall.Duration == i)&(dall.Week == 1)].GR, dall[(dall.Duration == i)&(dall.Week == 2)].GR)\n",
    "    print('DGR: ')\n",
    "    print(a)\n",
    "\n",
    "    # Mann-Whitney U Test between durations of 4 and 168 hours - N\n",
    "    b = stats.mannwhitneyu(dNall[(dNall.Duration == i)&(dNall.Week == 1)].N, dNall[(dNall.Duration == i)&(dNall.Week == 2)].N)\n",
    "    print('\\nN: ')\n",
    "    print(b)\n",
    "       \n",
    "    # Mann-Whitney U Test between durations of 4 and 168 hours - fertilizing efficiency\n",
    "    c = stats.mannwhitneyu(dEffall[(dEffall.Duration == i)&(dEffall.Week == 1)].Fertilizing_Efficiency, dEffall[(dEffall.Duration == i)&(dEffall.Week == 2)].Fertilizing_Efficiency)\n",
    "    print('\\nFertilizing Efficiency: ')\n",
    "    print(c)"
   ]
  },
  {
   "cell_type": "code",
   "execution_count": null,
   "metadata": {},
   "outputs": [],
   "source": [
    "# DGR in different durations - by week\n",
    "sns.set_context(\"paper\", rc={\"font.size\":16,\"axes.titlesize\":16,\"axes.labelsize\":16}) \n",
    "\n",
    "# combined strip plot - all data\n",
    "for i in [1,2]:\n",
    "    fig = sns.catplot(x = 'Duration', y = 'GR', data = dall[(dall.Week == i)],kind='box')#.set(xlabel='Fertilization Duration\\n [hours]', ylabel='Daily growth rate')\n",
    "    fig.set_xticklabels([4, 168],fontdict= { 'fontsize': 14, 'fontweight':'bold','color': 'k'})\n",
    "    fig = sns.stripplot(x = 'Duration', y = 'GR', data = dall[(dall.Week == i)],color='k').set(xlabel='Fertilization Duration\\n [hours]', ylabel='Daily growth rate')"
   ]
  },
  {
   "cell_type": "code",
   "execution_count": null,
   "metadata": {},
   "outputs": [],
   "source": [
    "# DGR in different durations - by week - no scatter, one plot\n",
    "sns.set_context(\"paper\", rc={\"font.size\":16,\"axes.titlesize\":16,\"axes.labelsize\":16}) \n",
    "\n",
    "# combined strip plot - all data\n",
    "#for i in [1,2]:\n",
    "fig = sns.catplot(x = 'Duration', y = 'GR', data = dall,kind='box',hue='Week',palette=sns.color_palette(['dodgerblue', 'lightgreen'])).set(xlabel='Fertilization Duration\\n [hours]', ylabel='Daily growth rate\\n[% $day^{-1}$]')\n",
    "fig.set_xticklabels([4, 168],fontdict= { 'fontsize': 14, 'fontweight':'bold','color': 'k'})\n",
    "#fig = sns.stripplot(x = 'Duration', y = 'DGR', data = dall[(dall.Week == i)],color='k').set(xlabel='Fertilization Duration\\n [hours]', ylabel='Daily growth rate')"
   ]
  },
  {
   "cell_type": "code",
   "execution_count": null,
   "metadata": {},
   "outputs": [],
   "source": [
    "# DGR in different durations - by week - no scatter, one plot\n",
    "sns.set_context(\"paper\", rc={\"font.size\":16,\"axes.titlesize\":16,\"axes.labelsize\":16}) \n",
    "\n",
    "# combined strip plot - all data\n",
    "#for i in [1,2]:\n",
    "fig = sns.catplot(x = 'Duration', y = 'GR', data = dall,kind='box',hue='Week',palette=sns.color_palette(['dodgerblue', 'lightgreen'])).set(xlabel='Fertilization Duration\\n [hours]', ylabel='Daily growth rate')\n",
    "fig.set_xticklabels([4, 168],fontdict= { 'fontsize': 14, 'fontweight':'bold','color': 'k'})\n",
    "    #fig = sns.stripplot(x = 'Duration', y = 'DGR', data = dall[(dall.Week == i)],color='k').set(xlabel='Fertilization Duration\\n [hours]', ylabel='Daily growth rate')"
   ]
  },
  {
   "cell_type": "code",
   "execution_count": null,
   "metadata": {},
   "outputs": [],
   "source": [
    "# N in different durations - by week\n",
    "sns.set_context(\"paper\", rc={\"font.size\":16,\"axes.titlesize\":16,\"axes.labelsize\":16}) \n",
    "\n",
    "# combined strip plot - all data\n",
    "for i in [1,2]:\n",
    "    fig = sns.catplot(x = 'Duration', y = 'N', data = dNall[(dNall.Week == i)],kind='box')#.set(xlabel='Fertilization Duration\\n [hours]', ylabel='Daily growth rate')\n",
    "    fig.set_xticklabels([4, 168],fontdict= { 'fontsize': 14, 'fontweight':'bold','color': 'k'})\n",
    "    fig = sns.stripplot(x = 'Duration', y = 'N', data = dNall[(dNall.Week == i)],color='k').set(xlabel='Fertilization Duration\\n [hours]', ylabel='Internal N\\n [%g N / g DW]')"
   ]
  },
  {
   "cell_type": "code",
   "execution_count": null,
   "metadata": {},
   "outputs": [],
   "source": [
    "# N in different durations - by week\n",
    "sns.set_context(\"paper\", rc={\"font.size\":16,\"axes.titlesize\":16,\"axes.labelsize\":16}) \n",
    "\n",
    "# combined strip plot - all data\n",
    "#for i in [1,2]:\n",
    "fig = sns.catplot(x = 'Duration', y = 'N', data = dNall,kind='box',hue='Week',palette=sns.color_palette(['dodgerblue', 'lightgreen'])).set(xlabel='Fertilization Duration\\n [hours]', ylabel='Internal N\\n [%g N $g^{-1}$ DW]')\n",
    "fig.set_xticklabels([4, 168],fontdict= { 'fontsize': 14, 'fontweight':'bold','color': 'k'})\n",
    "#fig = sns.stripplot(x = 'Duration', y = 'N', data = dNall[(dNall.Week == i)],color='k').set(xlabel='Fertilization Duration\\n [hours]', ylabel='Internal N\\n [%g N / g DW]')"
   ]
  },
  {
   "cell_type": "code",
   "execution_count": null,
   "metadata": {},
   "outputs": [],
   "source": [
    "# Fertilizing Efficiency in different durations - by week\n",
    "sns.set_context(\"paper\", rc={\"font.size\":16,\"axes.titlesize\":16,\"axes.labelsize\":16}) \n",
    "\n",
    "# combined strip plot - all data\n",
    "for i in [1,2]:\n",
    "    fig = sns.catplot(x = 'Duration', y = 'Fertilizing_Efficiency', data = dEffall[(dEffall.Week == i)],kind='box',palette=sns.color_palette(['dodgerblue', 'lightgreen']))#.set(xlabel='Fertilization Duration\\n [hours]', ylabel='Daily growth rate')\n",
    "    fig.set_xticklabels([4, 168],fontdict= { 'fontsize': 14, 'fontweight':'bold','color': 'k'})\n",
    "    fig = sns.stripplot(x = 'Duration', y = 'Fertilizing_Efficiency', data = dEffall[(dEffall.Week == i)],color='k').set(xlabel='Fertilization Duration\\n [hours]', ylabel='Fertilizing Efficiency \\n [g N assimilated / g N added]')"
   ]
  },
  {
   "cell_type": "code",
   "execution_count": null,
   "metadata": {},
   "outputs": [],
   "source": [
    "# Fertilizing Efficiency in different durations - by week\n",
    "sns.set_context(\"paper\", rc={\"font.size\":16,\"axes.titlesize\":16,\"axes.labelsize\":16}) \n",
    "\n",
    "# combined strip plot - all data\n",
    "#for i in [1,2]:\n",
    "fig = sns.catplot(x = 'Duration', y = 'Fertilizing_Efficiency', data = dEffall,kind='box',hue='Week',palette=sns.color_palette(['dodgerblue', 'lightgreen'])).set(xlabel='Fertilization Duration\\n [hours]', ylabel='Fertilizing Efficiency \\n [g N assimilated $g^{-1}$ N added]')\n",
    "fig.set_xticklabels([4, 168],fontdict= { 'fontsize': 14, 'fontweight':'bold','color': 'k'})\n",
    "#fig = sns.stripplot(x = 'Duration', y = 'Fertilizing_Efficiency', data = dEffall[(dEffall.Week == i)],color='k').set(xlabel='Fertilization Duration\\n [hours]', ylabel='Fertilizing Efficiency \\n [g N assimilated / g N added]')"
   ]
  },
  {
   "cell_type": "code",
   "execution_count": null,
   "metadata": {},
   "outputs": [],
   "source": [
    "# Weekly total added N\n",
    "dall = df2[(df2.Stage == 'f')&(np.isnan(df2.DW)!= True)&(df2.Treatment != 'Acclimation')&(df2.Comment != 'Exclude')&(df2.Week <= 3)]\n",
    "dNall = df2[(df2.Stage == 'f')&(np.isnan(df2.N)!= True)&(df2.Treatment != 'Acclimation')&(df2.Comment != 'Exclude')&(df2.Week <= 3)]\n",
    "dEffall = df2[(df2.Stage == 'f')&(np.isnan(df2.Fertilizing_Efficiency)!= True)&(df2.Treatment != 'Acclimation')&(df2.Comment != 'Exclude')&(df2.Week <= 3)]"
   ]
  },
  {
   "cell_type": "code",
   "execution_count": null,
   "metadata": {},
   "outputs": [],
   "source": [
    "# data summary of duration = 168, by flux (DGR)\n",
    "dall168 = dall[(dall['Duration'] == 168)]\n",
    "rp.summary_cont(dall168['GR'].groupby(dall168['Flux']))"
   ]
  },
  {
   "cell_type": "code",
   "execution_count": null,
   "metadata": {},
   "outputs": [],
   "source": [
    "# data summary of duration = 168, by flux (N)\n",
    "dNall168 = dNall[(dNall['Duration'] == 168)]\n",
    "rp.summary_cont(dNall168['N'].groupby(dNall168['Flux']))"
   ]
  },
  {
   "cell_type": "code",
   "execution_count": null,
   "metadata": {},
   "outputs": [],
   "source": [
    "# data summary of duration = 168, by flux (Fertilizing Efficiency)\n",
    "dEffall168 = dEffall[(dEffall['Duration'] == 168)]\n",
    "rp.summary_cont(dEffall168['Fertilizing_Efficiency'].groupby(dEffall168['Flux']))"
   ]
  },
  {
   "cell_type": "code",
   "execution_count": null,
   "metadata": {},
   "outputs": [],
   "source": [
    "# kruskal test - comparing DGR in different fluxes\n",
    "\n",
    "sp.stats.kruskal(dall168[(dall168['Flux'] == 1000)]['DGR'],\n",
    "                dall168[(dall168['Flux'] == 1500)]['DGR'],\n",
    "                dall168[(dall168['Flux'] == 2000)]['DGR'])\n",
    "\n",
    "# There is a significant difference between fluxes"
   ]
  },
  {
   "cell_type": "code",
   "execution_count": null,
   "metadata": {},
   "outputs": [],
   "source": [
    "# kruskal test - comparing N in different fluxes\n",
    "\n",
    "sp.stats.kruskal(dNall168[(dNall168['Flux'] == 1000)]['N'],\n",
    "                dNall168[(dNall168['Flux'] == 1500)]['N'],\n",
    "                dNall168[(dNall168['Flux'] == 2000)]['N'])\n",
    "\n",
    "# There is a significant difference between fluxes"
   ]
  },
  {
   "cell_type": "code",
   "execution_count": null,
   "metadata": {},
   "outputs": [],
   "source": [
    "# kruskal test - comparing Fertilizing Efficiencies in different fluxes\n",
    "\n",
    "sp.stats.kruskal(dEffall168[(dEffall168['Flux'] == 1000)]['Fertilizing_Efficiency'],\n",
    "                dEffall168[(dEffall168['Flux'] == 1500)]['Fertilizing_Efficiency'],\n",
    "                dEffall168[(dEffall168['Flux'] == 2000)]['Fertilizing_Efficiency'])\n",
    "\n",
    "# There is a significant difference between fluxes"
   ]
  },
  {
   "cell_type": "code",
   "execution_count": null,
   "metadata": {},
   "outputs": [],
   "source": [
    "# post - hoc multiple comparisons between fluxes - DGR\n",
    "\n",
    "data = [dall168[(dall168['Flux'] == 1000)]['DGR'],\n",
    "                dall168[(dall168['Flux'] == 1500)]['DGR'],\n",
    "                dall168[(dall168['Flux'] == 2000)]['DGR']]\n",
    "\n",
    "scp.posthoc_dunn(data, p_adjust = 'bonferroni')\n",
    "\n",
    "#results: Significan difference between:\n",
    "#1000 and 2000"
   ]
  },
  {
   "cell_type": "code",
   "execution_count": null,
   "metadata": {},
   "outputs": [],
   "source": [
    "# post - hoc multiple comparisons between fluxes - N\n",
    "\n",
    "data = [dNall168[(dNall168['Flux'] == 1000)]['N'],\n",
    "                dNall168[(dNall168['Flux'] == 1500)]['N'],\n",
    "                dNall168[(dNall168['Flux'] == 2000)]['N']]\n",
    "\n",
    "scp.posthoc_dunn(data, p_adjust = 'bonferroni')\n",
    "\n",
    "#results: Significan difference between:\n",
    "#1000 and 1500 and 1000 and 2000"
   ]
  },
  {
   "cell_type": "code",
   "execution_count": null,
   "metadata": {},
   "outputs": [],
   "source": [
    "# post - hoc multiple comparisons between fluxes - Fertilizing Efficiency\n",
    "\n",
    "data = [dEffall168[(dEffall168['Flux'] == 1000)]['Fertilizing_Efficiency'],\n",
    "                dEffall168[(dEffall168['Flux'] == 1500)]['Fertilizing_Efficiency'],\n",
    "                dEffall168[(dEffall168['Flux'] == 2000)]['Fertilizing_Efficiency']]\n",
    "\n",
    "scp.posthoc_dunn(data, p_adjust = 'bonferroni')\n",
    "\n",
    "#results: Significan difference between:\n",
    "#1000 and 2000"
   ]
  },
  {
   "cell_type": "code",
   "execution_count": null,
   "metadata": {},
   "outputs": [],
   "source": [
    "# DGR in different fluxes - all weeks together\n",
    "sns.set_context(\"paper\", rc={\"font.size\":16,\"axes.titlesize\":16,\"axes.labelsize\":16}) \n",
    "\n",
    "# combined strip plot - all data\n",
    "fig = sns.catplot(x = 'Flux', y = 'DGR', data = dall168,kind='box')#.set(xlabel='Fertilization Duration\\n [hours]', ylabel='Daily growth rate')\n",
    "fig.set_xticklabels([1000, 1500, 2000],fontdict= { 'fontsize': 14, 'fontweight':'bold','color': 'k'})\n",
    "fig = sns.stripplot(x = 'Flux', y = 'DGR', data = dall168,color='k').set(xlabel='Total weekly nutrient addition\\n [µM NH4/week]', ylabel='Daily growth rate')"
   ]
  },
  {
   "cell_type": "code",
   "execution_count": null,
   "metadata": {},
   "outputs": [],
   "source": [
    "# DGR in different fluxes - all weeks together - without scatter\n",
    "sns.set_context(\"paper\", rc={\"font.size\":16,\"axes.titlesize\":16,\"axes.labelsize\":16}) \n",
    "\n",
    "# combined strip plot - all data\n",
    "fig = sns.catplot(x = 'Flux', y = 'DGR', data = dall168,kind='box').set(xlabel='Total weekly nutrient addition\\n [µM NH4 $week^{-1}$]', ylabel='Daily growth rate')\n",
    "fig.set_xticklabels([1000, 1500, 2000],fontdict= { 'fontsize': 14, 'fontweight':'bold','color': 'k'})\n",
    "#fig = sns.stripplot(x = 'Flux', y = 'DGR', data = dall168,color='k').set(xlabel='Total weekly nutrient addition\\n [µM NH4/week]', ylabel='Daily growth rate')"
   ]
  },
  {
   "cell_type": "code",
   "execution_count": null,
   "metadata": {},
   "outputs": [],
   "source": [
    "# DGR in different fluxes - all weeks together - without scatter\n",
    "sns.set_context(\"paper\", rc={\"font.size\":16,\"axes.titlesize\":16,\"axes.labelsize\":16}) \n",
    "\n",
    "# combined strip plot - all data\n",
    "fig = sns.catplot(x = 'Flux', y = 'GR', data = dall168,kind='box',palette=sns.color_palette(['dodgerblue', 'orange','lightgreen'])).set(xlabel='Total weekly nutrient addition\\n [µM NH4 $week^{-1}$]', ylabel='Daily growth rate\\n[% $day^{-1}$]')\n",
    "fig.set_xticklabels([1000, 1500, 2000],fontdict= { 'fontsize': 14, 'fontweight':'bold','color': 'k'})\n",
    "#fig = sns.stripplot(x = 'Flux', y = 'DGR', data = dall168,color='k').set(xlabel='Total weekly nutrient addition\\n [µM NH4/week]', ylabel='Daily growth rate')"
   ]
  },
  {
   "cell_type": "code",
   "execution_count": null,
   "metadata": {},
   "outputs": [],
   "source": [
    "# N in different fluxes - all weeks together\n",
    "sns.set_context(\"paper\", rc={\"font.size\":16,\"axes.titlesize\":16,\"axes.labelsize\":16}) \n",
    "\n",
    "# combined strip plot - all data\n",
    "fig = sns.catplot(x = 'Flux', y = 'N', data = dNall168,kind='box')#.set(xlabel='Fertilization Duration\\n [hours]', ylabel='Daily growth rate')\n",
    "fig.set_xticklabels([1000, 1500, 2000],fontdict= { 'fontsize': 14, 'fontweight':'bold','color': 'k'})\n",
    "fig = sns.stripplot(x = 'Flux', y = 'N', data = dNall168,color='k').set(xlabel='Total weekly nutrient addition\\n [µM NH4 $week^{-1}$]', ylabel='Internal N\\n [%g N / g DW]')"
   ]
  },
  {
   "cell_type": "code",
   "execution_count": null,
   "metadata": {},
   "outputs": [],
   "source": [
    "# N in different fluxes - all weeks together - no scatter\n",
    "sns.set_context(\"paper\", rc={\"font.size\":16,\"axes.titlesize\":16,\"axes.labelsize\":16}) \n",
    "\n",
    "# combined strip plot - all data\n",
    "fig = sns.catplot(x = 'Flux', y = 'N', data = dNall168,kind='box',palette=sns.color_palette(['dodgerblue', 'orange','lightgreen'])).set(xlabel='Total weekly nutrient addition\\n [µM NH4 $week^{-1}$]', ylabel='Internal N\\n [%g N $g^{-1}$ DW]')\n",
    "fig.set_xticklabels([1000, 1500, 2000],fontdict= { 'fontsize': 14, 'fontweight':'bold','color': 'k'})\n",
    "#fig = sns.stripplot(x = 'Flux', y = 'N', data = dNall168,color='k').set(xlabel='Total weekly nutrient addition\\n [µM NH4/week]', ylabel='Internal N\\n [%g N / g DW]')"
   ]
  },
  {
   "cell_type": "code",
   "execution_count": null,
   "metadata": {},
   "outputs": [],
   "source": [
    "# N in different fluxes - all weeks together\n",
    "sns.set_context(\"paper\", rc={\"font.size\":16,\"axes.titlesize\":16,\"axes.labelsize\":16}) \n",
    "\n",
    "# combined strip plot - all data\n",
    "fig = sns.catplot(x = 'Flux', y = 'Fertilizing_Efficiency', data = dNall168,kind='box')#.set(xlabel='Fertilization Duration\\n [hours]', ylabel='Daily growth rate')\n",
    "fig.set_xticklabels([1000, 1500, 2000],fontdict= { 'fontsize': 14, 'fontweight':'bold','color': 'k'})\n",
    "fig = sns.stripplot(x = 'Flux', y = 'Fertilizing_Efficiency', data = dNall168,color='k').set(xlabel='Total weekly nutrient addition\\n [µM NH4 $week^{-1}$]', ylabel='Fertilizing Efficiency\\n [% g assimilated N $g^{-1}$ added N]')"
   ]
  },
  {
   "cell_type": "code",
   "execution_count": null,
   "metadata": {},
   "outputs": [],
   "source": [
    "# N in different fluxes - all weeks together - no scatter\n",
    "sns.set_context(\"paper\", rc={\"font.size\":16,\"axes.titlesize\":16,\"axes.labelsize\":16}) \n",
    "\n",
    "# combined strip plot - all data\n",
    "fig = sns.catplot(x = 'Flux', y = 'Fertilizing_Efficiency', data = dNall168,kind='box',palette=sns.color_palette(['dodgerblue', 'orange','lightgreen'])).set(xlabel='Total weekly nutrient addition\\n [µM NH4 $week^{-1}$]', ylabel='Fertilizing Efficiency\\n [% g assimilated N $g^{-1}$ added N]')\n",
    "fig.set_xticklabels([1000, 1500, 2000],fontdict= { 'fontsize': 14, 'fontweight':'bold','color': 'k'})\n",
    "#fig = sns.stripplot(x = 'Flux', y = 'Fertilizing_Efficiency', data = dNall168,color='k').set(xlabel='Total weekly nutrient addition\\n [µM NH4/week]', ylabel='Fertilizing Efficiency\\n [% g assimilated N / g added N]')"
   ]
  },
  {
   "cell_type": "code",
   "execution_count": null,
   "metadata": {},
   "outputs": [],
   "source": [
    "# kruskal test - comparing DGR in different fluxes - different weeks\n",
    "for i in [1,2,3]:\n",
    "    s = sp.stats.kruskal(dall168[(dall168['Week'] == i)&(dall168['Flux'] == 1000)]['DGR'],\n",
    "                    dall168[(dall168['Week'] == i)&(dall168['Flux'] == 1500)]['DGR'],\n",
    "                    dall168[(dall168['Week'] == i)&(dall168['Flux'] == 2000)]['DGR'])\n",
    "    print('\\nWeek ' + str(i) + ':')\n",
    "    print(s)\n",
    "# There is a significant difference between fluxes in all weeks"
   ]
  },
  {
   "cell_type": "code",
   "execution_count": null,
   "metadata": {},
   "outputs": [],
   "source": [
    "# post - hoc multiple comparisons between fluxes - DGR, per week\n",
    "for i in [1,2,3]:\n",
    "    print('\\nWeek: ' + str(i))\n",
    "    data = [dall168[(dall168['Flux'] == 1000)&(dall168['Week'] == i)]['GR'],\n",
    "                    dall168[(dall168['Flux'] == 1500)&(dall168['Week'] == i)]['GR'],\n",
    "                    dall168[(dall168['Flux'] == 2000)&(dall168['Week'] == i)]['GR']]\n",
    "\n",
    "    s = scp.posthoc_dunn(data, p_adjust = 'bonferroni')\n",
    "    print(s)\n",
    "#results: Significan difference between:\n",
    "#1000 and 2000"
   ]
  },
  {
   "cell_type": "code",
   "execution_count": null,
   "metadata": {},
   "outputs": [],
   "source": [
    "# post - hoc multiple comparisons between weeks - DGR, per flux\n",
    "for i in [1000,1500,2000]:\n",
    "    print('\\nFlux: ' + str(i))\n",
    "    data = [dall168[(dall168['Week'] == 1)&(dall168['Flux'] == i)]['GR'],\n",
    "                    dall168[(dall168['Week'] == 2)&(dall168['Flux'] == i)]['GR'],\n",
    "                    dall168[(dall168['Week'] == 3)&(dall168['Flux'] == i)]['GR']]\n",
    "\n",
    "    s = scp.posthoc_dunn(data, p_adjust = 'bonferroni')\n",
    "    print(s)\n",
    "#results: Significan difference between:\n",
    "#1000 and 2000"
   ]
  },
  {
   "cell_type": "code",
   "execution_count": null,
   "metadata": {},
   "outputs": [],
   "source": [
    "# post - hoc multiple comparisons between weeks - DGR, per flux\n",
    "#for i in [1000,1500,2000]:\n",
    "#    print('\\nFlux: ' + str(i))\n",
    "data = [dall168[(dall168['Week'] == 1)&(dall168['Flux'] == 1000)]['DGR'],\n",
    "                dall168[(dall168['Week'] == 2)&(dall168['Flux'] == 1000)]['DGR'],\n",
    "                dall168[(dall168['Week'] == 3)&(dall168['Flux'] == 1000)]['DGR'],\n",
    "                dall168[(dall168['Week'] == 1)&(dall168['Flux'] == 1500)]['DGR'],\n",
    "                dall168[(dall168['Week'] == 2)&(dall168['Flux'] == 1500)]['DGR'],\n",
    "                dall168[(dall168['Week'] == 3)&(dall168['Flux'] == 1500)]['DGR'],\n",
    "                dall168[(dall168['Week'] == 1)&(dall168['Flux'] == 2000)]['DGR'],\n",
    "                dall168[(dall168['Week'] == 2)&(dall168['Flux'] == 2000)]['DGR'],\n",
    "                dall168[(dall168['Week'] == 3)&(dall168['Flux'] == 2000)]['DGR']]\n",
    "\n",
    "s = scp.posthoc_dunn(data, p_adjust = 'bonferroni')\n",
    "print(s)\n",
    "#results: Significan difference between:\n",
    "#1000 and 2000"
   ]
  },
  {
   "cell_type": "code",
   "execution_count": null,
   "metadata": {},
   "outputs": [],
   "source": [
    "# DGR in different fluxes - by week\n",
    "sns.set_context(\"paper\", rc={\"font.size\":16,\"axes.titlesize\":16,\"axes.labelsize\":16}) \n",
    "\n",
    "for i in [1,2,3]:\n",
    "    fig = sns.catplot(x = 'Flux', y = 'DGR', data = dall168[(dall168.Week == i)],kind='box')#.set(xlabel='Fertilization Duration\\n [hours]', ylabel='Daily growth rate')\n",
    "    fig.set_xticklabels([1000, 1500, 2000],fontdict= { 'fontsize': 14, 'fontweight':'bold','color': 'k'})\n",
    "    fig = sns.stripplot(x = 'Flux', y = 'DGR', data = dall168[(dall168.Week == i)],color='k').set(xlabel='Total weekly nutrient addition\\n [µM NH4/week]', ylabel='Daily growth rate')"
   ]
  },
  {
   "cell_type": "code",
   "execution_count": null,
   "metadata": {},
   "outputs": [],
   "source": [
    "# DGR in different fluxes - by week - no scatter, one plot\n",
    "sns.set_context(\"paper\", rc={\"font.size\":16,\"axes.titlesize\":16,\"axes.labelsize\":16}) \n",
    "\n",
    "#for i in [1,2,3]:\n",
    "fig = sns.catplot(x = 'Flux', y = 'GR', data = dall168,hue='Week',kind='box',palette=sns.color_palette(['dodgerblue', 'orange','lightgreen'])).set(xlabel='Total weekly nutrient addition\\n [µM NH4 $week^{-1}$]', ylabel='Daily growth rate\\n[% $day^{-1}$]')\n",
    "fig.set_xticklabels([1000, 1500, 2000],fontdict= { 'fontsize': 14, 'fontweight':'bold','color': 'k'})\n",
    "#fig = sns.stripplot(x = 'Flux', y = 'DGR', data = dall168[(dall168.Week == i)],color='k').set(xlabel='Total weekly nutrient addition\\n [µM NH4/week]', ylabel='Daily growth rate')"
   ]
  },
  {
   "cell_type": "code",
   "execution_count": null,
   "metadata": {},
   "outputs": [],
   "source": [
    "# kruskal test - comparing N in different fluxes - different weeks\n",
    "for i in [1,2,3]:\n",
    "    s = sp.stats.kruskal(dNall168[(dNall168['Week'] == i)&(dNall168['Flux'] == 1000)]['N'],\n",
    "                    dNall168[(dNall168['Week'] == i)&(dNall168['Flux'] == 1500)]['N'],\n",
    "                    dNall168[(dNall168['Week'] == i)&(dNall168['Flux'] == 2000)]['N'])\n",
    "    print('\\nWeek ' + str(i) + ':')\n",
    "    print(s)\n",
    "# There is a significant difference between fluxes in all weeks"
   ]
  },
  {
   "cell_type": "code",
   "execution_count": null,
   "metadata": {},
   "outputs": [],
   "source": [
    "# post - hoc multiple comparisons between fluxes - N, per week\n",
    "for i in [1,2,3]:\n",
    "    print('\\nWeek: ' + str(i))\n",
    "    data = [dNall168[(dNall168['Flux'] == 1000)&(dNall168['Week'] == i)]['N'],\n",
    "                    dNall168[(dNall168['Flux'] == 1500)&(dNall168['Week'] == i)]['N'],\n",
    "                    dNall168[(dNall168['Flux'] == 2000)&(dNall168['Week'] == i)]['N']]\n",
    "\n",
    "    s = scp.posthoc_dunn(data, p_adjust = 'bonferroni')\n",
    "    print(s)\n",
    "    \n",
    "#results: Significan difference between:\n",
    "#1000 and 2000"
   ]
  },
  {
   "cell_type": "code",
   "execution_count": null,
   "metadata": {},
   "outputs": [],
   "source": [
    "# post - hoc multiple comparisons between weeks - DGR, per flux\n",
    "for i in [1000,1500,2000]:\n",
    "    print('\\nFlux: ' + str(i))\n",
    "    data = [dNall168[(dNall168['Week'] == 1)&(dNall168['Flux'] == i)]['N'],\n",
    "                    dNall168[(dNall168['Week'] == 2)&(dNall168['Flux'] == i)]['N'],\n",
    "                    dNall168[(dNall168['Week'] == 3)&(dNall168['Flux'] == i)]['N']]\n",
    "\n",
    "    s = scp.posthoc_dunn(data, p_adjust = 'bonferroni')\n",
    "    print(s)\n",
    "#results: Significan difference between:\n",
    "#1000 and 2000"
   ]
  },
  {
   "cell_type": "code",
   "execution_count": null,
   "metadata": {},
   "outputs": [],
   "source": []
  },
  {
   "cell_type": "code",
   "execution_count": null,
   "metadata": {},
   "outputs": [],
   "source": [
    "# N in different fluxes - by week\n",
    "sns.set_context(\"paper\", rc={\"font.size\":16,\"axes.titlesize\":16,\"axes.labelsize\":16}) \n",
    "\n",
    "for i in [1,2,3]:\n",
    "    fig = sns.catplot(x = 'Flux', y = 'N', data = dNall168[(dNall168.Week == i)],kind='box')#.set(xlabel='Fertilization Duration\\n [hours]', ylabel='Daily growth rate')\n",
    "    fig.set_xticklabels([1000, 1500, 2000],fontdict= { 'fontsize': 14, 'fontweight':'bold','color': 'k'})\n",
    "    fig = sns.stripplot(x = 'Flux', y = 'N', data = dNall168[(dNall168.Week == i)],color='k').set(xlabel='Total weekly nutrient addition\\n [µM NH4/week]', ylabel='Internal N\\n [% g N / g DW]')"
   ]
  },
  {
   "cell_type": "code",
   "execution_count": null,
   "metadata": {},
   "outputs": [],
   "source": [
    "# N in different fluxes - by week - one plot, no scatter\n",
    "sns.set_context(\"paper\", rc={\"font.size\":16,\"axes.titlesize\":16,\"axes.labelsize\":16}) \n",
    "\n",
    "#for i in [1,2,3]:\n",
    "fig = sns.catplot(x = 'Flux', y = 'N', data = dNall168,hue='Week',kind='box',palette=sns.color_palette(['dodgerblue', 'orange','lightgreen'])).set(xlabel='Total weekly nutrient addition\\n [µM NH4 $week^{-1}$]', ylabel='Internal N\\n [% g N $g^{-1}$ DW]')\n",
    "fig.set_xticklabels([1000, 1500, 2000],fontdict= { 'fontsize': 14, 'fontweight':'bold','color': 'k'})\n",
    "#fig = sns.stripplot(x = 'Flux', y = 'N', data = dNall168[(dNall168.Week == i)],color='k').set(xlabel='Total weekly nutrient addition\\n [µM NH4/week]', ylabel='Internal N\\n [% g N / g DW]')"
   ]
  },
  {
   "cell_type": "code",
   "execution_count": null,
   "metadata": {},
   "outputs": [],
   "source": [
    "# N in different fluxes - by week, no scatter, one plot\n",
    "sns.set_context(\"paper\", rc={\"font.size\":16,\"axes.titlesize\":16,\"axes.labelsize\":16}) \n",
    "\n",
    "#for i in [1,2,3]:\n",
    "fig = sns.catplot(x = 'Flux', y = 'N', data = dNall168,hue='Week',kind='box').set(xlabel='Total weekly nutrient addition\\n [µM NH4 / week]', ylabel='Internal N\\n [% g N / g DW]')\n",
    "fig.set_xticklabels([1000, 1500, 2000],fontdict= { 'fontsize': 14, 'fontweight':'bold','color': 'k'})\n",
    "#fig = sns.stripplot(x = 'Flux', y = 'N', data = dNall168[(dNall168.Week == i)],color='k').set(xlabel='Total weekly nutrient addition\\n [µM NH4/week]', ylabel='Internal N\\n [% g N / g DW]')"
   ]
  },
  {
   "cell_type": "code",
   "execution_count": null,
   "metadata": {},
   "outputs": [],
   "source": [
    "# kruskal test - comparing Fertilizing Efficiencies in different fluxes - different weeks\n",
    "for i in [1,2,3]:\n",
    "    s = sp.stats.kruskal(dEffall168[(dEffall168['Week'] == i)&(dEffall168['Flux'] == 1000)]['Fertilizing_Efficiency'],\n",
    "                    dEffall168[(dEffall168['Week'] == i)&(dEffall168['Flux'] == 1500)]['Fertilizing_Efficiency'],\n",
    "                    dEffall168[(dEffall168['Week'] == i)&(dEffall168['Flux'] == 2000)]['Fertilizing_Efficiency'])\n",
    "    print('\\nWeek ' + str(i) + ':')\n",
    "    print(s)\n",
    "# There is a significant difference between fluxes in all weeks"
   ]
  },
  {
   "cell_type": "code",
   "execution_count": null,
   "metadata": {},
   "outputs": [],
   "source": [
    "# post - hoc multiple comparisons between fluxes - Fertilizing Efficiency\n",
    "for i in [1,2,3]:\n",
    "    print('\\nWeek: ' + str(i))\n",
    "    data = [dEffall168[(dEffall168['Flux'] == 1000)&(dEffall168['Week'] == i)]['Fertilizing_Efficiency'],\n",
    "                    dEffall168[(dEffall168['Flux'] == 1500)&(dEffall168['Week'] == i)]['Fertilizing_Efficiency'],\n",
    "                    dEffall168[(dEffall168['Flux'] == 2000)&(dEffall168['Week'] == i)]['Fertilizing_Efficiency']]\n",
    "\n",
    "    s = scp.posthoc_dunn(data, p_adjust = 'bonferroni')\n",
    "    print(s)\n",
    "#results: Significan difference between:\n",
    "#1000 and 2000"
   ]
  },
  {
   "cell_type": "code",
   "execution_count": null,
   "metadata": {},
   "outputs": [],
   "source": [
    "# post - hoc multiple comparisons between weeks - DGR, per flux\n",
    "for i in [1000,1500,2000]:\n",
    "    print('\\nFlux: ' + str(i))\n",
    "    data = [dEffall168[(dEffall168['Week'] == 1)&(dEffall168['Flux'] == i)]['Fertilizing_Efficiency'],\n",
    "                    dEffall168[(dEffall168['Week'] == 2)&(dEffall168['Flux'] == i)]['Fertilizing_Efficiency'],\n",
    "                    dEffall168[(dEffall168['Week'] == 3)&(dEffall168['Flux'] == i)]['Fertilizing_Efficiency']]\n",
    "\n",
    "    s = scp.posthoc_dunn(data, p_adjust = 'bonferroni')\n",
    "    print(s)\n",
    "#results: Significan difference between:\n",
    "#1000 and 2000"
   ]
  },
  {
   "cell_type": "code",
   "execution_count": null,
   "metadata": {},
   "outputs": [],
   "source": []
  },
  {
   "cell_type": "code",
   "execution_count": null,
   "metadata": {},
   "outputs": [],
   "source": [
    "# N in different fluxes - by week\n",
    "sns.set_context(\"paper\", rc={\"font.size\":16,\"axes.titlesize\":16,\"axes.labelsize\":16}) \n",
    "\n",
    "for i in [1,2,3]:\n",
    "    fig = sns.catplot(x = 'Flux', y = 'Fertilizing_Efficiency', data = dEffall168[(dEffall168.Week == i)],kind='box')#.set(xlabel='Fertilization Duration\\n [hours]', ylabel='Daily growth rate')\n",
    "    fig.set_xticklabels([1000, 1500, 2000],fontdict= { 'fontsize': 14, 'fontweight':'bold','color': 'k'})\n",
    "    fig = sns.stripplot(x = 'Flux', y = 'Fertilizing_Efficiency', data = dEffall168[(dEffall168.Week == i)],color='k').set(xlabel='Total weekly nutrient addition\\n [µM NH4/week]', ylabel='Fertilizing Efficiency \\n [% g Assimilated N / g Added N]')"
   ]
  },
  {
   "cell_type": "code",
   "execution_count": null,
   "metadata": {},
   "outputs": [],
   "source": [
    "# N in different fluxes - by week\n",
    "sns.set_context(\"paper\", rc={\"font.size\":16,\"axes.titlesize\":16,\"axes.labelsize\":16}) \n",
    "\n",
    "#for i in [1,2,3]:\n",
    "fig = sns.catplot(x = 'Flux', y = 'Fertilizing_Efficiency', data = dEffall168,hue='Week',kind='box',palette=sns.color_palette(['dodgerblue', 'orange','lightgreen'])).set(xlabel='Total weekly nutrient addition\\n [µM NH4 $week^{-1}$]', ylabel='Fertilizing Efficiency \\n [% g Assimilated N $g^{-1}$ Added N]')\n",
    "fig.set_xticklabels([1000, 1500, 2000],fontdict= { 'fontsize': 14, 'fontweight':'bold','color': 'k'})\n",
    "#fig = sns.stripplot(x = 'Flux', y = 'Fertilizing_Efficiency', data = dEffall168[(dEffall168.Week == i)],color='k').set(xlabel='Total weekly nutrient addition\\n [µM NH4/week]', ylabel='Fertilizing Efficiency \\n [% g Assimilated N / g Added N]')"
   ]
  },
  {
   "cell_type": "code",
   "execution_count": null,
   "metadata": {},
   "outputs": [],
   "source": [
    "# Effects of amplitudes (treatments)"
   ]
  },
  {
   "cell_type": "code",
   "execution_count": null,
   "metadata": {},
   "outputs": [],
   "source": [
    "# data summary of flux = 1000, by treatment (DGR)\n",
    "dall1000 = dall[(dall['Duration'] == 168)&(dall['Flux'] == 1000)]\n",
    "print(rp.summary_cont(dall1000['DGR'].groupby(dall1000['Amplitude'])))\n",
    "\n",
    "# data summary of flux = 1000, by flux (N)\n",
    "dNall1000 = dNall[(dNall['Duration'] == 168)&(dNall['Flux'] == 1000)]\n",
    "print(rp.summary_cont(dNall1000['N'].groupby(dNall1000['Amplitude'])))\n",
    "\n",
    "# data summary of duration = 168, by flux (Fertilizing Efficiency)\n",
    "dEffall1000 = dEffall[(dEffall['Duration'] == 168)&(dEffall['Flux'] == 1000)]\n",
    "print(rp.summary_cont(dEffall1000['Fertilizing_Efficiency'].groupby(dEffall1000['Amplitude'])))"
   ]
  },
  {
   "cell_type": "code",
   "execution_count": null,
   "metadata": {},
   "outputs": [],
   "source": [
    "# kruskal test - comparing N in different amplitudes\n",
    "print('\\nDGR: ')\n",
    "print(sp.stats.kruskal(dall1000[(dall1000['Amplitude'] == 1000)]['DGR'],\n",
    "                dall1000[(dall1000['Amplitude'] == 500)]['DGR'],\n",
    "                dall1000[(dall1000['Amplitude'] == 200)]['DGR']))\n",
    "\n",
    "print('\\nN: ')\n",
    "print(sp.stats.kruskal(dNall1000[(dNall1000['Amplitude'] == 1000)]['N'],\n",
    "                dNall1000[(dNall1000['Amplitude'] == 500)]['N'],\n",
    "                dNall1000[(dNall1000['Amplitude'] == 200)]['N']))\n",
    "\n",
    "print('\\nFertilizing Efficiency: ')\n",
    "print(sp.stats.kruskal(dEffall1000[(dEffall1000['Amplitude'] == 1000)]['Fertilizing_Efficiency'],\n",
    "                dEffall1000[(dEffall1000['Amplitude'] == 500)]['Fertilizing_Efficiency'],\n",
    "                dEffall1000[(dEffall1000['Amplitude'] == 200)]['Fertilizing_Efficiency']))\n"
   ]
  },
  {
   "cell_type": "code",
   "execution_count": null,
   "metadata": {},
   "outputs": [],
   "source": [
    "# post - hoc multiple comparisons between treatments\n",
    "print('\\nDGR: ')\n",
    "data = [dall1000[(dall1000['Amplitude'] == 1000)]['DGR'],\n",
    "                dall1000[(dall1000['Amplitude'] == 500)]['DGR'],\n",
    "                dall1000[(dall1000['Amplitude'] == 200)]['DGR']]\n",
    "\n",
    "print(scp.posthoc_dunn(data, p_adjust = 'bonferroni'))\n",
    "\n",
    "print('\\nN: ')\n",
    "data = [dNall1000[(dNall1000['Amplitude'] == 1000)]['N'],\n",
    "                dNall1000[(dNall1000['Amplitude'] == 500)]['N'],\n",
    "                dNall1000[(dNall1000['Amplitude'] == 200)]['N']]\n",
    "\n",
    "print(scp.posthoc_dunn(data, p_adjust = 'bonferroni'))\n",
    "\n",
    "print('\\nFertilizing Efficiency: ')\n",
    "data = [dEffall1000[(dEffall1000['Amplitude'] == 1000)]['Fertilizing_Efficiency'],\n",
    "                dEffall1000[(dEffall1000['Amplitude'] == 500)]['Fertilizing_Efficiency'],\n",
    "                dEffall1000[(dEffall1000['Amplitude'] == 200)]['Fertilizing_Efficiency']]\n",
    "\n",
    "print(scp.posthoc_dunn(data, p_adjust = 'bonferroni'))"
   ]
  },
  {
   "cell_type": "code",
   "execution_count": null,
   "metadata": {},
   "outputs": [],
   "source": [
    "# Exp #5\n",
    "\n",
    "# data summary of flux = 1000, by treatment (DGR)\n",
    "dall1000_5 = dall[(dall['Duration'] == 168)&(dall['Flux'] == 1000)&(dall['Exp'] == 5)]\n",
    "print(rp.summary_cont(dall1000_5['DGR'].groupby(dall1000_5['Treatment'])))\n",
    "\n",
    "# data summary of flux = 1000, by flux (N)\n",
    "dNall1000_5= dNall[(dNall['Duration'] == 168)&(dNall['Flux'] == 1000)&(dNall['Exp'] == 5)]\n",
    "print(rp.summary_cont(dNall1000_5['N'].groupby(dNall1000_5['Treatment'])))\n",
    "\n",
    "# data summary of duration = 168, by flux (Fertilizing Efficiency)\n",
    "dEffall1000_5 = dEffall[(dEffall['Duration'] == 168)&(dEffall['Flux'] == 1000)&(dEffall['Exp'] == 5)]\n",
    "print(rp.summary_cont(dEffall1000_5['Fertilizing_Efficiency'].groupby(dEffall1000_5['Treatment'])))"
   ]
  },
  {
   "cell_type": "code",
   "execution_count": null,
   "metadata": {},
   "outputs": [],
   "source": [
    "# post - hoc multiple comparisons between treatments - DGR - exp #5\n",
    "data = [dall1000_5[(dall1000_5['Amplitude'] == 1000)]['DGR'],\n",
    "                dall1000_5[(dall1000_5['Amplitude'] == 500)]['DGR'],\n",
    "                dall1000_5[(dall1000_5['Amplitude'] == 200)]['DGR']]\n",
    "\n",
    "scp.posthoc_dunn(data, p_adjust = 'bonferroni')"
   ]
  },
  {
   "cell_type": "code",
   "execution_count": null,
   "metadata": {},
   "outputs": [],
   "source": [
    "# DGR in different amplitudes -  exp 5 in red\n",
    "sns.set_context(\"paper\", rc={\"font.size\":16,\"axes.titlesize\":16,\"axes.labelsize\":16}) \n",
    "\n",
    "fig = sns.catplot(x = 'Amplitude', y = 'GR', data = dall1000,kind='box',palette=sns.color_palette(['dodgerblue', 'orange','lightgreen']))#.set(xlabel='Fertilization Duration\\n [hours]', ylabel='Daily growth rate')\n",
    "fig.set_xticklabels([200, 500, 1000],fontdict= { 'fontsize': 14, 'fontweight':'bold','color': 'k'})\n",
    "#fig = sns.stripplot(x = 'Amplitude', y = 'DGR', data = dall1000,color = 'k').set(xlabel='Amplitude\\n [µM NH4]', ylabel='Daily growth rate')\n",
    "colors = ['r','k','k']\n",
    "for i in [1,2,3]:\n",
    "    fig = sns.stripplot(x = 'Amplitude', y = 'GR', data = dall1000[(dall1000.Exp == 5)&(dall1000.Week == i)],color = colors[i-1]).set(xlabel='Amplitude\\n [µM NH4]', ylabel='Daily growth rate\\n[% $day^{-1}$]')"
   ]
  },
  {
   "cell_type": "code",
   "execution_count": null,
   "metadata": {},
   "outputs": [],
   "source": [
    "# N in different amplitudes -  exp 5 in red\n",
    "sns.set_context(\"paper\", rc={\"font.size\":16,\"axes.titlesize\":16,\"axes.labelsize\":16}) \n",
    "\n",
    "fig = sns.catplot(x = 'Amplitude', y = 'N', data = dNall1000,kind='box',palette=sns.color_palette(['dodgerblue', 'orange','lightgreen']))#.set(xlabel='Fertilization Duration\\n [hours]', ylabel='Daily growth rate')\n",
    "fig.set_xticklabels([1000, 500, 200],fontdict= { 'fontsize': 14, 'fontweight':'bold','color': 'k'})\n",
    "#fig = sns.stripplot(x = 'Amplitude', y = 'N', data = dNall1000,color = 'k').set(xlabel='Amplitude\\n [µM NH4]', ylabel='Daily growth rate')\n",
    "colors = ['r','k','k']\n",
    "for i in [1,2,3]:\n",
    "    fig = sns.stripplot(x = 'Amplitude', y = 'N', data = dNall1000[(dNall1000.Exp == 5)&(dNall1000.Week == i)],color = colors[i-1]).set(xlabel='Amplitude\\n [µM NH4]', ylabel='Internal N\\n[% g N $g^{-1}$ DW]')"
   ]
  },
  {
   "cell_type": "code",
   "execution_count": null,
   "metadata": {},
   "outputs": [],
   "source": [
    "# N in different amplitudes -  exp 5 in red\n",
    "sns.set_context(\"paper\", rc={\"font.size\":16,\"axes.titlesize\":16,\"axes.labelsize\":16}) \n",
    "\n",
    "fig = sns.catplot(x = 'Amplitude', y = 'Fertilizing_Efficiency', data = dEffall1000,kind='box',palette=sns.color_palette(['dodgerblue', 'orange','lightgreen']))#.set(xlabel='Fertilization Duration\\n [hours]', ylabel='Daily growth rate')\n",
    "fig.set_xticklabels([1000, 500, 200],fontdict= { 'fontsize': 14, 'fontweight':'bold','color': 'k'})\n",
    "#fig = sns.stripplot(x = 'Amplitude', y = 'N', data = dNall1000,color = 'k').set(xlabel='Amplitude\\n [µM NH4]', ylabel='Daily growth rate')\n",
    "colors = ['r','k','k']\n",
    "for i in [1,2,3]:\n",
    "    fig = sns.stripplot(x = 'Amplitude', y = 'Fertilizing_Efficiency', data = dEffall1000[(dNall1000.Exp == 5)&(dNall1000.Week == i)],color = colors[i-1]).set(xlabel='Amplitude\\n [µM NH4]', ylabel='Fertilizing Efficiency\\n[% g N Assimilated $g^{-1}$ N Added]')"
   ]
  },
  {
   "cell_type": "raw",
   "metadata": {},
   "source": [
    "# DGR in different amplitudes - by exp\n",
    "sns.set_context(\"paper\", rc={\"font.size\":16,\"axes.titlesize\":16,\"axes.labelsize\":16}) \n",
    "\n",
    "for i in [2,4,5]:\n",
    "    fig = sns.catplot(x = 'Amplitude', y = 'DGR', data = dall1000[(dall1000.Exp == i)],kind='box')#.set(xlabel='Fertilization Duration\\n [hours]', ylabel='Daily growth rate')\n",
    "    fig.set_xticklabels([1000, 500, 200],fontdict= { 'fontsize': 14, 'fontweight':'bold','color': 'k'})\n",
    "    fig = sns.stripplot(x = 'Amplitude', y = 'DGR', data = dall1000[(dall1000.Exp == i)],color='k').set(xlabel='Amplitude\\n [µM NH4]', ylabel='Daily growth rate')"
   ]
  },
  {
   "cell_type": "raw",
   "metadata": {},
   "source": [
    "# N in different amplitudes - by exp\n",
    "sns.set_context(\"paper\", rc={\"font.size\":16,\"axes.titlesize\":16,\"axes.labelsize\":16}) \n",
    "\n",
    "for i in [2,4,5]:\n",
    "    fig = sns.catplot(x = 'Amplitude', y = 'N', data = dNall1000[(dNall1000.Exp == i)],kind='box')#.set(xlabel='Fertilization Duration\\n [hours]', ylabel='Daily growth rate')\n",
    "    fig.set_xticklabels([1000, 500, 200],fontdict= { 'fontsize': 14, 'fontweight':'bold','color': 'k'})\n",
    "    fig = sns.stripplot(x = 'Amplitude', y = 'N', data = dNall1000[(dNall1000.Exp == i)],color='k').set(xlabel='Amplitude\\n [µM NH4]', ylabel='Internal N \\n [% g N / g DW]')"
   ]
  },
  {
   "cell_type": "raw",
   "metadata": {},
   "source": [
    "# Fertilizing_Efficiency in different amplitudes - by week\n",
    "sns.set_context(\"paper\", rc={\"font.size\":16,\"axes.titlesize\":16,\"axes.labelsize\":16}) \n",
    "\n",
    "for i in [2,4,5]:\n",
    "    fig = sns.catplot(x = 'Amplitude', y = 'Fertilizing_Efficiency', data = dEffall1000[(dEffall1000.Exp == i)],kind='box')#.set(xlabel='Fertilization Duration\\n [hours]', ylabel='Daily growth rate')\n",
    "    fig.set_xticklabels([1000, 500, 200],fontdict= { 'fontsize': 14, 'fontweight':'bold','color': 'k'})\n",
    "    fig = sns.stripplot(x = 'Amplitude', y = 'Fertilizing_Efficiency', data = dEffall1000[(dEffall1000.Exp == i)],color='k').set(xlabel='Total weekly nutrient addition\\n [µM NH4/week]', ylabel='Fertilizing Efficiency \\n [% g Assimilated N / g Added N]')"
   ]
  },
  {
   "cell_type": "raw",
   "metadata": {},
   "source": [
    "# Exp #2"
   ]
  },
  {
   "cell_type": "raw",
   "metadata": {},
   "source": [
    "# data summary of flux = 1000, by treatment (DGR)\n",
    "dall1000_2 = dall[(dall['Duration'] == 168)&(dall['Flux'] == 1000)&(dall['Exp'] == 2)]\n",
    "print(rp.summary_cont(dall1000_2['DGR'].groupby(dall1000_2['Treatment'])))\n",
    "\n",
    "# data summary of flux = 1000, by flux (N)\n",
    "dNall1000_2= dNall[(dNall['Duration'] == 168)&(dNall['Flux'] == 1000)&(dNall['Exp'] == 2)]\n",
    "print(rp.summary_cont(dNall1000_2['N'].groupby(dNall1000_2['Treatment'])))\n",
    "\n",
    "# data summary of duration = 168, by flux (Fertilizing Efficiency)\n",
    "dEffall1000_2 = dEffall[(dEffall['Duration'] == 168)&(dEffall['Flux'] == 1000)&(dEffall['Exp'] == 2)]\n",
    "print(rp.summary_cont(dEffall1000_2['Fertilizing_Efficiency'].groupby(dEffall1000_2['Treatment'])))"
   ]
  },
  {
   "cell_type": "raw",
   "metadata": {},
   "source": [
    "# Mann-Whitney U Test between durations of 1000/1 and 500/2 - DGR/N/Fertilizing_Efficiency\n",
    "\n",
    "a = stats.mannwhitneyu(dall1000_2[(dall1000_2.Amplitude == 1000)].DGR, dall1000_2[(dall1000_2.Amplitude == 500)].DGR)\n",
    "print('DGR: ')\n",
    "print(a)\n",
    "\n",
    "b = stats.mannwhitneyu(dNall1000_2[(dNall1000_2.Amplitude == 1000)].N, dNall1000_2[(dNall1000_2.Amplitude == 500)].N)\n",
    "print('\\nN: ')\n",
    "print(b)\n",
    "\n",
    "c = stats.mannwhitneyu(dEffall1000_2[(dEffall1000_2.Amplitude == 1000)].Fertilizing_Efficiency, dEffall1000_2[(dEffall1000_2.Amplitude == 500)].Fertilizing_Efficiency)\n",
    "print('\\nFertilizing Efficiency: ')\n",
    "print(c)"
   ]
  },
  {
   "cell_type": "raw",
   "metadata": {},
   "source": [
    "# DGR/N/Fertilizing Efficiency in different treatment - Exp #2, flux - 1000\n",
    "\n",
    "# Mann-Whitney U Test between durations of 1000/1 and 500/2 - DGR\n",
    "for i in [1,2,3]:\n",
    "    print('\\nWeek ' + str(i) + ':\\n')\n",
    "    a = stats.mannwhitneyu(dall1000_2[(dall1000_2.Amplitude == 1000)&(dall1000_2.Week == i)].DGR, dall1000_2[(dall1000_2.Amplitude == 500)&(dall1000_2.Week == i)].DGR)\n",
    "    print('DGR: ')\n",
    "    print(a)\n",
    "\n",
    "    b = stats.mannwhitneyu(dNall1000_2[(dNall1000_2.Amplitude == 1000)&(dNall1000_2.Week == i)].N, dNall1000_2[(dNall1000_2.Amplitude == 500)&(dNall1000_2.Week == i)].N)\n",
    "    print('\\nN: ')\n",
    "    print(b)\n",
    "       \n",
    "    c = stats.mannwhitneyu(dEffall1000_2[(dEffall1000_2.Amplitude == 1000)&(dEffall1000_2.Week == i)].Fertilizing_Efficiency, dEffall1000_2[(dEffall1000_2.Amplitude == 500)&(dEffall1000_2.Week == i)].Fertilizing_Efficiency)\n",
    "    print('\\nFertilizing Efficiency: ')\n",
    "    print(c)"
   ]
  },
  {
   "cell_type": "raw",
   "metadata": {},
   "source": [
    "# Exp #4"
   ]
  },
  {
   "cell_type": "raw",
   "metadata": {},
   "source": [
    "# data summary of flux = 1000, by treatment (DGR)\n",
    "dall1000_4 = dall[(dall['Duration'] == 168)&(dall['Flux'] == 1000)&(dall['Exp'] == 4)]\n",
    "print(rp.summary_cont(dall1000_4['DGR'].groupby(dall1000_4['Treatment'])))\n",
    "\n",
    "# data summary of flux = 1000, by flux (N)\n",
    "dNall1000_4= dNall[(dNall['Duration'] == 168)&(dNall['Flux'] == 1000)&(dNall['Exp'] == 4)]\n",
    "print(rp.summary_cont(dNall1000_4['N'].groupby(dNall1000_4['Treatment'])))\n",
    "\n",
    "# data summary of duration = 168, by flux (Fertilizing Efficiency)\n",
    "dEffall1000_4 = dEffall[(dEffall['Duration'] == 168)&(dEffall['Flux'] == 1000)&(dEffall['Exp'] == 4)]\n",
    "print(rp.summary_cont(dEffall1000_4['Fertilizing_Efficiency'].groupby(dEffall1000_4['Treatment'])))"
   ]
  },
  {
   "cell_type": "raw",
   "metadata": {},
   "source": [
    "# Mann-Whitney U Test between durations of 1000/1 and 500/2 - DGR/N/Fertilizing_Efficiency\n",
    "\n",
    "a = stats.mannwhitneyu(dall1000_4[(dall1000_4.Amplitude == 1000)].DGR, dall1000_4[(dall1000_4.Amplitude == 500)].DGR)\n",
    "print('DGR: ')\n",
    "print(a)\n",
    "\n",
    "b = stats.mannwhitneyu(dNall1000_4[(dNall1000_4.Amplitude == 1000)].N, dNall1000_4[(dNall1000_4.Amplitude == 500)].N)\n",
    "print('\\nN: ')\n",
    "print(b)\n",
    "\n",
    "c = stats.mannwhitneyu(dEffall1000_4[(dEffall1000_4.Amplitude == 1000)].Fertilizing_Efficiency, dEffall1000_4[(dEffall1000_4.Amplitude == 500)].Fertilizing_Efficiency)\n",
    "print('\\nFertilizing Efficiency: ')\n",
    "print(c)"
   ]
  },
  {
   "cell_type": "raw",
   "metadata": {},
   "source": [
    "# DGR/N/Fertilizing Efficiency in different treatment - Exp #4, flux - 1000\n",
    "\n",
    "# Mann-Whitney U Test between durations of 1000/1 and 500/2 - DGR\n",
    "for i in [1,2,3]:\n",
    "    print('\\nWeek ' + str(i) + ':\\n')\n",
    "    a = stats.mannwhitneyu(dall1000_4[(dall1000_4.Amplitude == 1000)&(dall1000_4.Week == i)].DGR, dall1000_4[(dall1000_4.Amplitude == 500)&(dall1000_4.Week == i)].DGR)\n",
    "    print('DGR: ')\n",
    "    print(a)\n",
    "\n",
    "    b = stats.mannwhitneyu(dNall1000_4[(dNall1000_4.Amplitude == 1000)&(dNall1000_4.Week == i)].N, dNall1000_4[(dNall1000_4.Amplitude == 500)&(dNall1000_4.Week == i)].N)\n",
    "    print('\\nN: ')\n",
    "    print(b)\n",
    "\n",
    "    c = stats.mannwhitneyu(dEffall1000_4[(dEffall1000_4.Amplitude == 1000)&(dEffall1000_4.Week == i)].Fertilizing_Efficiency, dEffall1000_4[(dEffall1000_4.Amplitude == 500)&(dEffall1000_4.Week == i)].Fertilizing_Efficiency)\n",
    "    print('\\nFertilizing Efficiency: ')\n",
    "    print(c)"
   ]
  },
  {
   "cell_type": "code",
   "execution_count": null,
   "metadata": {},
   "outputs": [],
   "source": [
    "# Exp #5"
   ]
  },
  {
   "cell_type": "code",
   "execution_count": null,
   "metadata": {},
   "outputs": [],
   "source": [
    "# kruskal test - comparing N in different treatments\n",
    "\n",
    "sp.stats.kruskal(dall1000_5[(dall1000_5['Amplitude'] == 1000)]['DGR'],\n",
    "                dall1000_5[(dall1000_5['Amplitude'] == 500)]['DGR'],\n",
    "                dall1000_5[(dall1000_5['Amplitude'] == 200)]['DGR'])\n",
    "\n",
    "# There is a significant difference between fluxes"
   ]
  },
  {
   "cell_type": "code",
   "execution_count": null,
   "metadata": {},
   "outputs": [],
   "source": [
    "# post - hoc multiple comparisons between treatments - DGR\n",
    "data = [dall1000_5[(dall1000_5['Amplitude'] == 1000)]['DGR'],\n",
    "                dall1000_5[(dall1000_5['Amplitude'] == 500)]['DGR'],\n",
    "                dall1000_5[(dall1000_5['Amplitude'] == 200)]['DGR']]\n",
    "\n",
    "scp.posthoc_dunn(data, p_adjust = 'bonferroni')"
   ]
  },
  {
   "cell_type": "code",
   "execution_count": null,
   "metadata": {},
   "outputs": [],
   "source": [
    "# post - hoc multiple comparisons between treatments - N\n",
    "data = [dNall1000_5[(dNall1000_5['Amplitude'] == 1000)]['N'],\n",
    "                dNall1000_5[(dNall1000_5['Amplitude'] == 500)]['N'],\n",
    "                dNall1000_5[(dNall1000_5['Amplitude'] == 200)]['N']]\n",
    "\n",
    "scp.posthoc_dunn(data, p_adjust = 'bonferroni')"
   ]
  },
  {
   "cell_type": "code",
   "execution_count": null,
   "metadata": {},
   "outputs": [],
   "source": [
    "# Pearson DGR week 1\n",
    "\n",
    "from scipy.stats import pearsonr \n",
    "   \n",
    "list1 = [200,500,1000] \n",
    "list2 = [0.6,8,14.3] \n",
    "  \n",
    "# Apply the pearsonr() \n",
    "corr, _ = pearsonr(list1, list2) \n",
    "print('Pearsons correlation: %.3f' % corr) \n",
    "  \n",
    "# This code is contributed by Amiya Rout "
   ]
  },
  {
   "cell_type": "code",
   "execution_count": null,
   "metadata": {},
   "outputs": [],
   "source": [
    "# kruskal test - comparing N in different treatments\n",
    "\n",
    "sp.stats.kruskal(dNall1000_5[(dNall1000_5['Amplitude'] == 1000)]['N'],\n",
    "                dNall1000_5[(dNall1000_5['Amplitude'] == 500)]['N'],\n",
    "                dNall1000_5[(dNall1000_5['Amplitude'] == 200)]['N'])\n",
    "\n",
    "# There is a significant difference between fluxes"
   ]
  },
  {
   "cell_type": "code",
   "execution_count": null,
   "metadata": {},
   "outputs": [],
   "source": [
    "# post - hoc multiple comparisons between treatments - N\n",
    "data = [dNall1000_5[(dNall1000_5['Amplitude'] == 1000)]['N'],\n",
    "                dNall1000_5[(dNall1000_5['Amplitude'] == 500)]['N'],\n",
    "                dNall1000_5[(dNall1000_5['Amplitude'] == 200)]['N']]\n",
    "\n",
    "scp.posthoc_dunn(data, p_adjust = 'bonferroni')\n",
    "\n",
    "#results: Significan difference between:\n",
    "#1000 and 2000"
   ]
  },
  {
   "cell_type": "code",
   "execution_count": null,
   "metadata": {},
   "outputs": [],
   "source": [
    "# kruskal test - comparing Fertilizing Efficiencies in different treatments\n",
    "\n",
    "sp.stats.kruskal(dEffall1000_5[(dEffall1000_5['Amplitude'] == 1000)]['Fertilizing_Efficiency'],\n",
    "                dEffall1000_5[(dEffall1000_5['Amplitude'] == 500)]['Fertilizing_Efficiency'],\n",
    "                dEffall1000_5[(dEffall1000_5['Amplitude'] == 200)]['Fertilizing_Efficiency'])\n",
    "\n",
    "# There is a significant difference between fluxes"
   ]
  },
  {
   "cell_type": "code",
   "execution_count": null,
   "metadata": {},
   "outputs": [],
   "source": [
    "# post - hoc multiple comparisons between treatments - Fertilizing Efficiency\n",
    "data = [dEffall1000_5[(dEffall1000_5['Amplitude'] == 1000)]['Fertilizing_Efficiency'],\n",
    "                dEffall1000_5[(dEffall1000_5['Amplitude'] == 500)]['Fertilizing_Efficiency'],\n",
    "                dEffall1000_5[(dEffall1000_5['Amplitude'] == 200)]['Fertilizing_Efficiency']]\n",
    "\n",
    "scp.posthoc_dunn(data, p_adjust = 'bonferroni')\n",
    "\n",
    "#results: Significan difference between:\n",
    "#1000 and 2000"
   ]
  },
  {
   "cell_type": "code",
   "execution_count": null,
   "metadata": {},
   "outputs": [],
   "source": [
    "# normality test for all N results"
   ]
  },
  {
   "cell_type": "code",
   "execution_count": null,
   "metadata": {},
   "outputs": [],
   "source": [
    "# normality test for all fertilization efficiency results"
   ]
  },
  {
   "cell_type": "code",
   "execution_count": null,
   "metadata": {},
   "outputs": [],
   "source": [
    "# For model - calibration, validation and excluded data"
   ]
  },
  {
   "cell_type": "code",
   "execution_count": null,
   "metadata": {},
   "outputs": [],
   "source": [
    "dd = df2[(df2.Stage != 'i')&(np.isnan(df2.DW)!= True)&(df2.Treatment != 'Acclimation')&(df2.Sporulated != 'Yes')&(df2.Exp != 1)&(df2.Exp != 2)&(df2.Exp != 5)&(df2.Comment != 'Exclude')&(df2.Week <= 3)]\n",
    "rp.summary_cont(dd['DW'].groupby(dd['Treatment']))"
   ]
  },
  {
   "cell_type": "code",
   "execution_count": null,
   "metadata": {},
   "outputs": [],
   "source": [
    "ddval = df2[(df2.Stage != 'i')&(np.isnan(df2.DW)!= True)&(df2.Treatment != 'Acclimation')&(df2.Comment != 'Exclude')&(df2.Week <= 3)&(df2.Treatment != '2000/1/4')&(df2.Treatment != '500/1/4')&(df2.Exp != 3)&(df2.Exp != 4)]\n",
    "rp.summary_cont(ddval['N'].groupby(ddval['Treatment']))\n",
    "rp.summary_cont(ddval['DW'].groupby(ddval['Treatment']))"
   ]
  },
  {
   "cell_type": "code",
   "execution_count": null,
   "metadata": {},
   "outputs": [],
   "source": [
    "ddexc = df2[(df2.Stage != 'i')&(np.isnan(df2.DW)!= True)&(df2.Treatment != 'Acclimation')&(df2.Sporulated == 'Yes')&(df2.Week <= 3)&(df2.Treatment != '2000/1/4')&(df2.Treatment != '500/1/4')]\n",
    "rp.summary_cont(ddexc['N'].groupby(ddexc['Treatment']))\n",
    "rp.summary_cont(ddexc['DW'].groupby(ddexc['Treatment']))"
   ]
  },
  {
   "cell_type": "code",
   "execution_count": null,
   "metadata": {},
   "outputs": [],
   "source": [
    "ddN = df2[(df2.Stage != 'i')&(np.isnan(df2.N)!= True)&(df2.Treatment != 'Acclimation')&(df2.Exp != 1)&(df2.Exp != 2)&(df2.Exp != 5)&(df2.Comment != 'Exclude')&(df2.Week <= 3)]\n",
    "rp.summary_cont(ddN['N'].groupby(ddN['Treatment']))"
   ]
  },
  {
   "cell_type": "code",
   "execution_count": null,
   "metadata": {},
   "outputs": [],
   "source": [
    "ddNval = df2[(df2.Stage != 'i')&(np.isnan(df2.N)!= True)&(df2.Treatment != 'Acclimation')&(df2.Comment != 'Exclude')&(df2.Week <= 3)&(df2.Treatment != '2000/1/4')&(df2.Treatment != '500/1/4')&(df2.Exp != 3)&(df2.Exp != 4)]\n",
    "rp.summary_cont(ddNval['N'].groupby(ddNval['Treatment']))"
   ]
  },
  {
   "cell_type": "raw",
   "metadata": {},
   "source": [
    "#Indoor experiments figures/statistics:\n",
    "1. Comparison between treatments in final Next, final Nit and DGR + statistical analysis.\n",
    "2. Comparison between weeks in final Next, final Nit and DGR - can be shown in fig 1 with differen colors.\n",
    "3. Effect of time - comparison between weeks\n",
    "4. Starvation experiment - DGR vs t[days]\n",
    "5. System error analysis - effects of weighing stress and biomass trimming"
   ]
  },
  {
   "cell_type": "code",
   "execution_count": null,
   "metadata": {},
   "outputs": [],
   "source": [
    "# Statistical analysis for indoor experiments results\n",
    "# 1. Check normal distribution of DGR in 500/2/168 treatment\n",
    "# 2. ANOVA / Multiple T-test 2-side unequal...\n",
    "# a. Effect of Date, frequency and concentration (and also weighing and trimming) on DGR/Nint (all data combined)\n",
    "# b. Effect of Date, frequency and concentration (and also weighing and trimming) on DGR/Nint (data divided by week)\n"
   ]
  },
  {
   "cell_type": "raw",
   "metadata": {},
   "source": [
    "dNormpartial = df2[(df2.Stage == 'f')&(np.isnan(df2.DGR)!= True)&(df2.Treatment != 'Acclimation')&(df2.Treatment != '200/5/168')&(df2.Treatment != '2000/1/168')&(df2.Treatment != '2000/1/4')&(df2.Treatment != '500/1/4')]\n",
    "print(len(dNormpartial.DGR))\n",
    "plt.hist(dNormpartial['DGR'], bins = 20)\n",
    "#n, bins, patches = plt.hist(x, num_bins, facecolor='blue', alpha=0.5)\n"
   ]
  },
  {
   "cell_type": "raw",
   "metadata": {},
   "source": [
    "# normality test\n",
    "sp.stats.normaltest(dNormpartial.DGR, axis=0, nan_policy='propagate')\n",
    "#https://docs.scipy.org/doc/scipy/reference/generated/scipy.stats.normaltest.html"
   ]
  },
  {
   "cell_type": "raw",
   "metadata": {},
   "source": [
    "dNormfull = df2[(df2.Stage == 'f')&(np.isnan(df2.DGR)!= True)&(df2.Treatment != 'Acclimation')]\n",
    "print(len(dNormfull.DGR))\n",
    "plt.hist(dNormfull['DGR'], bins = 20)#,density = True,stacked =True)\n",
    "#n, bins, patches = plt.hist(x, num_bins, facecolor='blue', alpha=0.5)\n",
    "plt.xlabel(xlabel = 'DGR\\n [% per day]')#, fontdict=None, labelpad=None, **kwargs)\n",
    "plt.ylabel(ylabel = 'Frequency of observations')"
   ]
  },
  {
   "cell_type": "raw",
   "metadata": {},
   "source": [
    "# Normality test #1 - DGR for all treatments - week #2\n",
    "\n",
    "dNormWeek2 = df2[(df2.Stage == 'f')&(np.isnan(df2.DGR)!= True)&(df2.Treatment != 'Acclimation')&(df2.Week == 2)]\n",
    "print(len(dNormWeek2.DGR))\n",
    "plt.hist(dNormWeek2['DGR'], bins = 20)#,density = True,stacked =True)\n",
    "#n, bins, patches = plt.hist(x, num_bins, facecolor='blue', alpha=0.5)\n",
    "plt.xlabel(xlabel = 'DGR\\n [% per day]')#, fontdict=None, labelpad=None, **kwargs)\n",
    "plt.ylabel(ylabel = 'Frequency of observations')"
   ]
  },
  {
   "cell_type": "raw",
   "metadata": {},
   "source": [
    "# Normality test #2 - DGR for all treatments - week #2\n",
    "sp.stats.normaltest(dNormWeek2.DGR, axis=0, nan_policy='propagate')\n",
    "#https://docs.scipy.org/doc/scipy/reference/generated/scipy.stats.normaltest.html"
   ]
  },
  {
   "cell_type": "raw",
   "metadata": {},
   "source": [
    "# Homogeneity of variance - DGR for all treatments - week #2\n",
    "\n",
    "import scipy.stats as stats\n",
    "\n",
    "a = df2[(df2.Treatment != 'Acclimation')&(df2.Stage == 'f')&(np.isnan(df2.N)!= True)&(df2.Duration == 168)].N\n",
    "b = df2[(df2.Treatment != 'Acclimation')&(df2.Stage == 'f')&(np.isnan(df2.N)!= True)&(df2.Duration == 168)].N\n",
    "\n",
    "a = a.tolist()\n",
    "b = b.tolist()\n",
    "\n",
    "#Levene's test centered at the median\n",
    "stats.levene(a,b)\n"
   ]
  },
  {
   "cell_type": "raw",
   "metadata": {},
   "source": [
    "dNormfullN = df2[(df2.Stage == 'f')&(np.isnan(df2.N)!= True)&(df2.Treatment != 'Acclimation')]\n",
    "print(len(dNormfullN.DGR))\n",
    "plt.hist(dNormfullN['N'], bins = 20)#,density = True,stacked =True)\n",
    "#n, bins, patches = plt.hist(x, num_bins, facecolor='blue', alpha=0.5)\n",
    "plt.xlabel(xlabel = 'N\\n [% gN per gDW]')#, fontdict=None, labelpad=None, **kwargs)\n",
    "#plt.ylabel(ylabel = 'Frequency of observations')"
   ]
  },
  {
   "cell_type": "raw",
   "metadata": {},
   "source": [
    "# normality test\n",
    "sp.stats.normaltest(dNormfull.DGR, axis=0, nan_policy='propagate')\n",
    "#https://docs.scipy.org/doc/scipy/reference/generated/scipy.stats.normaltest.html"
   ]
  },
  {
   "cell_type": "raw",
   "metadata": {
    "scrolled": false
   },
   "source": [
    "# Reduced data based - ommiting nan DGR or Nint\n",
    "\n",
    "d = df2[(df2.Stage == 'f')&(np.isnan(df2.DGR)!= True)]\n",
    "dN = df2[(df2.Stage == 'f')&(np.isnan(df2.N)!= True)]"
   ]
  },
  {
   "cell_type": "raw",
   "metadata": {},
   "source": [
    "import scipy.stats as stats\n",
    "\n",
    "a = df2[(df2.Treatment != 'Acclimation')&(df2.Stage == 'f')&(np.isnan(df2.DGR)!= True)&(df2.Duration == 168)].DGR\n",
    "b = df2[(df2.Treatment != 'Acclimation')&(df2.Stage == 'f')&(np.isnan(df2.DGR)!= True)&(df2.Duration == 168)].DGR\n",
    "\n",
    "a = a.tolist()\n",
    "b = b.tolist()\n",
    "\n",
    "#Levene's test centered at the median\n",
    "stats.levene(a,b)"
   ]
  },
  {
   "cell_type": "raw",
   "metadata": {},
   "source": [
    "import scipy.stats as stats\n",
    "\n",
    "a = df2[(df2.Treatment != 'Acclimation')&(df2.Stage == 'f')&(np.isnan(df2.N)!= True)&(df2.Duration == 168)].N\n",
    "b = df2[(df2.Treatment != 'Acclimation')&(df2.Stage == 'f')&(np.isnan(df2.N)!= True)&(df2.Duration == 168)].N\n",
    "\n",
    "a = a.tolist()\n",
    "b = b.tolist()\n",
    "\n",
    "#Levene's test centered at the median\n",
    "stats.levene(a,b)"
   ]
  },
  {
   "cell_type": "raw",
   "metadata": {},
   "source": [
    "sp.stats.levene(df2[(df2.Treatment != 'Acclimation')&(df2.Stage == 'f')&(df2.Duration == 168)].DGR,df2[(df2.Treatment != 'Acclimation')&(df2.Stage == 'f')&(df2.Duration == 4)].DGR)"
   ]
  },
  {
   "cell_type": "code",
   "execution_count": null,
   "metadata": {},
   "outputs": [],
   "source": []
  },
  {
   "cell_type": "code",
   "execution_count": null,
   "metadata": {},
   "outputs": [],
   "source": [
    "# kruskal test - diffrences between exp\n",
    "d = df2[(df2.Stage == 'f')&(np.isnan(df2.DGR)!= True)]\n",
    "dN = df2[(df2.Stage == 'f')&(np.isnan(df2.N)!= True)]\n",
    "\n",
    "\n",
    "dd = d[(d['Treatment'] == '500/2/168')]\n",
    "\n",
    "#dd = dd[(dd['Week'] == i)]\n",
    "pDGR = sp.stats.kruskal(dd[(dd['Exp'] == 2)]['DGR'],\n",
    "                        dd[(dd['Exp'] == 3)]['DGR'],\n",
    "                        dd[(dd['Exp'] == 4)]['DGR'],\n",
    "                        dd[(dd['Exp'] == 5)]['DGR'])\n",
    "\n",
    "\n",
    "#print(len(d168[(d168['Flux'] == 1500)].DGR))\n",
    "print(pDGR)\n",
    "# There is a significant difference between frequencies"
   ]
  },
  {
   "cell_type": "code",
   "execution_count": null,
   "metadata": {},
   "outputs": [],
   "source": [
    "# kruskal test - diffrences between exp\n",
    "d = df2[(df2.Stage == 'f')&(np.isnan(df2.DGR)!= True)]\n",
    "dN = df2[(df2.Stage == 'f')&(np.isnan(df2.N)!= True)]\n",
    "\n",
    "\n",
    "dd = d[(d['Treatment'] == '1000/1/168')]\n",
    "\n",
    "#dd = dd[(dd['Week'] == i)]\n",
    "pDGR = sp.stats.kruskal(dd[(dd['Exp'] == 1)]['DGR'],\n",
    "                        dd[(dd['Exp'] == 2)]['DGR'],\n",
    "                        dd[(dd['Exp'] == 4)]['DGR'],\n",
    "                        dd[(dd['Exp'] == 5)]['DGR'])\n",
    "\n",
    "\n",
    "#print(len(d168[(d168['Flux'] == 1500)].DGR))\n",
    "print(pDGR)\n",
    "# There is a significant difference between frequencies"
   ]
  },
  {
   "cell_type": "code",
   "execution_count": null,
   "metadata": {},
   "outputs": [],
   "source": [
    "# kruskal test - diffrences between exp\n",
    "d = df2[(df2.Stage == 'f')&(np.isnan(df2.DGR)!= True)]\n",
    "dN = df2[(df2.Stage == 'f')&(np.isnan(df2.N)!= True)]\n",
    "\n",
    "\n",
    "ddN = dN[(dN['Treatment'] == '500/2/168')]\n",
    "\n",
    "#dd = dd[(dd['Week'] == i)]\n",
    "pN = sp.stats.kruskal(ddN[(ddN['Exp'] == 2)]['N'],\n",
    "                        ddN[(ddN['Exp'] == 3)]['N'],\n",
    "                        ddN[(ddN['Exp'] == 4)]['N'],\n",
    "                        ddN[(ddN['Exp'] == 5)]['N'])\n",
    "\n",
    "\n",
    "#print(len(d168[(d168['Flux'] == 1500)].DGR))\n",
    "print(pN)\n",
    "# There is a significant difference between frequencies\n",
    "# initial internal N:\n",
    "# Exp 2: 2.05\n",
    "# Exp 3: 1.57\n",
    "# Exp 4: 3.00\n",
    "# Exp 5: 1.3"
   ]
  },
  {
   "cell_type": "code",
   "execution_count": null,
   "metadata": {},
   "outputs": [],
   "source": [
    "# kruskal test - diffrences between exp\n",
    "d = df2[(df2.Stage == 'f')&(np.isnan(df2.DGR)!= True)]\n",
    "dN = df2[(df2.Stage == 'f')&(np.isnan(df2.N)!= True)]\n",
    "\n",
    "\n",
    "ddN = dN[(dN['Treatment'] == '1000/1/168')]\n",
    "\n",
    "#dd = dd[(dd['Week'] == i)]\n",
    "pN = sp.stats.kruskal(ddN[(ddN['Exp'] == 1)]['N'],\n",
    "                        ddN[(ddN['Exp'] == 2)]['N'],\n",
    "                        ddN[(ddN['Exp'] == 4)]['N'],\n",
    "                        ddN[(ddN['Exp'] == 5)]['N'])\n",
    "\n",
    "\n",
    "#print(len(d168[(d168['Flux'] == 1500)].DGR))\n",
    "print(pN)\n",
    "# There is a significant difference between frequencies\n",
    "# initial internal N:\n",
    "# Exp 2: 2.05\n",
    "# Exp 3: 1.57\n",
    "# Exp 4: 3.00\n",
    "# Exp 5: 1.3"
   ]
  },
  {
   "cell_type": "code",
   "execution_count": null,
   "metadata": {},
   "outputs": [],
   "source": [
    "# kruskal test - diffrences between exp\n",
    "d = df2[(df2.Stage == 'f')&(np.isnan(df2.DGR)!= True)]\n",
    "dN = df2[(df2.Stage == 'f')&(np.isnan(df2.N)!= True)]\n",
    "\n",
    "for i in [1,2,3]:\n",
    "    dd = d[(d['Treatment'] == '500/2/168')]\n",
    "\n",
    "    dd = dd[(dd['Week'] == i)]\n",
    "    pDGR = sp.stats.kruskal(dd[(dd['Exp'] == 2)]['DGR'],\n",
    "                            dd[(dd['Exp'] == 3)]['DGR'],\n",
    "                            dd[(dd['Exp'] == 4)]['DGR'],\n",
    "                            dd[(dd['Exp'] == 5)]['DGR'])\n",
    "                            \n",
    "        \n",
    "    #print(len(d168[(d168['Flux'] == 1500)].DGR))\n",
    "    print(pDGR)\n",
    "# There is a significant difference between frequencies\n",
    "\n",
    "# initial internal N:\n",
    "# Exp 2: 2.05\n",
    "# Exp 3: 1.57\n",
    "# Exp 4: 3.00\n",
    "# Exp 5: 1.3"
   ]
  },
  {
   "cell_type": "code",
   "execution_count": null,
   "metadata": {},
   "outputs": [],
   "source": [
    "# kruskal test - diffrences between exp\n",
    "d = df2[(df2.Stage == 'f')&(np.isnan(df2.DGR)!= True)]\n",
    "dN = df2[(df2.Stage == 'f')&(np.isnan(df2.N)!= True)]\n",
    "\n",
    "for i in [1,2,3]:\n",
    "    dd = d[(d['Treatment'] == '1000/1/168')]\n",
    "\n",
    "    dd = dd[(dd['Week'] == i)]\n",
    "    pDGR = sp.stats.kruskal(dd[(dd['Exp'] == 1)]['DGR'],\n",
    "                            dd[(dd['Exp'] == 2)]['DGR'],\n",
    "                            dd[(dd['Exp'] == 4)]['DGR'],\n",
    "                            dd[(dd['Exp'] == 5)]['DGR'])\n",
    "                            \n",
    "        \n",
    "    #print(len(d168[(d168['Flux'] == 1500)].DGR))\n",
    "    print(pDGR)\n",
    "# There is a significant difference between frequencies\n",
    "\n",
    "# initial internal N:\n",
    "# Exp 2: 2.05\n",
    "# Exp 3: 1.57\n",
    "# Exp 4: 3.00\n",
    "# Exp 5: 1.3"
   ]
  },
  {
   "cell_type": "code",
   "execution_count": null,
   "metadata": {},
   "outputs": [],
   "source": [
    "# kruskal test - diffrences between exp by week (N)\n",
    "d = df2[(df2.Stage == 'f')&(np.isnan(df2.DGR)!= True)]\n",
    "dN = df2[(df2.Stage == 'f')&(np.isnan(df2.N)!= True)]\n",
    "\n",
    "for i in [1,2,3]:\n",
    "    ddN = dN[(dN['Treatment'] == '500/2/168')]\n",
    "\n",
    "    ddN = ddN[(ddN['Week'] == i)]\n",
    "    pN = sp.stats.kruskal(ddN[(ddN['Exp'] == 2)]['N'],\n",
    "                            ddN[(ddN['Exp'] == 3)]['N'],\n",
    "                            ddN[(ddN['Exp'] == 4)]['N'],\n",
    "                            ddN[(ddN['Exp'] == 5)]['N'])\n",
    "                            \n",
    "        \n",
    "    #print(len(d168[(d168['Flux'] == 1500)].DGR))\n",
    "    print(pN)\n",
    "# There is a significant difference between frequencies\n",
    "# initial internal N:\n",
    "# Exp 2: 2.05\n",
    "# Exp 3: 1.57\n",
    "# Exp 4: 3.00\n",
    "# Exp 5: 1.3"
   ]
  },
  {
   "cell_type": "code",
   "execution_count": null,
   "metadata": {},
   "outputs": [],
   "source": [
    "# kruskal test - diffrences between exp by week (N)\n",
    "d = df2[(df2.Stage == 'f')&(np.isnan(df2.DGR)!= True)]\n",
    "dN = df2[(df2.Stage == 'f')&(np.isnan(df2.N)!= True)]\n",
    "\n",
    "for i in [1,2,3]:\n",
    "    ddN = dN[(dN['Treatment'] == '1000/1/168')]\n",
    "\n",
    "    ddN = ddN[(ddN['Week'] == i)]\n",
    "    pN = sp.stats.kruskal(ddN[(ddN['Exp'] == 1)]['N'],\n",
    "                            ddN[(ddN['Exp'] == 2)]['N'],\n",
    "                            ddN[(ddN['Exp'] == 4)]['N'],\n",
    "                            ddN[(ddN['Exp'] == 5)]['N'])\n",
    "                            \n",
    "        \n",
    "    #print(len(d168[(d168['Flux'] == 1500)].DGR))\n",
    "    print(pN)\n",
    "# There is a significant difference between frequencies\n",
    "# initial internal N:\n",
    "# Exp 2: 2.05\n",
    "# Exp 3: 1.57\n",
    "# Exp 4: 3.00\n",
    "# Exp 5: 1.3"
   ]
  },
  {
   "cell_type": "code",
   "execution_count": null,
   "metadata": {},
   "outputs": [],
   "source": [
    "# post - hoc multiple comparisons between experiments by weeks - 500/2/168\n",
    "\n",
    "for i in [1,2,3]:\n",
    "    print('\\nWeek: ' + str(i))\n",
    "    d = df2[(df2.Stage == 'f')&(np.isnan(df2.DGR)!= True)]\n",
    "    dd = d[(d['Treatment'] == '500/2/168')&(d['Week']==i)]\n",
    "\n",
    "    data = [dd[(dd['Exp'] == 2)]['DGR'],\n",
    "                                dd[(dd['Exp'] == 3)]['DGR'],\n",
    "                                dd[(dd['Exp'] == 4)]['DGR'],\n",
    "                                dd[(dd['Exp'] == 5)]['DGR']]\n",
    "\n",
    "    print(scp.posthoc_dunn(data, p_adjust = 'bonferroni'))\n",
    "\n",
    "#No significant difference between any two frequencies\n",
    "# initial internal N:\n",
    "# Exp 2: 2.05\n",
    "# Exp 3: 1.57\n",
    "# Exp 4: 3.00\n",
    "# Exp 5: 1.3"
   ]
  },
  {
   "cell_type": "code",
   "execution_count": null,
   "metadata": {},
   "outputs": [],
   "source": [
    "# post - hoc multiple comparisons between experiments - 1000/1/168\n",
    "\n",
    "#for i in [1,2,3]:\n",
    "#    print('\\nWeek: ' + str(i))\n",
    "d = df2[(df2.Stage == 'f')&(np.isnan(df2.DGR)!= True)]\n",
    "dd = d[(d['Treatment'] == '1000/1/168')]\n",
    "\n",
    "data = [dd[(dd['Exp'] == 1)]['DGR'],\n",
    "                            dd[(dd['Exp'] == 2)]['DGR'],\n",
    "                            dd[(dd['Exp'] == 4)]['DGR'],\n",
    "                            dd[(dd['Exp'] == 5)]['DGR']]\n",
    "\n",
    "print(scp.posthoc_dunn(data, p_adjust = 'bonferroni'))\n",
    "\n",
    "#No significant difference between any two frequencies\n",
    "# initial internal N:\n",
    "# Exp 1: 1.85\n",
    "# Exp 2: 2.05\n",
    "# Exp 3: 1.57\n",
    "# Exp 4: 3.00\n",
    "# Exp 5: 1.3"
   ]
  },
  {
   "cell_type": "code",
   "execution_count": null,
   "metadata": {},
   "outputs": [],
   "source": [
    "# post - hoc multiple comparisons between experiments by weeks - 1000/1/168\n",
    "\n",
    "for i in [1,2,3]:\n",
    "    print('\\nWeek: ' + str(i))\n",
    "    d = df2[(df2.Stage == 'f')&(np.isnan(df2.DGR)!= True)]\n",
    "    dd = d[(d['Treatment'] == '1000/1/168')&(d['Week']==i)]\n",
    "\n",
    "    data = [dd[(dd['Exp'] == 1)]['DGR'],\n",
    "                                dd[(dd['Exp'] == 2)]['DGR'],\n",
    "                                dd[(dd['Exp'] == 4)]['DGR'],\n",
    "                                dd[(dd['Exp'] == 5)]['DGR']]\n",
    "\n",
    "    print(scp.posthoc_dunn(data, p_adjust = 'bonferroni'))\n",
    "\n",
    "#No significant difference between any two frequencies\n",
    "# initial internal N:\n",
    "# Exp 1: 1.85\n",
    "# Exp 2: 2.05\n",
    "# Exp 3: 1.57\n",
    "# Exp 4: 3.00\n",
    "# Exp 5: 1.3"
   ]
  },
  {
   "cell_type": "code",
   "execution_count": null,
   "metadata": {},
   "outputs": [],
   "source": [
    "# post - hoc multiple comparisons between experiments  - 1000/1/168 - N\n",
    "\n",
    "dN = df2[(df2.Stage == 'f')&(np.isnan(df2.N)!= True)]\n",
    "\n",
    "ddN = dN[(dN['Treatment'] == '1000/1/168')]\n",
    "\n",
    "data = [ddN[(ddN['Exp'] == 1)]['N'],\n",
    "                            ddN[(ddN['Exp'] == 2)]['N'],\n",
    "                            ddN[(ddN['Exp'] == 4)]['N'],\n",
    "                            ddN[(ddN['Exp'] == 5)]['N']]\n",
    "\n",
    "print(scp.posthoc_dunn(data, p_adjust = 'bonferroni'))\n",
    "\n",
    "#No significant difference between any two frequencies\n",
    "# initial internal N:\n",
    "# Exp 1: 1.85\n",
    "# Exp 2: 2.05\n",
    "# Exp 3: 1.57\n",
    "# Exp 4: 3.00\n",
    "# Exp 5: 1.3"
   ]
  },
  {
   "cell_type": "code",
   "execution_count": null,
   "metadata": {},
   "outputs": [],
   "source": [
    "# post - hoc multiple comparisons between experiments by weeks - 1000/1/168\n",
    "\n",
    "dN = df2[(df2.Stage == 'f')&(np.isnan(df2.N)!= True)]\n",
    "for i in [1,2,3]:\n",
    "    print('\\nWeek: ' + str(i))\n",
    "    #d = df2[(df2.Stage == 'f')&(np.isnan(df2.DGR)!= True)]\n",
    "    ddN = dN[(dN['Treatment'] == '1000/1/168')&(d['Week']==i)]\n",
    "\n",
    "    data = [ddN[(ddN['Exp'] == 1)]['N'],\n",
    "                                ddN[(ddN['Exp'] == 2)]['N'],\n",
    "                                ddN[(ddN['Exp'] == 4)]['N'],\n",
    "                                ddN[(ddN['Exp'] == 5)]['N']]\n",
    "\n",
    "    print(scp.posthoc_dunn(data, p_adjust = 'bonferroni'))\n",
    "\n",
    "#No significant difference between any two frequencies\n",
    "# initial internal N:\n",
    "# Exp 1: 1.85\n",
    "# Exp 2: 2.05\n",
    "# Exp 3: 1.57\n",
    "# Exp 4: 3.00\n",
    "# Exp 5: 1.3"
   ]
  },
  {
   "cell_type": "code",
   "execution_count": null,
   "metadata": {},
   "outputs": [],
   "source": [
    "# post - hoc multiple comparisons between experiments by weeks - week 1\n",
    "\n",
    "i = 1\n",
    "d = df2[(df2.Stage == 'f')&(np.isnan(df2.DGR)!= True)]\n",
    "dd = d[(d['Treatment'] == '1000/1/168')&(d['Week']==i)]\n",
    "\n",
    "data = [dd[(dd['Exp'] == 1)]['DGR'],\n",
    "                            dd[(dd['Exp'] == 2)]['DGR'],\n",
    "                            dd[(dd['Exp'] == 4)]['DGR'],\n",
    "                            dd[(dd['Exp'] == 5)]['DGR']]\n",
    "\n",
    "scp.posthoc_dunn(data, p_adjust = 'bonferroni')\n",
    "\n",
    "#No significant difference between any two frequencies\n",
    "# initial internal N:\n",
    "# Exp 2: 2.05\n",
    "# Exp 3: 1.57\n",
    "# Exp 4: 3.00\n",
    "# Exp 5: 1.3"
   ]
  },
  {
   "cell_type": "raw",
   "metadata": {},
   "source": [
    "# post - hoc multiple comparisons between experiments by weeks - week 2\n",
    "\n",
    "i = 2\n",
    "d = df2[(df2.Stage == 'f')&(np.isnan(df2.DGR)!= True)]\n",
    "dd = d[(d['Duration'] == 168)&(d['Treatment'] == '500/2/168')&(d['Week']==i)]\n",
    "\n",
    "data = [dd[(dd['Exp'] == 2)]['DGR'],\n",
    "                            dd[(dd['Exp'] == 3)]['DGR'],\n",
    "                            dd[(dd['Exp'] == 4)]['DGR'],\n",
    "                            dd[(dd['Exp'] == 5)]['DGR']]\n",
    "\n",
    "scp.posthoc_dunn(data, p_adjust = 'bonferroni')\n",
    "\n",
    "#No significant difference between any two frequencies"
   ]
  },
  {
   "cell_type": "code",
   "execution_count": null,
   "metadata": {},
   "outputs": [],
   "source": [
    "# post - hoc multiple comparisons between experiments by weeks - week 1\n",
    "\n",
    "i = 1\n",
    "dN = df2[(df2.Stage == 'f')&(np.isnan(df2.N)!= True)]\n",
    "ddN = dN[(dN['Treatment'] == '500/2/168')&(dN['Week']==i)]\n",
    "\n",
    "data = [ddN[(ddN['Exp'] == 2)]['N'],\n",
    "                            ddN[(ddN['Exp'] == 3)]['N'],\n",
    "                            ddN[(ddN['Exp'] == 4)]['N'],\n",
    "                            ddN[(ddN['Exp'] == 5)]['N']]\n",
    "\n",
    "scp.posthoc_dunn(data, p_adjust = 'bonferroni')\n",
    "\n",
    "#No significant difference between any two frequencies\n",
    "# initial internal N:\n",
    "# Exp 2: 2.05\n",
    "# Exp 3: 1.57\n",
    "# Exp 4: 3.00\n",
    "# Exp 5: 1.3"
   ]
  },
  {
   "cell_type": "code",
   "execution_count": null,
   "metadata": {},
   "outputs": [],
   "source": [
    "# post - hoc multiple comparisons between experiments by weeks - week 1\n",
    "\n",
    "i = 1\n",
    "dN = df2[(df2.Stage == 'f')&(np.isnan(df2.N)!= True)]\n",
    "ddN = dN[((dN['Treatment'] == '1000/1/168')&(dN['Week']==i))]\n",
    "\n",
    "data = [ddN[(ddN['Exp'] == 1)]['N'],\n",
    "                            ddN[(ddN['Exp'] == 2)]['N'],\n",
    "                            ddN[(ddN['Exp'] == 4)]['N'],\n",
    "                            ddN[(ddN['Exp'] == 5)]['N']]\n",
    "\n",
    "scp.posthoc_dunn(data, p_adjust = 'bonferroni')\n",
    "\n",
    "#No significant difference between any two frequencies\n",
    "# initial internal N:\n",
    "# Exp 2: 2.05\n",
    "# Exp 3: 1.57\n",
    "# Exp 4: 3.00\n",
    "# Exp 5: 1.3"
   ]
  },
  {
   "cell_type": "code",
   "execution_count": null,
   "metadata": {},
   "outputs": [],
   "source": [
    "rp.summary_cont(df2[(df2.Stage == 'f')&(df2.Treatment == '500/2/168')]['DGR'].groupby(df2[(df2.Stage == 'f')&(df2.Treatment == '500/2/168')]['Exp']))"
   ]
  },
  {
   "cell_type": "code",
   "execution_count": null,
   "metadata": {},
   "outputs": [],
   "source": [
    "rp.summary_cont(df2[(df2.Stage == 'f')&(df2.Treatment == '500/2/168')]['N'].groupby(df2[(df2.Stage == 'f')&(df2.Treatment == '500/2/168')]['Exp']))"
   ]
  },
  {
   "cell_type": "code",
   "execution_count": null,
   "metadata": {},
   "outputs": [],
   "source": [
    "rp.summary_cont(df2[(df2.Stage == 'f')&(df2.Treatment == '500/2/168')]['Fertilizing_Efficiency'].groupby(df2[(df2.Stage == 'f')&(df2.Treatment == '500/2/168')]['Exp']))"
   ]
  },
  {
   "cell_type": "code",
   "execution_count": null,
   "metadata": {},
   "outputs": [],
   "source": [
    "# growth rates in treatment 500/2/168 in different experiments\n",
    "\n",
    "sns.set_context(\"paper\", rc={\"font.size\":16,\"axes.titlesize\":16,\"axes.labelsize\":16}) \n",
    "\n",
    "# combined strip plot - all data\n",
    "SA1_W_DGR = sns.catplot(x = 'Exp', y = 'DGR', data = df2[(df2.Stage == 'f')&(df2.Treatment == '500/2/168')],kind='box').set(xlabel='')\n",
    "SA1_W_DGR.set_xticklabels(['2,3,4,5'])\n",
    "SA1_W_DGR.set_xticklabels([2,3,4,5],fontdict= { 'fontsize': 14, 'fontweight':'bold','color': 'k'})\n",
    "SA1_W_DGR = sns.stripplot(x = 'Exp', y = 'DGR', data = df2[(df2.Stage == 'f')&(df2.Treatment == '500/2/168')],color='k').set(xlabel='\\n Experiment #', ylabel='Daily growth rate')\n"
   ]
  },
  {
   "cell_type": "code",
   "execution_count": null,
   "metadata": {},
   "outputs": [],
   "source": [
    "# growth rates in treatment 500/2/168 in different experiments - no scatter\n",
    "\n",
    "sns.set_context(\"paper\", rc={\"font.size\":16,\"axes.titlesize\":16,\"axes.labelsize\":16}) \n",
    "\n",
    "# combined strip plot - all data\n",
    "SA1_W_DGR = sns.catplot(x = 'Exp', y = 'DGR', data = df2[(df2.Stage == 'f')&(df2.Treatment == '500/2/168')],kind='box').set(xlabel='\\n Run #', ylabel='Daily growth rate\\n[% $day^{-1}$]')\n",
    "SA1_W_DGR.set_xticklabels(['2,3,4,5'])\n",
    "SA1_W_DGR.set_xticklabels([2,3,4,5],fontdict= { 'fontsize': 14, 'fontweight':'bold','color': 'k'})\n",
    "#SA1_W_DGR = sns.stripplot(x = 'Exp', y = 'DGR', data = df2[(df2.Stage == 'f')&(df2.Treatment == '500/2/168')],color='k').set(xlabel='\\n Experiment #', ylabel='Daily growth rate')\n"
   ]
  },
  {
   "cell_type": "code",
   "execution_count": null,
   "metadata": {},
   "outputs": [],
   "source": [
    "# growth rates in treatment 500/2/168 in different experiments - no scatter\n",
    "\n",
    "sns.set_context(\"paper\", rc={\"font.size\":16,\"axes.titlesize\":16,\"axes.labelsize\":16}) \n",
    "\n",
    "# combined strip plot - all data\n",
    "SA1_W_DGR = sns.catplot(x = 'Exp', y = 'GR', data = df2[(df2.Stage == 'f')&(df2.Treatment == '500/2/168')],kind='box').set(xlabel='\\n Run #', ylabel='Daily growth rate\\n[% $day^{-1}$]')\n",
    "SA1_W_DGR.set_xticklabels(['2,3,4,5'])\n",
    "SA1_W_DGR.set_xticklabels([2,3,4,5],fontdict= { 'fontsize': 14, 'fontweight':'bold','color': 'k'})\n",
    "#SA1_W_DGR = sns.stripplot(x = 'Exp', y = 'DGR', data = df2[(df2.Stage == 'f')&(df2.Treatment == '500/2/168')],color='k').set(xlabel='\\n Experiment #', ylabel='Daily growth rate')\n"
   ]
  },
  {
   "cell_type": "code",
   "execution_count": null,
   "metadata": {},
   "outputs": [],
   "source": [
    "# N in treatment 500/2/168 in different experiments - no scatter\n",
    "\n",
    "sns.set_context(\"paper\", rc={\"font.size\":16,\"axes.titlesize\":16,\"axes.labelsize\":16}) \n",
    "\n",
    "# combined strip plot - all data\n",
    "SA1_W_DGR = sns.catplot(x = 'Exp', y = 'N', data = df2[(df2.Stage == 'f')&(df2.Treatment == '500/2/168')],kind='box').set(xlabel='\\n Run #', ylabel='Internal N\\n[% g N $g^{-1}$ DW]')\n",
    "SA1_W_DGR.set_xticklabels(['2,3,4,5'])\n",
    "SA1_W_DGR.set_xticklabels([2,3,4,5],fontdict= { 'fontsize': 14, 'fontweight':'bold','color': 'k'})\n",
    "#SA1_W_DGR = sns.stripplot(x = 'Exp', y = 'N', data = df2[(df2.Stage == 'f')&(df2.Treatment == '500/2/168')],color='k').set(xlabel='\\n Experiment #', ylabel='Internal N\\n[% g N/ g DW]')\n"
   ]
  },
  {
   "cell_type": "code",
   "execution_count": null,
   "metadata": {},
   "outputs": [],
   "source": [
    "# Fertilizing Efficiency in treatment 500/2/168 in different experiments - no scatter\n",
    "\n",
    "sns.set_context(\"paper\", rc={\"font.size\":16,\"axes.titlesize\":16,\"axes.labelsize\":16}) \n",
    "\n",
    "# combined strip plot - all data\n",
    "SA1_W_DGR = sns.catplot(x = 'Exp', y = 'Fertilizing_Efficiency', data = df2[(df2.Stage == 'f')&(df2.Treatment == '500/2/168')],kind='box').set(xlabel='\\n Run #', ylabel='Fertilizing Efficiency\\n[% g Assimilated N $g^{-1}$ Added N]')\n",
    "SA1_W_DGR.set_xticklabels(['2,3,4,5'])\n",
    "SA1_W_DGR.set_xticklabels([2,3,4,5],fontdict= { 'fontsize': 14, 'fontweight':'bold','color': 'k'})\n",
    "#SA1_W_DGR = sns.stripplot(x = 'Exp', y = 'N', data = df2[(df2.Stage == 'f')&(df2.Treatment == '500/2/168')],color='k').set(xlabel='\\n Experiment #', ylabel='Internal N\\n[% g N/ g DW]')\n"
   ]
  },
  {
   "cell_type": "code",
   "execution_count": null,
   "metadata": {},
   "outputs": [],
   "source": [
    "# N in treatment 500/2/168 in different experiments\n",
    "\n",
    "sns.set_context(\"paper\", rc={\"font.size\":16,\"axes.titlesize\":16,\"axes.labelsize\":16}) \n",
    "\n",
    "# combined strip plot - all data\n",
    "SA1_W_DGR = sns.catplot(x = 'Exp', y = 'N', data = df2[(df2.Stage == 'f')&(df2.Treatment == '500/2/168')],kind='box').set(xlabel='')\n",
    "SA1_W_DGR.set_xticklabels(['2,3,4,5'])\n",
    "SA1_W_DGR.set_xticklabels([2,3,4,5],fontdict= { 'fontsize': 14, 'fontweight':'bold','color': 'k'})\n",
    "SA1_W_DGR = sns.stripplot(x = 'Exp', y = 'N', data = df2[(df2.Stage == 'f')&(df2.Treatment == '500/2/168')],color='k').set(xlabel='\\n Experiment #', ylabel='Internal N\\n[% g N/ g DW]')\n"
   ]
  },
  {
   "cell_type": "raw",
   "metadata": {},
   "source": [
    "# growth rates in different experiments - by week (DGR)\n",
    "sns.set_context(\"paper\", rc={\"font.size\":16,\"axes.titlesize\":16,\"axes.labelsize\":16}) \n",
    "\n",
    "# combined strip plot - all data\n",
    "for i in [1,2,3]:\n",
    "    #SA1_EXP_DGR_W = sns.catplot(x = 'Exp', y = 'DGR', data = df2[(df2.Stage == 'f')&(df2.Treatment == '500/2/168')&(df2.Week == i)],kind='box')\n",
    "    SA1_EXP_DGR_W = sns.catplot(x = 'Exp', y = 'DGR', data = df2[(df2.Stage == 'f')&(df2.Treatment == '500/2/168')&(df2.Week == i)],hue='Exp',kind = 'strip').set(xlabel='Experiment #', ylabel='Daily growth rate')\n",
    "    SA1_EXP_DGR_W.set_xticklabels([2,3,4,5],fontdict= { 'fontsize': 14, 'fontweight':'bold','color': 'k'})\n",
    "# Initial internal N:    \n",
    "# Exp 2: 2.05\n",
    "# Exp 3: 1.57\n",
    "# Exp 4: 3.00\n",
    "# Exp 5: 1.3"
   ]
  },
  {
   "cell_type": "code",
   "execution_count": null,
   "metadata": {},
   "outputs": [],
   "source": [
    "# growth rates in different experiments - by week (DGR)\n",
    "sns.set_context(\"paper\", rc={\"font.size\":16,\"axes.titlesize\":16,\"axes.labelsize\":16}) \n",
    "\n",
    "# combined strip plot - all data\n",
    "from sklearn.linear_model import LinearRegression\n",
    "\n",
    "#for i in [2,3,4,5]:\n",
    "    #SA1_EXP_DGR_W = sns.catplot(x = 'Exp', y = 'DGR', data = df2[(df2.Stage == 'f')&(df2.Treatment == '500/2/168')&(df2.Week == i)],kind='box')\n",
    "ax0 = sns.catplot(x = 'Week', y = 'DGR', data = df2[(df2.Stage == 'f')&(df2.Treatment == '500/2/168')],hue='Exp',kind = 'strip',col='Exp').set(xlabel='Week #', ylabel='Daily growth rate')\n",
    "ax0.set_xticklabels([1,2,3],fontdict= { 'fontsize': 14, 'fontweight':'bold','color': 'k'})\n",
    "    # Initial internal N:    \n",
    "# Exp 2: 2.05\n",
    "# Exp 3: 1.57\n",
    "# Exp 4: 3.00\n",
    "# Exp 5: 1.3\n",
    "\n",
    "# S.A #1 - Week effect on DGR\n",
    "\n",
    "#i = 2\n",
    "#x = df2[(df2.Stage == 'f')&(df2.Treatment == '500/2/168')&(df2.Exp == i)].Week\n",
    "#y = df2[(df2.Stage == 'f')&(df2.Treatment == '500/2/168')&(df2.Exp == i)].DGR\n",
    "\n",
    "\n",
    "#fig,ax0 = plt.subplots(1,1,figsize=(7,5))#,sharex=True)\n",
    "#ax0.plot(x[4:-1],y[4:-1],'.',markersize=6,color = 'k')\n",
    "#ax0.plot(x[0:3],y[0:3],'.',markersize=6,color = 'r')\n",
    "\n",
    "\n",
    "#mm, bb = np.polyfit(x, y, 1)\n",
    "#xx = np.array(x).reshape((-1, 1))\n",
    "#model = LinearRegression()\n",
    "#model.fit(xx, y)\n",
    "#model = LinearRegression().fit(xx, y)\n",
    "#r_sq = model.score(xx, y)\n",
    "\n",
    "#ax0.plot(x, mm*x + bb,'--',color = 'orange',markersize=6)\n",
    "\n",
    "#ax0.set_ylabel('Daily growth rate', fontsize=12, weight='bold')\n",
    "#ax0.set_xlabel('Time\\n[Week]', fontsize=12, weight='bold')\n",
    "\n",
    "#ax0.xlabel('Week')\n",
    "#ax0.ylabel('DGR')\n",
    "\n",
    "#ax0.legend([['$R^{2}$ = ' + str(round(r_sq,2)) + ', y = ' + str(round(mm,2)) + 'x +' + str(round(bb,2))]])"
   ]
  },
  {
   "cell_type": "code",
   "execution_count": null,
   "metadata": {},
   "outputs": [],
   "source": [
    "# growth rates in different experiments - by week (DGR)\n",
    "sns.set_context(\"paper\", rc={\"font.size\":16,\"axes.titlesize\":16,\"axes.labelsize\":16}) \n",
    "\n",
    "# combined strip plot - all data\n",
    "from sklearn.linear_model import LinearRegression\n",
    "\n",
    "#for i in [2,3,4,5]:\n",
    "    #SA1_EXP_DGR_W = sns.catplot(x = 'Exp', y = 'DGR', data = df2[(df2.Stage == 'f')&(df2.Treatment == '500/2/168')&(df2.Week == i)],kind='box')\n",
    "ax0 = sns.catplot(x = 'Week', y = 'GR', data = df2[(df2.Stage == 'f')&(df2.Treatment == '500/2/168')],hue='Exp',kind = 'strip',col='Exp').set(xlabel='Week #', ylabel='Daily growth rate\\n[% $day^{-1}$]')\n",
    "ax0.set_xticklabels([1,2,3],fontdict= { 'fontsize': 16, 'fontweight':'bold','color': 'k'})\n"
   ]
  },
  {
   "cell_type": "code",
   "execution_count": null,
   "metadata": {},
   "outputs": [],
   "source": [
    "# N in different treatments - by week\n",
    "sns.set_context(\"paper\", rc={\"font.size\":16,\"axes.titlesize\":16,\"axes.labelsize\":16}) \n",
    "\n",
    "# combined strip plot - all data\n",
    "#for i in [1,2,3]:\n",
    "    #SA1_EXP_N_W = sns.catplot(x = 'Exp', y = 'N', data = df2[(df2.Stage == 'f')&(df2.Treatment == '500/2/168')&(df2.Week == i)],kind='box')\n",
    "SA1_EXP_N_W = sns.catplot(x = 'Week', y = 'N', data = df2[(df2.Stage == 'f')&(df2.Treatment == '500/2/168')],hue='Exp',kind='strip',col='Exp').set(xlabel='Week #', ylabel='Internal N \\n [% g N $g^{-1}$ DW]')\n",
    "SA1_EXP_N_W.set_xticklabels([1,2,3],fontdict= { 'fontsize': 14, 'fontweight':'bold','color': 'k'})\n",
    "\n",
    "# Initial internal N:    \n",
    "# Exp 2: 2.05\n",
    "# Exp 3: 1.57\n",
    "# Exp 4: 3.00\n",
    "# Exp 5: 1.3"
   ]
  },
  {
   "cell_type": "raw",
   "metadata": {},
   "source": [
    "# Fertilizing Efficiency in different treatments - by week \n",
    "sns.set_context(\"paper\", rc={\"font.size\":16,\"axes.titlesize\":16,\"axes.labelsize\":16}) \n",
    "\n",
    "# combined strip plot - all data\n",
    "for i in [1,2,3]:\n",
    "    #SA1_EXP_N_W = sns.catplot(x = 'Exp', y = 'Fertilizing_Efficiency', data = df2[(df2.Stage == 'f')&(df2.Treatment == '500/2/168')&(df2.Week == i)],kind='box')\n",
    "    SA1_EXP_N_W = sns.catplot(x = 'Exp', y = 'Fertilizing_Efficiency', data = df2[(df2.Stage == 'f')&(df2.Treatment == '500/2/168')&(df2.Week == i)],hue='Exp',kind = 'strip').set(xlabel='Experiment #', ylabel='Fertilizing Efficiency \\n [% g Assimilated N / g Added N]')\n",
    "    SA1_EXP_N_W.set_xticklabels([2,3,4,5],fontdict= { 'fontsize': 14, 'fontweight':'bold','color': 'k'})\n",
    "\n",
    "# Initial internal N:    \n",
    "# Exp 2: 2.05\n",
    "# Exp 3: 1.57\n",
    "# Exp 4: 3.00\n",
    "# Exp 5: 1.3"
   ]
  },
  {
   "cell_type": "code",
   "execution_count": null,
   "metadata": {},
   "outputs": [],
   "source": [
    "rp.summary_cont(df2[(df2.Stage == 'f')&(df2.Treatment == '1000/1/168')]['DGR'].groupby(df2[(df2.Stage == 'f')&(df2.Treatment == '1000/1/168')]['Exp']))"
   ]
  },
  {
   "cell_type": "code",
   "execution_count": null,
   "metadata": {},
   "outputs": [],
   "source": [
    "rp.summary_cont(df2[(df2.Stage == 'f')&(df2.Treatment == '1000/1/168')]['N'].groupby(df2[(df2.Stage == 'f')&(df2.Treatment == '1000/1/168')]['Exp']))"
   ]
  },
  {
   "cell_type": "code",
   "execution_count": null,
   "metadata": {},
   "outputs": [],
   "source": [
    "rp.summary_cont(df2[(df2.Stage == 'f')&(df2.Treatment == '1000/1/168')]['Fertilizing_Efficiency'].groupby(df2[(df2.Stage == 'f')&(df2.Treatment == '1000/1/168')]['Exp']))"
   ]
  },
  {
   "cell_type": "code",
   "execution_count": null,
   "metadata": {},
   "outputs": [],
   "source": [
    "# growth rates in treatment 1000/1/168 in different experiments\n",
    "\n",
    "sns.set_context(\"paper\", rc={\"font.size\":16,\"axes.titlesize\":16,\"axes.labelsize\":16}) \n",
    "\n",
    "# combined strip plot - all data\n",
    "SA1_W_DGR = sns.catplot(x = 'Exp', y = 'DGR', data = df2[(df2.Stage == 'f')&(df2.Treatment == '1000/1/168')],kind='box').set(xlabel='')\n",
    "SA1_W_DGR.set_xticklabels(['1,2,4,5'])\n",
    "SA1_W_DGR.set_xticklabels([1,2,4,5],fontdict= { 'fontsize': 14, 'fontweight':'bold','color': 'k'})\n",
    "SA1_W_DGR = sns.stripplot(x = 'Exp', y = 'DGR', data = df2[(df2.Stage == 'f')&(df2.Treatment == '1000/1/168')],color='k').set(xlabel='\\n Experiment #', ylabel='Daily growth rate\\n[% $day^{-1}$]')\n"
   ]
  },
  {
   "cell_type": "code",
   "execution_count": null,
   "metadata": {},
   "outputs": [],
   "source": [
    "# growth rates in treatment 1000/1/168 in different experiments\n",
    "\n",
    "sns.set_context(\"paper\", rc={\"font.size\":16,\"axes.titlesize\":16,\"axes.labelsize\":16}) \n",
    "\n",
    "# combined strip plot - all data\n",
    "SA1_W_DGR = sns.catplot(x = 'Exp', y = 'GR', data = df2[(df2.Stage == 'f')&(df2.Treatment == '1000/1/168')],kind='box').set(xlabel='')\n",
    "SA1_W_DGR.set_xticklabels(['1,2,4,5'])\n",
    "SA1_W_DGR.set_xticklabels([1,2,4,5],fontdict= { 'fontsize': 14, 'fontweight':'bold','color': 'k'})\n",
    "SA1_W_DGR = sns.stripplot(x = 'Exp', y = 'GR', data = df2[(df2.Stage == 'f')&(df2.Treatment == '1000/1/168')],color='k').set(xlabel='\\n Experiment #', ylabel='Daily growth rate\\n[% $day^{-1}$]')\n"
   ]
  },
  {
   "cell_type": "code",
   "execution_count": null,
   "metadata": {},
   "outputs": [],
   "source": [
    "# growth rates in treatment 1000/1/168 in different experiments - no scatter\n",
    "\n",
    "sns.set_context(\"paper\", rc={\"font.size\":16,\"axes.titlesize\":16,\"axes.labelsize\":16}) \n",
    "\n",
    "# combined strip plot - all data\n",
    "SA1_W_DGR = sns.catplot(x = 'Exp', y = 'DGR', data = df2[(df2.Stage == 'f')&(df2.Treatment == '1000/1/168')],kind='box').set(xlabel='\\n Run #', ylabel='Daily growth rate\\n[% $day^{-1}$]')\n",
    "SA1_W_DGR.set_xticklabels(['1,2,4,5'])\n",
    "SA1_W_DGR.set_xticklabels([1,2,4,5],fontdict= { 'fontsize': 14, 'fontweight':'bold','color': 'k'})\n",
    "#SA1_W_DGR = sns.stripplot(x = 'Exp', y = 'DGR', data = df2[(df2.Stage == 'f')&(df2.Treatment == '1000/1/168')],color='k').set(xlabel='\\n Experiment #', ylabel='Daily growth rate')\n"
   ]
  },
  {
   "cell_type": "code",
   "execution_count": null,
   "metadata": {},
   "outputs": [],
   "source": [
    "# growth rates in treatment 1000/1/168 in different experiments - no scatter\n",
    "\n",
    "sns.set_context(\"paper\", rc={\"font.size\":16,\"axes.titlesize\":16,\"axes.labelsize\":16}) \n",
    "\n",
    "# combined strip plot - all data\n",
    "SA1_W_DGR = sns.catplot(x = 'Exp', y = 'GR', data = df2[(df2.Stage == 'f')&(df2.Treatment == '1000/1/168')],kind='box').set(xlabel='\\n Run #', ylabel='Daily growth rate\\n[% $day^{-1}$]')\n",
    "SA1_W_DGR.set_xticklabels(['1,2,4,5'])\n",
    "SA1_W_DGR.set_xticklabels([1,2,4,5],fontdict= { 'fontsize': 14, 'fontweight':'bold','color': 'k'})\n",
    "#SA1_W_DGR = sns.stripplot(x = 'Exp', y = 'DGR', data = df2[(df2.Stage == 'f')&(df2.Treatment == '1000/1/168')],color='k').set(xlabel='\\n Experiment #', ylabel='Daily growth rate')\n"
   ]
  },
  {
   "cell_type": "code",
   "execution_count": null,
   "metadata": {},
   "outputs": [],
   "source": [
    "# N in treatment 1000/1/168 in different experiments\n",
    "\n",
    "sns.set_context(\"paper\", rc={\"font.size\":16,\"axes.titlesize\":16,\"axes.labelsize\":16}) \n",
    "\n",
    "# combined strip plot - all data\n",
    "SA1_W_DGR = sns.catplot(x = 'Exp', y = 'N', data = df2[(df2.Stage == 'f')&(df2.Treatment == '1000/1/168')],kind='box').set(xlabel='')\n",
    "SA1_W_DGR.set_xticklabels(['1,2,4,5'])\n",
    "SA1_W_DGR.set_xticklabels([1,2,4,5],fontdict= { 'fontsize': 14, 'fontweight':'bold','color': 'k'})\n",
    "SA1_W_DGR = sns.stripplot(x = 'Exp', y = 'N', data = df2[(df2.Stage == 'f')&(df2.Treatment == '1000/1/168')],color='k').set(xlabel='\\n Experiment #', ylabel='Internal N\\n[% g N/ g DW]')\n"
   ]
  },
  {
   "cell_type": "code",
   "execution_count": null,
   "metadata": {},
   "outputs": [],
   "source": [
    "# N in treatment 1000/1/168 in different experiments - no scatter\n",
    "\n",
    "sns.set_context(\"paper\", rc={\"font.size\":16,\"axes.titlesize\":16,\"axes.labelsize\":16}) \n",
    "\n",
    "# combined strip plot - all data\n",
    "SA1_W_DGR = sns.catplot(x = 'Exp', y = 'N', data = df2[(df2.Stage == 'f')&(df2.Treatment == '1000/1/168')],kind='box').set(xlabel='\\n Run #', ylabel='Internal N\\n[% g N $g^{-1}$ DW]')\n",
    "#SA1_W_DGR.set_xticklabels(['1,2,4,5'])\n",
    "SA1_W_DGR.set_xticklabels([1,2,4,5],fontdict= { 'fontsize': 14, 'fontweight':'bold','color': 'k'})\n",
    "#A1_W_DGR = sns.stripplot(x = 'Exp', y = 'N', data = df2[(df2.Stage == 'f')&(df2.Treatment == '1000/1/168')],color='k').set(xlabel='\\n Experiment #', ylabel='Internal N\\n[% g N/ g DW]')\n"
   ]
  },
  {
   "cell_type": "code",
   "execution_count": null,
   "metadata": {},
   "outputs": [],
   "source": [
    "# Fertilizing Efficiency in treatment 1000/1/168 in different experiments - no scatter\n",
    "\n",
    "sns.set_context(\"paper\", rc={\"font.size\":16,\"axes.titlesize\":16,\"axes.labelsize\":16}) \n",
    "\n",
    "# combined strip plot - all data\n",
    "SA1_W_DGR = sns.catplot(x = 'Exp', y = 'Fertilizing_Efficiency', data = df2[(df2.Stage == 'f')&(df2.Treatment == '1000/1/168')],kind='box').set(xlabel='\\n Run #', ylabel='Fertilizing Efficiency\\n[% g assimilated N $g^{-1}$ added N]')\n",
    "#SA1_W_DGR.set_xticklabels(['1,2,4,5'])\n",
    "SA1_W_DGR.set_xticklabels([1,2,4,5],fontdict= { 'fontsize': 14, 'fontweight':'bold','color': 'k'})\n",
    "#A1_W_DGR = sns.stripplot(x = 'Exp', y = 'N', data = df2[(df2.Stage == 'f')&(df2.Treatment == '1000/1/168')],color='k').set(xlabel='\\n Experiment #', ylabel='Internal N\\n[% g N/ g DW]')\n"
   ]
  },
  {
   "cell_type": "code",
   "execution_count": null,
   "metadata": {},
   "outputs": [],
   "source": [
    "# growth rates in different experiments - by week (DGR)\n",
    "sns.set_context(\"paper\", rc={\"font.size\":16,\"axes.titlesize\":16,\"axes.labelsize\":16}) \n",
    "\n",
    "# combined strip plot - all data\n",
    "#for i in [1,2,3]:\n",
    "    #SA1_EXP_DGR_W = sns.catplot(x = 'Exp', y = 'DGR', data = df2[(df2.Stage == 'f')&(df2.Treatment == '500/2/168')&(df2.Week == i)],kind='box')\n",
    "SA1_EXP_DGR_W = sns.catplot(x = 'Week', y = 'GR', data = df2[(df2.Stage == 'f')&(df2.Treatment == '1000/1/168')],hue='Exp',kind = 'strip',col='Exp').set(xlabel='Week #', ylabel='Daily growth rate\\n[% $day^{-1}$]')\n",
    "SA1_EXP_DGR_W.set_xticklabels([1,2,3],fontdict= { 'fontsize': 14, 'fontweight':'bold','color': 'k'})\n",
    "# Initial internal N:    \n",
    "# Exp 2: 2.05\n",
    "# Exp 3: 1.57\n",
    "# Exp 4: 3.00\n",
    "# Exp 5: 1.3"
   ]
  },
  {
   "cell_type": "code",
   "execution_count": null,
   "metadata": {},
   "outputs": [],
   "source": [
    "# growth rates in different experiments - by week (DGR)\n",
    "sns.set_context(\"paper\", rc={\"font.size\":16,\"axes.titlesize\":16,\"axes.labelsize\":16}) \n",
    "\n",
    "# combined strip plot - all data\n",
    "#for i in [1,2,3]:\n",
    "    #SA1_EXP_DGR_W = sns.catplot(x = 'Exp', y = 'DGR', data = df2[(df2.Stage == 'f')&(df2.Treatment == '500/2/168')&(df2.Week == i)],kind='box')\n",
    "SA1_EXP_DGR_W = sns.catplot(x = 'Week', y = 'GR', data = df2[(df2.Stage == 'f')&(df2.Treatment == '1000/1/168')],hue='Exp',kind = 'strip',col='Exp').set(xlabel='Week #', ylabel='Daily growth rate')\n",
    "SA1_EXP_DGR_W.set_xticklabels([1,2,3],fontdict= { 'fontsize': 14, 'fontweight':'bold','color': 'k'})\n",
    "# Initial internal N:    \n",
    "# Exp 2: 2.05\n",
    "# Exp 3: 1.57\n",
    "# Exp 4: 3.00\n",
    "# Exp 5: 1.3"
   ]
  },
  {
   "cell_type": "code",
   "execution_count": null,
   "metadata": {},
   "outputs": [],
   "source": [
    "# N in different experiments - by week (DGR)\n",
    "sns.set_context(\"paper\", rc={\"font.size\":16,\"axes.titlesize\":16,\"axes.labelsize\":16}) \n",
    "\n",
    "# combined strip plot - all data\n",
    "#for i in [1,2,3]:\n",
    "    #SA1_EXP_DGR_W = sns.catplot(x = 'Exp', y = 'DGR', data = df2[(df2.Stage == 'f')&(df2.Treatment == '500/2/168')&(df2.Week == i)],kind='box')\n",
    "SA1_EXP_DGR_W = sns.catplot(x = 'Week', y = 'N', data = df2[(df2.Stage == 'f')&(df2.Treatment == '1000/1/168')],hue='Exp',kind = 'strip',col='Exp').set(xlabel='Week #', ylabel='Internal N\\n[% g N $g^{-1}$ DW]')\n",
    "SA1_EXP_DGR_W.set_xticklabels([1,2,3],fontdict= { 'fontsize': 14, 'fontweight':'bold','color': 'k'})\n",
    "# Initial internal N:    \n",
    "# Exp 2: 2.05\n",
    "# Exp 3: 1.57\n",
    "# Exp 4: 3.00\n",
    "# Exp 5: 1.3"
   ]
  },
  {
   "cell_type": "code",
   "execution_count": null,
   "metadata": {},
   "outputs": [],
   "source": [
    "# All fertilization efficiency results by treatment\n",
    "dd = df2[(df2.Stage == 'f')&(np.isnan(df2.DGR)!= True)]\n",
    "\n",
    "rp.summary_cont(dd[(dd.Treatment == '1000/1/168')]['DGR'].groupby(dd['Exp']))"
   ]
  },
  {
   "cell_type": "code",
   "execution_count": null,
   "metadata": {},
   "outputs": [],
   "source": [
    "# All fertilization efficiency results by treatment\n",
    "dd = df2[(df2.Stage == 'f')&(np.isnan(df2.DGR)!= True)]\n",
    "for i in [1,2,3]:\n",
    "    print(rp.summary_cont(dd[(dd.Treatment == '500/2/168')&(dd.Week == i)]['DGR'].groupby(dd['Exp'])))"
   ]
  },
  {
   "cell_type": "code",
   "execution_count": null,
   "metadata": {},
   "outputs": [],
   "source": [
    "# All fertilization efficiency results by treatment\n",
    "dN = df2[(df2.Stage == 'f')&(np.isnan(df2.N)!= True)]\n",
    "for i in [1,2,3]:\n",
    "    print(rp.summary_cont(dN[(dN.Treatment == '500/2/168')&(dN.Week == i)]['N'].groupby(dN['Exp'])))"
   ]
  },
  {
   "cell_type": "code",
   "execution_count": null,
   "metadata": {},
   "outputs": [],
   "source": [
    "# Pearson DGR Exp 1 and 2,1000/1/168\n",
    "\n",
    "from scipy.stats import pearsonr \n",
    "   \n",
    "list1 = [1,2,3] \n",
    "list2 = [1.744,2.837,2.986] \n",
    "  \n",
    "# Apply the pearsonr() \n",
    "corr, _ = pearsonr(list1, list2) \n",
    "print('\\nPearsons correlation for exp 2, 1000/1/168: %.3f' % corr) \n",
    "  \n",
    "# This code is contributed by Amiya Rout \n",
    " \n",
    "list1 = [1,2,3] \n",
    "list2 = [3.365,2.5025,2.805] \n",
    "  \n",
    "# Apply the pearsonr() \n",
    "corr, _ = pearsonr(list1, list2) \n",
    "print('\\nPearsons correlation for exp 4, 1000/1/168: %.3f' % corr) \n",
    "  \n",
    "# This code is contributed by Amiya Rout "
   ]
  },
  {
   "cell_type": "code",
   "execution_count": null,
   "metadata": {},
   "outputs": [],
   "source": [
    "# Pearson DGR Exp 1 and 2,500/2/168\n",
    "\n",
    "from scipy.stats import pearsonr \n",
    "   \n",
    "list1 = [1,2,3] \n",
    "list2 = [0.168,0.06,0.086] \n",
    "  \n",
    "# Apply the pearsonr() \n",
    "corr, _ = pearsonr(list1, list2) \n",
    "print('\\nPearsons correlation for exp 2, 1000/1/168: %.3f' % corr) \n",
    "  \n",
    "# This code is contributed by Amiya Rout \n",
    " \n",
    "list1 = [1,2,3] \n",
    "list2 = [0.042,0.136,0.158] \n",
    "  \n",
    "# Apply the pearsonr() \n",
    "corr, _ = pearsonr(list1, list2) \n",
    "print('\\nPearsons correlation for exp 4, 1000/1/168: %.3f' % corr) \n",
    "  \n",
    "# This code is contributed by Amiya Rout "
   ]
  },
  {
   "cell_type": "code",
   "execution_count": null,
   "metadata": {},
   "outputs": [],
   "source": [
    "# All fertilization efficiency results by treatment\n",
    "dd = df2[(df2.Stage == 'f')&(np.isnan(df2.DGR)!= True)]\n",
    "for i in [1,2,3]:\n",
    "    print(rp.summary_cont(dd[(dd.Treatment == '1000/1/168')&(dd.Week == i)]['DGR'].groupby(dd['Exp'])))"
   ]
  },
  {
   "cell_type": "code",
   "execution_count": null,
   "metadata": {},
   "outputs": [],
   "source": [
    "# All fertilization efficiency results by treatment\n",
    "dN = df2[(df2.Stage == 'f')&(np.isnan(df2.N)!= True)]\n",
    "for i in [1,2,3]:\n",
    "    print(rp.summary_cont(dd[(dd.Treatment == '1000/1/168')&(dd.Week == i)]['N'].groupby(dd['Exp'])))"
   ]
  },
  {
   "cell_type": "code",
   "execution_count": null,
   "metadata": {},
   "outputs": [],
   "source": [
    "# Pearson DGR Exp 1 and 2,1000/1/168\n",
    "\n",
    "from scipy.stats import pearsonr \n",
    "   \n",
    "list1 = [1,2,3] \n",
    "list2 = [0.145,0.071,0.056] \n",
    "  \n",
    "# Apply the pearsonr() \n",
    "corr, _ = pearsonr(list1, list2) \n",
    "print('\\nPearsons correlation for exp 1, 1000/1/168: %.3f' % corr) \n",
    "  \n",
    " \n",
    " \n",
    "list1 = [1,2,3] \n",
    "list2 = [0.159,0.041,0.063] \n",
    "  \n",
    "# Apply the pearsonr() \n",
    "corr, _ = pearsonr(list1, list2) \n",
    "print('\\nPearsons correlation for exp 2, 1000/1/168: %.3f' % corr) \n",
    "\n",
    "list1 = [1,2,3] \n",
    "list2 = [0.105,0.168,0.187] \n",
    "  \n",
    "# Apply the pearsonr() \n",
    "corr, _ = pearsonr(list1, list2) \n",
    "print('\\nPearsons correlation for exp 4, 1000/1/168: %.3f' % corr)"
   ]
  },
  {
   "cell_type": "code",
   "execution_count": null,
   "metadata": {},
   "outputs": [],
   "source": [
    "# Pearson DGR Exp 1 and 2,1000/1/168\n",
    "\n",
    "from scipy.stats import pearsonr \n",
    "   \n",
    "list1 = [1,2,3] \n",
    "list2 = [2.088,2.818,3.41] \n",
    "  \n",
    "# Apply the pearsonr() \n",
    "corr, _ = pearsonr(list1, list2) \n",
    "print('\\nPearsons correlation for exp 1, 1000/1/168: %.3f' % corr) \n",
    "  \n",
    "# This code is contributed by Amiya Rout \n",
    " \n",
    "list1 = [1,2,3] \n",
    "list2 = [1.705,2.98,3.24] \n",
    "  \n",
    "# Apply the pearsonr() \n",
    "corr, _ = pearsonr(list1, list2) \n",
    "print('\\nPearsons correlation for exp 2, 1000/1/168: %.3f' % corr) \n",
    "\n",
    "list1 = [1,2,3] \n",
    "list2 = [2.48,2.377,2.709] \n",
    "  \n",
    "# Apply the pearsonr() \n",
    "corr, _ = pearsonr(list1, list2) \n",
    "print('\\nPearsons correlation for exp 4, 1000/1/168: %.3f' % corr) \n"
   ]
  },
  {
   "cell_type": "code",
   "execution_count": null,
   "metadata": {},
   "outputs": [],
   "source": [
    "# N in different treatments - by week\n",
    "sns.set_context(\"paper\", rc={\"font.size\":16,\"axes.titlesize\":16,\"axes.labelsize\":16}) \n",
    "\n",
    "# combined strip plot - all data\n",
    "#for i in [1,2,3]:\n",
    "    #SA1_EXP_N_W = sns.catplot(x = 'Exp', y = 'N', data = df2[(df2.Stage == 'f')&(df2.Treatment == '500/2/168')&(df2.Week == i)],kind='box')\n",
    "SA1_EXP_N_W = sns.catplot(x = 'Exp', y = 'N', data = df2[(df2.Stage == 'f')&(df2.Treatment == '1000/1/168')],hue='Exp',kind='strip',col='Week').set(xlabel='Experiment #', ylabel='Internal N \\n [% gN / gDW]')\n",
    "SA1_EXP_N_W.set_xticklabels([1,2,4,5],fontdict= { 'fontsize': 14, 'fontweight':'bold','color': 'k'})\n",
    "\n",
    "# Initial internal N:    \n",
    "# Exp 2: 2.05\n",
    "# Exp 3: 1.57\n",
    "# Exp 4: 3.00\n",
    "# Exp 5: 1.3"
   ]
  },
  {
   "cell_type": "raw",
   "metadata": {},
   "source": [
    "# Fertilizing Efficiency in different treatments - by week \n",
    "sns.set_context(\"paper\", rc={\"font.size\":16,\"axes.titlesize\":16,\"axes.labelsize\":16}) \n",
    "\n",
    "# combined strip plot - all data\n",
    "for i in [1,2,3]:\n",
    "    #SA1_EXP_N_W = sns.catplot(x = 'Exp', y = 'Fertilizing_Efficiency', data = df2[(df2.Stage == 'f')&(df2.Treatment == '500/2/168')&(df2.Week == i)],kind='box')\n",
    "    SA1_EXP_N_W = sns.catplot(x = 'Exp', y = 'Fertilizing_Efficiency', data = df2[(df2.Stage == 'f')&(df2.Treatment == '1000/1/168')&(df2.Week == i)],hue='Exp',kind = 'strip').set(xlabel='Experiment #', ylabel='Fertilizing Efficiency \\n [% g Assimilated N / g Added N]')\n",
    "    SA1_EXP_N_W.set_xticklabels([1,2,4,5],fontdict= { 'fontsize': 14, 'fontweight':'bold','color': 'k'})\n",
    "\n",
    "# Initial internal N:    \n",
    "# Exp 2: 2.05\n",
    "# Exp 3: 1.57\n",
    "# Exp 4: 3.00\n",
    "# Exp 5: 1.3"
   ]
  },
  {
   "cell_type": "code",
   "execution_count": null,
   "metadata": {},
   "outputs": [],
   "source": []
  },
  {
   "cell_type": "raw",
   "metadata": {},
   "source": [
    "#Next"
   ]
  },
  {
   "cell_type": "raw",
   "metadata": {},
   "source": [
    "# growth rates in different treatments - by week (DGR)\n",
    "sns.set_context(\"paper\", rc={\"font.size\":16,\"axes.titlesize\":16,\"axes.labelsize\":16}) \n",
    "\n",
    "# combined strip plot - all data\n",
    "for i in [1,2,3]:\n",
    "    SA1_EXP_NH4_W = sns.catplot(x = 'Exp', y = 'NH4', data = df2[(df2.Stage == 'f')&(df2.Treatment == '500/2/168')&(df2.Week == i)],kind='box')\n",
    "    SA1_EXP_NH4_W.set_xticklabels([2,3,4,5],fontdict= { 'fontsize': 14, 'fontweight':'bold','color': 'k'})\n",
    "    SA1_EXP_NH4_W = sns.stripplot(x = 'Exp', y = 'NH4', data = df2[(df2.Stage == 'f')&(df2.Treatment == '500/2/168')&(df2.Week == i)],color='k').set(xlabel='Experiment #', ylabel='External N \\n [% uM NH4]')"
   ]
  },
  {
   "cell_type": "raw",
   "metadata": {},
   "source": [
    "# kruskal test - diffrences between exp\n",
    "d = df2[(df2.Stage == 'f')&(np.isnan(df2.DGR)!= True)]\n",
    "dNext = df2[(df2.Stage == 'f')&(np.isnan(df2.NH4)!= True)]\n",
    "\n",
    "\n",
    "ddNext = dNext\n",
    "\n",
    "#dd = dd[(dd['Week'] == i)]\n",
    "pNext = sp.stats.kruskal(ddNext[(ddNext['Treatment'] == '1000/1/168')]['NH4'],\n",
    "                        ddNext[(ddNext['Treatment'] == '2000/1/168')]['NH4'],\n",
    "                         ddNext[(ddNext['Treatment'] == '500/2/168')]['NH4'],\n",
    "                         ddNext[(ddNext['Treatment'] == '500/3/168')]['NH4'],\n",
    "                         ddNext[(ddNext['Treatment'] == '200/5/168')]['NH4'],\n",
    "                         #ddNext[(ddNext['Treatment'] == '2000/1/4')]['NH4'],\n",
    "                         #ddNext[(ddNext['Treatment'] == '500/1/4')]['NH4']\n",
    "                        )\n",
    "\n",
    "#print(len(d168[(d168['Flux'] == 1500)].DGR))\n",
    "print(pNext)\n",
    "# There is a significant difference between frequencies"
   ]
  },
  {
   "cell_type": "raw",
   "metadata": {},
   "source": [
    "# growth rates in different treatments - by week (DGR)\n",
    "sns.set_context(\"paper\", rc={\"font.size\":16,\"axes.titlesize\":16,\"axes.labelsize\":16}) \n",
    "\n",
    "# combined strip plot - all data\n",
    "for i in [1,2,3]:\n",
    "    SA1_EXP_NH4_W = sns.catplot(x = 'Treatment', y = 'NH4', data = df2[(df2.Stage == 'f')&(df2.Week == i)],kind='box')\n",
    "    #SA1_EXP_NH4_W.set_xticklabels(['1000/1/168'],fontdict= { 'fontsize': 14, 'fontweight':'bold','color': 'k'})\n",
    "    SA1_EXP_NH4_W = sns.stripplot(x = 'Treatment', y = 'NH4', data = df2[(df2.Stage == 'f')&(df2.Week == i)],color='k').set(xlabel='Treatment', ylabel='External N \\n [% uM NH4]')"
   ]
  },
  {
   "cell_type": "raw",
   "metadata": {},
   "source": [
    "# post - hoc multiple comparisons between experiments by weeks - week 1\n",
    "\n",
    "i = 1\n",
    "dNext = df2[(df2.Stage == 'f')&(np.isnan(df2.NH4)!= True)]\n",
    "\n",
    "data = [ddNext[(ddNext['Treatment'] == '1000/1/168')]['NH4'],\n",
    "                        ddNext[(ddNext['Treatment'] == '2000/1/168')]['NH4'],\n",
    "                         ddNext[(ddNext['Treatment'] == '500/2/168')]['NH4'],\n",
    "                         ddNext[(ddNext['Treatment'] == '500/3/168')]['NH4'],\n",
    "                         ddNext[(ddNext['Treatment'] == '200/5/168')]['NH4']]\n",
    "                         #ddNext[(ddNext['Treatment'] == '2000/1/4')]['NH4'],\n",
    "                         #ddNext[(ddNext['Treatment'] == '500/1/4')]['NH4']\n",
    "                        \n",
    "\n",
    "\n",
    "        \n",
    "scp.posthoc_dunn(data, p_adjust = 'bonferroni')\n",
    "\n",
    "# significant difference only between '500/2/168' and '500/3/168'"
   ]
  },
  {
   "cell_type": "raw",
   "metadata": {},
   "source": [
    "# S.A #1 - Next in different treatments\n",
    "\n",
    "#strip plot - all data\n",
    "for i in df2.NH4:\n",
    "    if i < 0:\n",
    "        df2.NH4[i] = 0\n",
    "print(df2.NH4)\n",
    "\n",
    "SA1Next = sns.catplot(x = 'Treatment', y = 'NH4', data = df2[(df2.Treatment != 'Acclimation')&(df2.Stage == 'f')],hue = 'Week').set(xlabel='', ylabel='External N\\n [uM NH4]')\n",
    "SA1Next.set_xticklabels([\"1000/1/168\", \"2000/1/4\", \"500/1/4\",\"2000/1/168\",\"500/2/168\",\"500/3/168\",\"200/5/168\"], rotation=90,fontdict= { 'fontsize': 14, 'fontweight':'bold','color': 'k'})\n",
    "\n",
    "#box plot\n",
    "SA1NextBOX = sns.catplot(x = 'Treatment', y = 'NH4', data = df2[(df2.Treatment != 'Acclimation')&(df2.Stage == 'f')],hue = 'Week',kind ='box').set(xlabel='', ylabel='External N\\n [uM NH4]')\n",
    "SA1NextBOX.set_xticklabels([\"1000/1/168\", \"2000/1/4\", \"500/1/4\",\"2000/1/168\",\"500/2/168\",\"500/3/168\",\"200/5/168\"], rotation=90,fontdict= { 'fontsize': 14, 'fontweight':'bold','color': 'k'})"
   ]
  },
  {
   "cell_type": "raw",
   "metadata": {},
   "source": [
    "# S.A #1 - Next in different treatments\n",
    "SA1NH4 = sns.catplot(x = 'Treatment', y = 'NH4', data = df2[(df2.Treatment != 'Acclimation')&(df2.Stage == 'f')],kind=\"box\")#,hue = 'Sporulated')\n",
    "SA1NH4.set_xticklabels([\"1000/1/168\", \"2000/1/4\", \"500/1/4\",\"2000/1/168\",\"500/2/168\",\"500/3/168\",\"200/5/168\"], rotation=90)"
   ]
  },
  {
   "cell_type": "code",
   "execution_count": null,
   "metadata": {},
   "outputs": [],
   "source": []
  }
 ],
 "metadata": {
  "colab": {
   "collapsed_sections": [],
   "name": "Meiron_closed_system_simulation.ipynb",
   "provenance": [
    {
     "file_id": "1uKvJsJ-_1-aLrYIrSnGQNnOsG9l8ysjY",
     "timestamp": 1561926275385
    }
   ],
   "version": "0.3.2"
  },
  "kernel_info": {
   "name": "python3"
  },
  "kernelspec": {
   "display_name": "Python 3",
   "language": "python",
   "name": "python3"
  },
  "language_info": {
   "codemirror_mode": {
    "name": "ipython",
    "version": 3
   },
   "file_extension": ".py",
   "mimetype": "text/x-python",
   "name": "python",
   "nbconvert_exporter": "python",
   "pygments_lexer": "ipython3",
   "version": "3.7.3"
  },
  "nteract": {
   "version": "0.15.0"
  }
 },
 "nbformat": 4,
 "nbformat_minor": 1
}
