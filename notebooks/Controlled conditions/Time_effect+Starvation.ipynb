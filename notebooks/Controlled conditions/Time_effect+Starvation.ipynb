{
 "cells": [
  {
   "cell_type": "code",
   "execution_count": 1,
   "metadata": {
    "colab": {},
    "colab_type": "code",
    "id": "yUfAvi3l4iEA"
   },
   "outputs": [],
   "source": [
    "from __future__ import division\n",
    "import numpy as np\n",
    "import scipy as sp\n",
    "from scipy.integrate import odeint\n",
    "from scipy import stats\n",
    "import matplotlib.pyplot as plt\n",
    "import pandas as pd # to read excel\n",
    "import seaborn as sns\n",
    "from array import *\n",
    "import researchpy as rp\n",
    "import scipy.stats as stats\n",
    "%matplotlib inline\n",
    "\n",
    "from myfunctions_controlled_conditions import *\n",
    "\n",
    "import datetime"
   ]
  },
  {
   "cell_type": "code",
   "execution_count": 2,
   "metadata": {},
   "outputs": [],
   "source": [
    "# statistics functions\n",
    "\n",
    "import scikit_posthocs as scp"
   ]
  },
  {
   "cell_type": "code",
   "execution_count": 3,
   "metadata": {},
   "outputs": [
    {
     "name": "stdout",
     "output_type": "stream",
     "text": [
      "umol_to_percent_DW 0.0014\n",
      "n_days 7.0\n",
      "Duration 7.0\n",
      "Nint0 1.85\n",
      "m0 0.15\n",
      "Nintcrit 4.5\n",
      "miu 0.04\n",
      "Nintmax 5.5\n",
      "Nintmin 0.48\n",
      "Ks 14.0\n",
      "Vmax 60.0\n",
      "Z 0.178\n",
      "KI 35.0\n",
      "K0 0.5\n",
      "Ka 0.05\n",
      "Topt 18.0\n",
      "Tmin 5.0\n",
      "Tmax 35.0\n",
      "n 5.0\n",
      "losses20 0.0016\n",
      "teta 1.047\n",
      "Sopt 25.0\n",
      "Smin 3.0\n",
      "Smax 48.0\n",
      "Shigh 30.0\n",
      "Slow 12.0\n",
      "KN 1.1\n",
      "dNextoutdt 0.014\n",
      "dNextindt 0.0\n",
      "dmoutdt 0.0\n",
      "Next00  4032.0\n",
      "dilution 0.0\n"
     ]
    },
    {
     "data": {
      "text/html": [
       "<div>\n",
       "<style scoped>\n",
       "    .dataframe tbody tr th:only-of-type {\n",
       "        vertical-align: middle;\n",
       "    }\n",
       "\n",
       "    .dataframe tbody tr th {\n",
       "        vertical-align: top;\n",
       "    }\n",
       "\n",
       "    .dataframe thead th {\n",
       "        text-align: right;\n",
       "    }\n",
       "</style>\n",
       "<table border=\"1\" class=\"dataframe\">\n",
       "  <thead>\n",
       "    <tr style=\"text-align: right;\">\n",
       "      <th></th>\n",
       "      <th>Sample</th>\n",
       "      <th>Exp</th>\n",
       "      <th>Sleeve</th>\n",
       "      <th>Week</th>\n",
       "      <th>Stage</th>\n",
       "      <th>Timei</th>\n",
       "      <th>Timeh</th>\n",
       "      <th>Time</th>\n",
       "      <th>DW</th>\n",
       "      <th>mmi</th>\n",
       "      <th>...</th>\n",
       "      <th>Frequency</th>\n",
       "      <th>Amplitude</th>\n",
       "      <th>Duration</th>\n",
       "      <th>Flux</th>\n",
       "      <th>Sporulated</th>\n",
       "      <th>Comment</th>\n",
       "      <th>Day</th>\n",
       "      <th>Comment2</th>\n",
       "      <th>Unnamed: 38</th>\n",
       "      <th>N_Saturation</th>\n",
       "    </tr>\n",
       "  </thead>\n",
       "  <tbody>\n",
       "    <tr>\n",
       "      <th>0</th>\n",
       "      <td>0.0</td>\n",
       "      <td>1</td>\n",
       "      <td>0</td>\n",
       "      <td>0.0</td>\n",
       "      <td>i</td>\n",
       "      <td>2019,3,12,13,0</td>\n",
       "      <td>2019,3,12,13,0</td>\n",
       "      <td>2019,3,12,13,0</td>\n",
       "      <td>0.750</td>\n",
       "      <td>NaN</td>\n",
       "      <td>...</td>\n",
       "      <td>NaN</td>\n",
       "      <td>NaN</td>\n",
       "      <td>NaN</td>\n",
       "      <td>NaN</td>\n",
       "      <td>No</td>\n",
       "      <td>NaN</td>\n",
       "      <td>NaN</td>\n",
       "      <td>NaN</td>\n",
       "      <td>NaN</td>\n",
       "      <td>yes</td>\n",
       "    </tr>\n",
       "    <tr>\n",
       "      <th>1</th>\n",
       "      <td>0.7</td>\n",
       "      <td>1</td>\n",
       "      <td>0</td>\n",
       "      <td>0.0</td>\n",
       "      <td>f</td>\n",
       "      <td>2019,3,12,13,0</td>\n",
       "      <td>2019,3,12,13,0</td>\n",
       "      <td>2019,3,19,13,0</td>\n",
       "      <td>0.753</td>\n",
       "      <td>50.0</td>\n",
       "      <td>...</td>\n",
       "      <td>NaN</td>\n",
       "      <td>NaN</td>\n",
       "      <td>NaN</td>\n",
       "      <td>NaN</td>\n",
       "      <td>No</td>\n",
       "      <td>NaN</td>\n",
       "      <td>NaN</td>\n",
       "      <td>NaN</td>\n",
       "      <td>NaN</td>\n",
       "      <td>yes</td>\n",
       "    </tr>\n",
       "    <tr>\n",
       "      <th>2</th>\n",
       "      <td>1.0</td>\n",
       "      <td>1</td>\n",
       "      <td>1</td>\n",
       "      <td>1.0</td>\n",
       "      <td>i</td>\n",
       "      <td>2019,3,19,13,0</td>\n",
       "      <td>2019,3,19,13,0</td>\n",
       "      <td>2019,3,19,13,0</td>\n",
       "      <td>0.144</td>\n",
       "      <td>NaN</td>\n",
       "      <td>...</td>\n",
       "      <td>1.0</td>\n",
       "      <td>1000.0</td>\n",
       "      <td>168.0</td>\n",
       "      <td>1000.0</td>\n",
       "      <td>No</td>\n",
       "      <td>NaN</td>\n",
       "      <td>NaN</td>\n",
       "      <td>NaN</td>\n",
       "      <td>NaN</td>\n",
       "      <td>yes</td>\n",
       "    </tr>\n",
       "    <tr>\n",
       "      <th>3</th>\n",
       "      <td>2.0</td>\n",
       "      <td>1</td>\n",
       "      <td>2</td>\n",
       "      <td>1.0</td>\n",
       "      <td>i</td>\n",
       "      <td>2019,3,19,13,0</td>\n",
       "      <td>2019,3,19,13,0</td>\n",
       "      <td>2019,3,19,13,0</td>\n",
       "      <td>0.153</td>\n",
       "      <td>NaN</td>\n",
       "      <td>...</td>\n",
       "      <td>1.0</td>\n",
       "      <td>1000.0</td>\n",
       "      <td>168.0</td>\n",
       "      <td>1000.0</td>\n",
       "      <td>No</td>\n",
       "      <td>NaN</td>\n",
       "      <td>NaN</td>\n",
       "      <td>NaN</td>\n",
       "      <td>NaN</td>\n",
       "      <td>yes</td>\n",
       "    </tr>\n",
       "    <tr>\n",
       "      <th>4</th>\n",
       "      <td>3.0</td>\n",
       "      <td>1</td>\n",
       "      <td>3</td>\n",
       "      <td>1.0</td>\n",
       "      <td>i</td>\n",
       "      <td>2019,3,19,13,0</td>\n",
       "      <td>2019,3,19,13,0</td>\n",
       "      <td>2019,3,19,13,0</td>\n",
       "      <td>0.159</td>\n",
       "      <td>NaN</td>\n",
       "      <td>...</td>\n",
       "      <td>1.0</td>\n",
       "      <td>1000.0</td>\n",
       "      <td>168.0</td>\n",
       "      <td>1000.0</td>\n",
       "      <td>No</td>\n",
       "      <td>NaN</td>\n",
       "      <td>NaN</td>\n",
       "      <td>NaN</td>\n",
       "      <td>NaN</td>\n",
       "      <td>yes</td>\n",
       "    </tr>\n",
       "  </tbody>\n",
       "</table>\n",
       "<p>5 rows × 40 columns</p>\n",
       "</div>"
      ],
      "text/plain": [
       "   Sample  Exp  Sleeve  Week Stage           Timei           Timeh  \\\n",
       "0     0.0    1       0   0.0     i  2019,3,12,13,0  2019,3,12,13,0   \n",
       "1     0.7    1       0   0.0     f  2019,3,12,13,0  2019,3,12,13,0   \n",
       "2     1.0    1       1   1.0     i  2019,3,19,13,0  2019,3,19,13,0   \n",
       "3     2.0    1       2   1.0     i  2019,3,19,13,0  2019,3,19,13,0   \n",
       "4     3.0    1       3   1.0     i  2019,3,19,13,0  2019,3,19,13,0   \n",
       "\n",
       "             Time     DW   mmi  ...  Frequency  Amplitude  Duration    Flux  \\\n",
       "0  2019,3,12,13,0  0.750   NaN  ...        NaN        NaN       NaN     NaN   \n",
       "1  2019,3,19,13,0  0.753  50.0  ...        NaN        NaN       NaN     NaN   \n",
       "2  2019,3,19,13,0  0.144   NaN  ...        1.0     1000.0     168.0  1000.0   \n",
       "3  2019,3,19,13,0  0.153   NaN  ...        1.0     1000.0     168.0  1000.0   \n",
       "4  2019,3,19,13,0  0.159   NaN  ...        1.0     1000.0     168.0  1000.0   \n",
       "\n",
       "   Sporulated  Comment  Day  Comment2  Unnamed: 38  N_Saturation  \n",
       "0          No      NaN  NaN       NaN          NaN           yes  \n",
       "1          No      NaN  NaN       NaN          NaN           yes  \n",
       "2          No      NaN  NaN       NaN          NaN           yes  \n",
       "3          No      NaN  NaN       NaN          NaN           yes  \n",
       "4          No      NaN  NaN       NaN          NaN           yes  \n",
       "\n",
       "[5 rows x 40 columns]"
      ]
     },
     "execution_count": 3,
     "metadata": {},
     "output_type": "execute_result"
    }
   ],
   "source": [
    "# 1. Indoor system\n",
    "#   a. Read data and parameters from excel file\n",
    "\n",
    "xl = pd.ExcelFile('C:/Users/meiro/Desktop/GitHub/Model/Meiron_model/data/Parameters.xlsx')\n",
    "x2 = pd.ExcelFile('C:/Users/meiro/Desktop/GitHub/Model/Meiron_model/data/Data.xlsx')\n",
    "\n",
    "# Import parameters into df1\n",
    "df1 = xl.parse('Parameters')\n",
    "\n",
    "# assigmment of parameters to values: \n",
    "for key,val in zip(df1.Parameter,df1.Indoor_value):\n",
    "    exec(key + '=val')\n",
    "    print(key,val)\n",
    "\n",
    "# Import indoor data into df2\n",
    "df2 = x2.parse('Indoor')\n",
    "\n",
    "df2.head()"
   ]
  },
  {
   "cell_type": "code",
   "execution_count": 4,
   "metadata": {},
   "outputs": [
    {
     "data": {
      "text/plain": [
       "<matplotlib.legend.Legend at 0x22c934c1240>"
      ]
     },
     "execution_count": 4,
     "metadata": {},
     "output_type": "execute_result"
    },
    {
     "data": {
      "image/png": "[encoded data removed]",
      "text/plain": [
       "<Figure size 504x360 with 1 Axes>"
      ]
     },
     "metadata": {
      "needs_background": "light"
     },
     "output_type": "display_data"
    }
   ],
   "source": [
    "# S.A #1 - Time effect on growth rates\n",
    "from sklearn.linear_model import LinearRegression\n",
    "\n",
    "x = df2[(df2.Comment == 'Time effect')].Week\n",
    "y = df2[(df2.Comment == 'Time effect')].DGR\n",
    "\n",
    "\n",
    "fig,ax0 = plt.subplots(1,1,figsize=(7,5))#,sharex=True)\n",
    "ax0.plot(x[4:-1],y[4:-1],'.',markersize=6,color = 'k')\n",
    "ax0.plot(x[0:3],y[0:3],'.',markersize=6,color = 'r')\n",
    "\n",
    "\n",
    "mm, bb = np.polyfit(x[4:-1], y[4:-1], 1)\n",
    "xx = np.array(x[4:-1]).reshape((-1, 1))\n",
    "model = LinearRegression()\n",
    "model.fit(xx, y[4:-1])\n",
    "model = LinearRegression().fit(xx, y[4:-1])\n",
    "r_sq = model.score(xx, y[4:-1])\n",
    "\n",
    "ax0.plot(x[4:-1], mm*x[4:-1] + bb,'--',color = 'orange',markersize=6)\n",
    "\n",
    "ax0.set_ylabel('Daily growth rate', fontsize=12, weight='bold')\n",
    "ax0.set_xlabel('Time\\n[Week]', fontsize=12, weight='bold')\n",
    "\n",
    "#ax0.xlabel('Week')\n",
    "#ax0.ylabel('DGR')\n",
    "\n",
    "ax0.legend([['$R^{2}$ = ' + str(round(r_sq,2)) + ', y = ' + str(round(mm,2)) + 'x +' + str(round(bb,2))]])"
   ]
  },
  {
   "cell_type": "code",
   "execution_count": 5,
   "metadata": {},
   "outputs": [
    {
     "data": {
      "text/plain": [
       "<matplotlib.legend.Legend at 0x22c9351c390>"
      ]
     },
     "execution_count": 5,
     "metadata": {},
     "output_type": "execute_result"
    },
    {
     "data": {
      "image/png": "[encoded data removed]",
      "text/plain": [
       "<Figure size 504x360 with 1 Axes>"
      ]
     },
     "metadata": {
      "needs_background": "light"
     },
     "output_type": "display_data"
    }
   ],
   "source": [
    "# S.A #1 - Time effect on growth rates\n",
    "from sklearn.linear_model import LinearRegression\n",
    "\n",
    "x = df2[(df2.Comment == 'Time effect')].Week\n",
    "y = df2[(df2.Comment == 'Time effect')].DGR\n",
    "\n",
    "\n",
    "fig,ax0 = plt.subplots(1,1,figsize=(7,5))#,sharex=True)\n",
    "ax0.plot(x[4:-1],y[4:-1],'.',markersize=6,color = 'k')\n",
    "ax0.plot(x[0:3],y[0:3],'.',markersize=6,color = 'r')\n",
    "\n",
    "\n",
    "mm, bb = np.polyfit(x[4:-1], y[4:-1], 1)\n",
    "xx = np.array(x[4:-1]).reshape((-1, 1))\n",
    "model = LinearRegression()\n",
    "model.fit(xx, y[4:-1])\n",
    "model = LinearRegression().fit(xx, y[4:-1])\n",
    "r_sq = model.score(xx, y[4:-1])\n",
    "\n",
    "ax0.plot(x[4:-1], mm*x[4:-1] + bb,'--',color = 'orange',markersize=6)\n",
    "\n",
    "ax0.set_ylabel('Daily growth rate', fontsize=12, weight='bold')\n",
    "ax0.set_xlabel('Time\\n[Week]', fontsize=12, weight='bold')\n",
    "\n",
    "#ax0.xlabel('Week')\n",
    "#ax0.ylabel('DGR')\n",
    "\n",
    "ax0.legend([['$R^{2}$ = ' + str(round(r_sq,2)) + ', y = ' + str(round(mm,2)) + 'x +' + str(round(bb,2))]])"
   ]
  },
  {
   "cell_type": "code",
   "execution_count": 25,
   "metadata": {},
   "outputs": [
    {
     "data": {
      "text/plain": [
       "<matplotlib.legend.Legend at 0x22c94cd2c18>"
      ]
     },
     "execution_count": 25,
     "metadata": {},
     "output_type": "execute_result"
    },
    {
     "data": {
      "image/png": "[encoded data removed]",
      "text/plain": [
       "<Figure size 504x360 with 1 Axes>"
      ]
     },
     "metadata": {
      "needs_background": "light"
     },
     "output_type": "display_data"
    }
   ],
   "source": [
    "# S.A #1 - Time effect on growth rates\n",
    "from sklearn.linear_model import LinearRegression\n",
    "\n",
    "x = df2[(df2.Comment == 'Time effect')].Week\n",
    "y = df2[(df2.Comment == 'Time effect')].GR\n",
    "\n",
    "\n",
    "fig,ax0 = plt.subplots(1,1,figsize=(7,5))#,sharex=True)\n",
    "ax0.plot(x[4:-1],y[4:-1],'.',markersize=6,color = 'k')\n",
    "ax0.plot(x[0:3],y[0:3],'.',markersize=6,color = 'r')\n",
    "\n",
    "\n",
    "mm, bb = np.polyfit(x[4:-1], y[4:-1], 1)\n",
    "xx = np.array(x[4:-1]).reshape((-1, 1))\n",
    "model = LinearRegression()\n",
    "model.fit(xx, y[4:-1])\n",
    "model = LinearRegression().fit(xx, y[4:-1])\n",
    "r_sq = model.score(xx, y[4:-1])\n",
    "\n",
    "ax0.plot(x[4:-1], mm*x[4:-1] + bb,'--',color = 'orange',markersize=6)\n",
    "\n",
    "ax0.set_ylabel('Daily growth rate\\n[% $day^{-1}$]', fontsize=12, weight='bold')\n",
    "ax0.set_xlabel('Time\\n[Week]', fontsize=12, weight='bold')\n",
    "\n",
    "#ax0.xlabel('Week')\n",
    "#ax0.ylabel('DGR')\n",
    "\n",
    "ax0.legend([['$R^{2}$ = ' + str(round(r_sq,2)) + ', y = ' + str(round(mm,2)) + 'x +' + str(round(bb,2))]])"
   ]
  },
  {
   "cell_type": "code",
   "execution_count": 26,
   "metadata": {},
   "outputs": [],
   "source": [
    "import pandas as pd\n",
    "data= {'x': x, 'y': y}\n",
    "\n",
    "\n",
    "df=pd.DataFrame(data)\n",
    "\n",
    "df\n",
    "\n",
    "df.to_excel(r'C:\\Users\\meiro\\Desktop\\GitHub\\Model\\Meiron_model\\notebooks\\Controlled conditions\\df_time.xlsx', index = True)\n"
   ]
  },
  {
   "cell_type": "code",
   "execution_count": 7,
   "metadata": {},
   "outputs": [
    {
     "data": {
      "text/plain": [
       "307    -2.365265\n",
       "308    -2.365265\n",
       "342    -3.547897\n",
       "343    -3.547897\n",
       "344    -3.547897\n",
       "345    -4.730529\n",
       "346    -4.730529\n",
       "347    -4.730529\n",
       "348    -5.913162\n",
       "349    -5.913162\n",
       "350    -5.913162\n",
       "351    -7.095794\n",
       "352    -7.095794\n",
       "353    -7.095794\n",
       "354    -8.278426\n",
       "355    -8.278426\n",
       "356    -8.278426\n",
       "357    -9.461059\n",
       "358    -9.461059\n",
       "359    -9.461059\n",
       "360   -10.643691\n",
       "361   -10.643691\n",
       "362   -10.643691\n",
       "363   -11.826323\n",
       "364   -11.826323\n",
       "Name: Week, dtype: float64"
      ]
     },
     "execution_count": 7,
     "metadata": {},
     "output_type": "execute_result"
    }
   ],
   "source": [
    "mm*x[4:-1]"
   ]
  },
  {
   "cell_type": "code",
   "execution_count": 8,
   "metadata": {},
   "outputs": [
    {
     "data": {
      "text/plain": [
       "<matplotlib.legend.Legend at 0x22c936e3160>"
      ]
     },
     "execution_count": 8,
     "metadata": {},
     "output_type": "execute_result"
    },
    {
     "data": {
      "image/png": "[encoded data removed]",
      "text/plain": [
       "<Figure size 504x360 with 1 Axes>"
      ]
     },
     "metadata": {
      "needs_background": "light"
     },
     "output_type": "display_data"
    }
   ],
   "source": [
    "# S.A #1 - Starvation effect on growth rates\n",
    "from sklearn.linear_model import LinearRegression\n",
    "\n",
    "x = df2[(df2.Comment == 'Starvation')].Day\n",
    "y = df2[(df2.Comment == 'Starvation')].DGR\n",
    "\n",
    "\n",
    "fig,ax0 = plt.subplots(1,1,figsize=(7,5))#,sharex=True)\n",
    "ax0.plot(x,y,'.',markersize=6,color = 'k')\n",
    "\n",
    "mm, bb = np.polyfit(x, y, 1)\n",
    "xx = np.array(x).reshape((-1, 1))\n",
    "model = LinearRegression()\n",
    "model.fit(xx, y)\n",
    "model = LinearRegression().fit(xx, y)\n",
    "r_sq = model.score(xx, y)\n",
    "\n",
    "ax0.plot(x, mm*x + bb,'--',color = 'orange',markersize=6)\n",
    "\n",
    "ax0.set_ylabel('Daily growth rate', fontsize=12, weight='bold')\n",
    "ax0.set_xlabel('Time\\n[Day]', fontsize=12, weight='bold')\n",
    "\n",
    "#ax0.xlabel('Week')\n",
    "#ax0.ylabel('DGR')\n",
    "\n",
    "ax0.legend([['$R^{2}$ = ' + str(round(r_sq,2)) + ', y = ' + str(round(mm,2)) + 'x +' + str(round(bb,2))]])"
   ]
  },
  {
   "cell_type": "code",
   "execution_count": 11,
   "metadata": {
    "scrolled": true
   },
   "outputs": [
    {
     "data": {
      "text/plain": [
       "<matplotlib.legend.Legend at 0x22c94936ac8>"
      ]
     },
     "execution_count": 11,
     "metadata": {},
     "output_type": "execute_result"
    },
    {
     "data": {
      "image/png": "[encoded data removed]",
      "text/plain": [
       "<Figure size 504x360 with 1 Axes>"
      ]
     },
     "metadata": {
      "needs_background": "light"
     },
     "output_type": "display_data"
    }
   ],
   "source": [
    "# S.A #1 - Starvation effect on growth rates\n",
    "from sklearn.linear_model import LinearRegression\n",
    "\n",
    "x = df2[(df2.Comment == 'Starvation')].Day\n",
    "y = df2[(df2.Comment == 'Starvation')].GR\n",
    "\n",
    "\n",
    "fig,ax0 = plt.subplots(1,1,figsize=(7,5))#,sharex=True)\n",
    "ax0.plot(x[3:-1],y[3:-1],'.',markersize=6,color = 'k')\n",
    "ax0.plot(x[0:3],y[0:3],'*',markersize=7,color = 'k')\n",
    "\n",
    "\n",
    "mm, bb = np.polyfit(x, y, 1)\n",
    "xx = np.array(x).reshape((-1, 1))\n",
    "model = LinearRegression()\n",
    "model.fit(xx, y)\n",
    "model = LinearRegression().fit(xx, y)\n",
    "r_sq = model.score(xx, y)\n",
    "\n",
    "ax0.plot(x, mm*x + bb,'--',markersize=6)\n",
    "\n",
    "ax0.set_ylabel('Daily growth rate\\n[% $day^{-1}$]', fontsize=10, weight='bold')\n",
    "ax0.set_xlabel('Time\\n[Day]', fontsize=12, weight='bold')\n",
    "\n",
    "#ax0.xlabel('Week')\n",
    "#ax0.ylabel('DGR')\n",
    "\n",
    "ax0.legend([['$R^{2}$ = ' + str(round(r_sq,2)) + ', y = ' + str(round(mm,2)) + 'x +' + str(round(bb,2))]])"
   ]
  },
  {
   "cell_type": "code",
   "execution_count": 24,
   "metadata": {},
   "outputs": [],
   "source": [
    "import pandas as pd\n",
    "data= {'x': x, 'y': y}\n",
    "\n",
    "\n",
    "df=pd.DataFrame(data)\n",
    "\n",
    "df\n",
    "\n",
    "df.to_excel(r'C:\\Users\\meiro\\Desktop\\GitHub\\Model\\Meiron_model\\notebooks\\Controlled conditions\\df_starvation.xlsx', index = True)\n"
   ]
  },
  {
   "cell_type": "code",
   "execution_count": 10,
   "metadata": {},
   "outputs": [
    {
     "ename": "ValueError",
     "evalue": "Unknown label type: 'continuous'",
     "output_type": "error",
     "traceback": [
      "\u001b[1;31m---------------------------------------------------------------------------\u001b[0m",
      "\u001b[1;31mValueError\u001b[0m                                Traceback (most recent call last)",
      "\u001b[1;32m<ipython-input-10-51fd78bb37f9>\u001b[0m in \u001b[0;36m<module>\u001b[1;34m\u001b[0m\n\u001b[0;32m     14\u001b[0m \u001b[0mxx\u001b[0m \u001b[1;33m=\u001b[0m \u001b[0mnp\u001b[0m\u001b[1;33m.\u001b[0m\u001b[0marray\u001b[0m\u001b[1;33m(\u001b[0m\u001b[0mx\u001b[0m\u001b[1;33m)\u001b[0m\u001b[1;33m.\u001b[0m\u001b[0mreshape\u001b[0m\u001b[1;33m(\u001b[0m\u001b[1;33m(\u001b[0m\u001b[1;33m-\u001b[0m\u001b[1;36m1\u001b[0m\u001b[1;33m,\u001b[0m \u001b[1;36m1\u001b[0m\u001b[1;33m)\u001b[0m\u001b[1;33m)\u001b[0m\u001b[1;33m\u001b[0m\u001b[1;33m\u001b[0m\u001b[0m\n\u001b[0;32m     15\u001b[0m \u001b[0mmodel\u001b[0m \u001b[1;33m=\u001b[0m \u001b[0mLogisticRegression\u001b[0m\u001b[1;33m(\u001b[0m\u001b[1;33m)\u001b[0m\u001b[1;33m\u001b[0m\u001b[1;33m\u001b[0m\u001b[0m\n\u001b[1;32m---> 16\u001b[1;33m \u001b[0mmodel\u001b[0m\u001b[1;33m.\u001b[0m\u001b[0mfit\u001b[0m\u001b[1;33m(\u001b[0m\u001b[0mxx\u001b[0m\u001b[1;33m,\u001b[0m \u001b[0my\u001b[0m\u001b[1;33m)\u001b[0m\u001b[1;33m\u001b[0m\u001b[1;33m\u001b[0m\u001b[0m\n\u001b[0m\u001b[0;32m     17\u001b[0m \u001b[0mmodel\u001b[0m \u001b[1;33m=\u001b[0m \u001b[0mLogisticRegression\u001b[0m\u001b[1;33m(\u001b[0m\u001b[1;33m)\u001b[0m\u001b[1;33m.\u001b[0m\u001b[0mfit\u001b[0m\u001b[1;33m(\u001b[0m\u001b[0mxx\u001b[0m\u001b[1;33m,\u001b[0m \u001b[0my\u001b[0m\u001b[1;33m)\u001b[0m\u001b[1;33m\u001b[0m\u001b[1;33m\u001b[0m\u001b[0m\n\u001b[0;32m     18\u001b[0m \u001b[0mr_sq\u001b[0m \u001b[1;33m=\u001b[0m \u001b[0mmodel\u001b[0m\u001b[1;33m.\u001b[0m\u001b[0mscore\u001b[0m\u001b[1;33m(\u001b[0m\u001b[0mxx\u001b[0m\u001b[1;33m,\u001b[0m \u001b[0my\u001b[0m\u001b[1;33m)\u001b[0m\u001b[1;33m\u001b[0m\u001b[1;33m\u001b[0m\u001b[0m\n",
      "\u001b[1;32m~\\Anaconda3new\\lib\\site-packages\\sklearn\\linear_model\\_logistic.py\u001b[0m in \u001b[0;36mfit\u001b[1;34m(self, X, y, sample_weight)\u001b[0m\n\u001b[0;32m   1345\u001b[0m                                    \u001b[0morder\u001b[0m\u001b[1;33m=\u001b[0m\u001b[1;34m\"C\"\u001b[0m\u001b[1;33m,\u001b[0m\u001b[1;33m\u001b[0m\u001b[1;33m\u001b[0m\u001b[0m\n\u001b[0;32m   1346\u001b[0m                                    accept_large_sparse=solver != 'liblinear')\n\u001b[1;32m-> 1347\u001b[1;33m         \u001b[0mcheck_classification_targets\u001b[0m\u001b[1;33m(\u001b[0m\u001b[0my\u001b[0m\u001b[1;33m)\u001b[0m\u001b[1;33m\u001b[0m\u001b[1;33m\u001b[0m\u001b[0m\n\u001b[0m\u001b[0;32m   1348\u001b[0m         \u001b[0mself\u001b[0m\u001b[1;33m.\u001b[0m\u001b[0mclasses_\u001b[0m \u001b[1;33m=\u001b[0m \u001b[0mnp\u001b[0m\u001b[1;33m.\u001b[0m\u001b[0munique\u001b[0m\u001b[1;33m(\u001b[0m\u001b[0my\u001b[0m\u001b[1;33m)\u001b[0m\u001b[1;33m\u001b[0m\u001b[1;33m\u001b[0m\u001b[0m\n\u001b[0;32m   1349\u001b[0m \u001b[1;33m\u001b[0m\u001b[0m\n",
      "\u001b[1;32m~\\Anaconda3new\\lib\\site-packages\\sklearn\\utils\\multiclass.py\u001b[0m in \u001b[0;36mcheck_classification_targets\u001b[1;34m(y)\u001b[0m\n\u001b[0;32m    181\u001b[0m     if y_type not in ['binary', 'multiclass', 'multiclass-multioutput',\n\u001b[0;32m    182\u001b[0m                       'multilabel-indicator', 'multilabel-sequences']:\n\u001b[1;32m--> 183\u001b[1;33m         \u001b[1;32mraise\u001b[0m \u001b[0mValueError\u001b[0m\u001b[1;33m(\u001b[0m\u001b[1;34m\"Unknown label type: %r\"\u001b[0m \u001b[1;33m%\u001b[0m \u001b[0my_type\u001b[0m\u001b[1;33m)\u001b[0m\u001b[1;33m\u001b[0m\u001b[1;33m\u001b[0m\u001b[0m\n\u001b[0m\u001b[0;32m    184\u001b[0m \u001b[1;33m\u001b[0m\u001b[0m\n\u001b[0;32m    185\u001b[0m \u001b[1;33m\u001b[0m\u001b[0m\n",
      "\u001b[1;31mValueError\u001b[0m: Unknown label type: 'continuous'"
     ]
    },
    {
     "data": {
      "image/png": "[encoded data removed]",
      "text/plain": [
       "<Figure size 504x360 with 1 Axes>"
      ]
     },
     "metadata": {
      "needs_background": "light"
     },
     "output_type": "display_data"
    }
   ],
   "source": [
    "# S.A #1 - Starvation effect on growth rates\n",
    "from sklearn.linear_model import LogisticRegression\n",
    "\n",
    "x = df2[(df2.Comment == 'Starvation')].Day\n",
    "y = df2[(df2.Comment == 'Starvation')].GR\n",
    "\n",
    "\n",
    "fig,ax0 = plt.subplots(1,1,figsize=(7,5))#,sharex=True)\n",
    "ax0.plot(x[3:-1],y[3:-1],'.',markersize=6,color = 'k')\n",
    "ax0.plot(x[0:3],y[0:3],'*',markersize=7,color = 'k')\n",
    "\n",
    "\n",
    "mm, bb = np.polyfit(x, y, 1)\n",
    "xx = np.array(x).reshape((-1, 1))\n",
    "model = LogisticRegression()\n",
    "model.fit(xx, y)\n",
    "model = LogisticRegression().fit(xx, y)\n",
    "r_sq = model.score(xx, y)\n",
    "\n",
    "#ax0.plot(x, mm*x + bb,'--',markersize=6)\n",
    "\n",
    "ax0.set_ylabel('Daily growth rate\\n[% $day^{-1}$]', fontsize=10, weight='bold')\n",
    "ax0.set_xlabel('Time\\n[Day]', fontsize=12, weight='bold')\n",
    "\n",
    "#ax0.xlabel('Week')\n",
    "#ax0.ylabel('DGR')\n",
    "\n",
    "ax0.legend([['$R^{2}$ = ' + str(round(r_sq,2)) + ', y = ' + str(round(mm,2)) + 'x +' + str(round(bb,2))]])"
   ]
  },
  {
   "cell_type": "code",
   "execution_count": null,
   "metadata": {
    "colab": {
     "base_uri": "https://localhost:8080/",
     "height": 277
    },
    "colab_type": "code",
    "executionInfo": {
     "elapsed": 62295,
     "status": "ok",
     "timestamp": 1565466545086,
     "user": {
      "displayName": "Meiron Zollmann",
      "photoUrl": "",
      "userId": "18114482091462006341"
     },
     "user_tz": -180
    },
    "id": "d4VzbZ484iED",
    "inputHidden": false,
    "outputHidden": false,
    "outputId": "6d76a9eb-17b9-400c-de1d-c0cec8fc215c"
   },
   "outputs": [],
   "source": [
    "# Import data and parameters\n",
    "\n",
    "xl = pd.ExcelFile('../data/Parameters.xlsx')\n",
    "x2 = pd.ExcelFile('../data/Data.xlsx')\n",
    "\n",
    "# Import parameters into df1\n",
    "df1 = xl.parse('Parameters',header=None)\n",
    "\n",
    "# Import indoor data into df2\n",
    "df2 = x2.parse('Indoor')\n",
    "\n",
    "# Import offshore data ito df2\n",
    "df3 = x2.parse('Offshore')\n",
    "\n",
    "# Import outdoor data ito df4\n",
    "df4 = x2.parse('Outdoor')"
   ]
  },
  {
   "cell_type": "code",
   "execution_count": null,
   "metadata": {},
   "outputs": [],
   "source": [
    "df2.head()"
   ]
  },
  {
   "cell_type": "code",
   "execution_count": null,
   "metadata": {},
   "outputs": [],
   "source": [
    "# weighing effect - option 2\n",
    "palette = sns.color_palette(\"tab10\",3)\n",
    "\n",
    "d = df2[(df2.Stage != 'i')&(df2.Comment == 'Time effect')]\n",
    "sns.pointplot(data=d,palette=palette, x=\"Week\", y=\"DGR\", err_style=\"band\", ci=\"sd\",linestyles=':',hue = 'Exp')#,hue=\"Sleeve\")\n"
   ]
  },
  {
   "cell_type": "code",
   "execution_count": null,
   "metadata": {},
   "outputs": [],
   "source": [
    "# weighing effect - option 2\n",
    "#palette = sns.color_palette(\"tab10\",3)\n",
    "\n",
    "d = df2[(df2.Stage != 'i')&(df2.Comment == 'Time effect')]\n",
    "sns.lineplot(data=d, x=\"Week\", y=\"DGR\", ci=\"sd\",err_style=\"band\")#,hue = 'Sleeve')#,hue=\"Sleeve\")\n"
   ]
  },
  {
   "cell_type": "code",
   "execution_count": null,
   "metadata": {},
   "outputs": [],
   "source": [
    "# weighing effect - option 2\n",
    "#palette = sns.color_palette(\"tab10\",3)\n",
    "\n",
    "d = df2[(df2.Stage != 'i')&(df2.Comment == 'Time effect')]\n",
    "sns.pointplot(data=d, x=\"Week\", y=\"DGR\", ci=\"sd\",err_style=\"bars\",linestyles=[':',':',':'],hue = 'Sleeve',scale = 0.8)\n"
   ]
  },
  {
   "cell_type": "raw",
   "metadata": {
    "scrolled": false
   },
   "source": [
    "# S.A #1 - Time effect on growth rates\n",
    "from sklearn.linear_model import LinearRegression\n",
    "\n",
    "\n",
    "SA1Time = sns.pointplot(x = 'Week', y = 'DGR', data = df2[(df2.Comment == 'Time effect')],hue = 'Sleeve',linestyles = [':',':',':'],scale = 0.5)\n",
    "\n",
    "\n",
    "# regression line and coefficient for Nint:\n",
    "#NN, cc = np.polyfit(b[j], Y2[Best_index], 1)\n",
    "#ax0.flat[j].plot(b[j], mm*b[j] + bb,'.',color = 'darkblue',markersize=4)\n",
    "#x = np.array(b[j]).reshape((-1, 1))\n",
    "#modelN = LinearRegression()\n",
    "#modelN.fit(x, Y2[Best_index])\n",
    "#modelN = LinearRegression().fit(df2[(df2.Comment == 'Time effect')].Week, df2[(df2.Comment == 'Time effect')].DGR)\n",
    "#r_sqN = modelN.score(df2[(df2.Comment == 'Time effect')].Week, df2[(df2.Comment == 'Time effect')].DGR)\n",
    "#print('KI coefficient of determination:', r_sq)\n",
    "#ax0.flat[j].legend([['$R^{2}$ = ' + str(round(r_sq,2))],['$R^{2}$ = ' + str(round(r_sqN,2))]])\n",
    "x, y = [],[]\n",
    "for i in list(range(1,11)):\n",
    "    x.append(int(np.mean(df2[(df2.Comment == 'Time effect')&(df2.Week == i)].Week)))\n",
    "    y.append(np.mean(df2[(df2.Comment == 'Time effect')&(df2.Week == i)].DGR))\n",
    "\n",
    "#print(df2[(df2.Comment == 'Time effect')].Week)\n",
    "fig,ax0 = plt.subplots(1,1,figsize=(7,5))#,sharex=True)\n",
    "ax0.plot(x,y,'.',markersize=10)\n",
    "# regression line:\n",
    "mm, bb = np.polyfit(x, y, 1)\n",
    "print(x)\n",
    "\n",
    "print(mm)\n",
    "print(bb)\n",
    "a = x*mm\n",
    "print(a)\n",
    "ax0.plot(x, mm*x + bb, '.',color = 'darkblue',markersize=4)\n",
    "\n",
    "# regression line:\n",
    "#mm, bb = np.polyfit(b[1], Y[Best_index], 1)\n",
    "#ax0.flat[2].plot(b[1], mm*b[1] + bb, '.',color = 'darkblue',markersize=4)\n",
    "\n",
    "#mm, bb = np.polyfit(df2[(df2.Comment == 'Time effect')].Week, df2[(df2.Comment == 'Time effect')].DGR, 1)\n",
    "#SA1Time.plot(df2[(df2.Comment == 'Time effect')].Week, df2[(df2.Comment == 'Time effect')].Week*df2[(df2.Comment == 'Time effect')].Week + df2[(df2.Comment == 'Time effect')].DGR,'.',color = 'darkblue',markersize=4)"
   ]
  },
  {
   "cell_type": "raw",
   "metadata": {},
   "source": [
    "# S.A #1 - Time effect on growth rates\n",
    "from sklearn.linear_model import LinearRegression\n",
    "\n",
    "x1 = df2[(df2.Treatment == '1000/1/168')&(df2.Comment != 'Time effect')&(df2.Comment != 'Time effect')].Week\n",
    "y1 = df2[(df2.Treatment == '1000/1/168')&(df2.Comment != 'Time effect')].DGR\n",
    "\n",
    "x2 = df2[(df2.Comment == 'Time effect')].Week\n",
    "y2 = df2[(df2.Comment == 'Time effect')].DGR\n",
    "\n",
    "x = x1.append(x2)\n",
    "y = y1.append(y2)\n",
    "\n",
    "fig,ax0 = plt.subplots(1,1,figsize=(7,5))#,sharex=True)\n",
    "ax0.plot(x,y,'.',markersize=5)\n",
    "\n",
    "\n",
    "mm, bb = np.polyfit(x, y, 1)\n",
    "xx = np.array(x).reshape((-1, 1))\n",
    "model = LinearRegression()\n",
    "model.fit(xx, y)\n",
    "model = LinearRegression().fit(xx, y)\n",
    "r_sq = model.score(xx, y)\n",
    "\n",
    "ax0.plot(x, mm*x + bb,'.',color = 'orange',markersize=6)\n",
    "\n",
    "ax0.legend([['$R^{2}$ = ' + str(round(r_sq,2))]])"
   ]
  },
  {
   "cell_type": "code",
   "execution_count": null,
   "metadata": {},
   "outputs": [],
   "source": [
    "week1 = df2[(df2.Stage != 'i')&(df2.Comment == 'Time effect')&(df2.Week == 1)].DGR\n",
    "week2 = df2[(df2.Stage != 'i')&(df2.Comment == 'Time effect')&(df2.Week == 2)].DGR\n",
    "week3 = df2[(df2.Stage != 'i')&(df2.Comment == 'Time effect')&(df2.Week == 3)].DGR\n",
    "week4 = df2[(df2.Stage != 'i')&(df2.Comment == 'Time effect')&(df2.Week == 4)].DGR\n",
    "week5 = df2[(df2.Stage != 'i')&(df2.Comment == 'Time effect')&(df2.Week == 5)].DGR\n",
    "week6 = df2[(df2.Stage != 'i')&(df2.Comment == 'Time effect')&(df2.Week == 6)].DGR\n",
    "week7 = df2[(df2.Stage != 'i')&(df2.Comment == 'Time effect')&(df2.Week == 7)].DGR\n",
    "week8 = df2[(df2.Stage != 'i')&(df2.Comment == 'Time effect')&(df2.Week == 8)].DGR\n",
    "week9 = df2[(df2.Stage != 'i')&(df2.Comment == 'Time effect')&(df2.Week == 9)].DGR\n",
    "week10 = df2[(df2.Stage != 'i')&(df2.Comment == 'Time effect')&(df2.Week == 10)].DGR\n",
    "\n",
    "data = {'week1':  week1,\n",
    "        'week2': week2}"
   ]
  },
  {
   "cell_type": "code",
   "execution_count": null,
   "metadata": {},
   "outputs": [],
   "source": [
    "# S.A #1 - growth rates in different experiments\n",
    "sns.set_context(\"paper\", rc={\"font.size\":16,\"axes.titlesize\":16,\"axes.labelsize\":16}) \n",
    "\n",
    "# strip plot - all data\n",
    "SA1DGR = sns.catplot(x = 'Treatment', y = 'DGR', data = df2[(df2.Treatment != 'Acclimation')&(df2.Comment == 'Time effect')],hue = 'Week').set(xlabel='', ylabel='Daily growth rate')\n",
    "SA1DGR.set_xticklabels([\"1000/1/168\", \"2000/1/4\", \"500/1/4\",\"2000/1/168\",\"500/2/168\",\"500/3/168\",\"200/5/168\"], rotation=90,fontdict= { 'fontsize': 14, 'fontweight':'bold','color': 'k'})\n",
    "SA1DGR.set_yticklabels(fontdict= { 'fontsize': 12, 'fontweight':'bold','color': 'k'})#,fontsize = 12, fontweight = bold)\n",
    "\n",
    "# box plot\n",
    "SA1DGRBOX = sns.catplot(x = 'Treatment', y = 'DGR', data = df2[(df2.Treatment != 'Acclimation')&(df2.Comment == 'Time effect')],hue = 'Week',kind=\"box\").set(xlabel='', ylabel='Daily growth rate')\n",
    "SA1DGRBOX.set_xticklabels([\"1000/1/168\", \"2000/1/4\", \"500/1/4\",\"2000/1/168\",\"500/2/168\",\"500/3/168\",\"200/5/168\"], rotation=90,fontdict= { 'fontsize': 14, 'fontweight':'bold','color': 'k'})\n",
    "SA1DGRBOX.set_yticklabels(fontdict= { 'fontsize': 12, 'fontweight':'bold','color': 'k'})#,fontsize = 12, fontweight = bold)\n",
    "\n",
    "# A combined plot\n",
    "#SA1DGRBOX2 = sns.boxplot(x = 'Treatment', y = 'DGR', data = df2[(df2.Treatment != 'Acclimation')&(df2.Stage == 'f')],hue = 'Week').set(xlabel='', ylabel='Daily growth rate')\n",
    "#SA1DGRBOX2 = sns.stripplot(x = 'Treatment', y = 'DGR', data = df2[(df2.Treatment != 'Acclimation')&(df2.Stage == 'f')],hue = 'Week').set(xlabel='', ylabel='Daily growth rate')\n",
    "\n",
    "# see details in https://datavizpyr.com/boxplots-with-points-using-seaborn-in-python/\n",
    "\n",
    "# DGR without sporulated sleeves\n",
    "#SA1DGR2 = sns.catplot(x = 'Treatment', y = 'DGR', data = df2[(df2.Treatment != 'Acclimation')][(df2.Comment != 'Sporulated')])#,kind=\"box\")\n",
    "#SA1DGR2.set_xticklabels([\"1000/1/168\", \"2000/1/4\", \"500/1/4\",\"2000/1/168\",\"500/2/168\",\"500/3/168\",\"200/5/168\"], rotation=90)"
   ]
  },
  {
   "cell_type": "code",
   "execution_count": null,
   "metadata": {},
   "outputs": [],
   "source": [
    "# statistical analysis - Longtitudinal analysis\n",
    "\n",
    "# https://medium.com/@igoroa/analysis-of-longitudinal-data-made-easy-with-leaspy-f8d529fcb5f8"
   ]
  },
  {
   "cell_type": "code",
   "execution_count": null,
   "metadata": {
    "scrolled": true
   },
   "outputs": [],
   "source": [
    "# S.A #1 - growth rates in starvation experiments\n",
    "#Timepoints = [7,8,9,10,11,12,13,14,15,17,18,19,20,21,24]\n",
    "SA1St = sns.pointplot(x = 'Day', y = 'DGR', data = df2[(df2.Treatment != 'Acclimation')&(df2.Comment == 'Starvation')],hue = 'Sleeve',scale=0.5,linestyles=[\":\",\":\",\":\"])\n",
    "SA1St.set_xticklabels(df2[(df2.Comment == 'Starvation')&(df2.Sleeve == 6)]['Day'],rotation=45)"
   ]
  },
  {
   "cell_type": "code",
   "execution_count": null,
   "metadata": {},
   "outputs": [],
   "source": []
  }
 ],
 "metadata": {
  "kernelspec": {
   "display_name": "Python 3",
   "language": "python",
   "name": "python3"
  },
  "language_info": {
   "codemirror_mode": {
    "name": "ipython",
    "version": 3
   },
   "file_extension": ".py",
   "mimetype": "text/x-python",
   "name": "python",
   "nbconvert_exporter": "python",
   "pygments_lexer": "ipython3",
   "version": "3.7.3"
  }
 },
 "nbformat": 4,
 "nbformat_minor": 4
}
