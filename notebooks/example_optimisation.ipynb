{
 "cells": [
  {
   "cell_type": "code",
   "execution_count": 2,
   "metadata": {},
   "outputs": [
    {
     "name": "stdout",
     "output_type": "stream",
     "text": [
      "parameter values are  [0.5221712 0.181713 ]\n"
     ]
    },
    {
     "data": {
      "image/png": "[encoded data removed]",
      "text/plain": [
       "<Figure size 432x288 with 1 Axes>"
      ]
     },
     "metadata": {
      "needs_background": "light"
     },
     "output_type": "display_data"
    }
   ],
   "source": [
    "import pylab as pp\n",
    "import numpy as np\n",
    "from scipy import integrate, interpolate\n",
    "from scipy import optimize\n",
    "\n",
    "##initialize the data\n",
    "x_data = np.linspace(0,9,10)\n",
    "y_data = np.array([0.000,0.416,0.489,0.595,0.506,0.493,0.458,0.394,0.335,0.309])\n",
    "\n",
    "\n",
    "def f(y, t, k): \n",
    "    \"\"\"define the ODE system in terms of \n",
    "        dependent variable y,\n",
    "        independent variable t, and\n",
    "        optinal parmaeters, in this case a single variable k \"\"\"\n",
    "    return (-k[0]*y[0],\n",
    "          k[0]*y[0]-k[1]*y[1],\n",
    "          k[1]*y[1])\n",
    "\n",
    "def my_ls_func(x,teta):\n",
    "    \"\"\"definition of function for LS fit\n",
    "        x gives evaluation points,\n",
    "        teta is an array of parameters to be varied for fit\"\"\"\n",
    "    # create an alias to f which passes the optional params    \n",
    "    f2 = lambda y,t: f(y, t, teta)\n",
    "    # calculate ode solution, retuen values for each entry of \"x\"\n",
    "    r = integrate.odeint(f2,y0,x)\n",
    "    #in this case, we only need one of the dependent variable values\n",
    "    return r[:,1]\n",
    "\n",
    "def f_resid(p):\n",
    "    \"\"\" function to pass to optimize.leastsq\n",
    "        The routine will square and sum the values returned by \n",
    "        this function\"\"\" \n",
    "    return y_data-my_ls_func(x_data,p)\n",
    "#solve the system - the solution is in variable c\n",
    "guess = [0.2,0.3] #initial guess for params\n",
    "y0 = [1,0,0] #inital conditions for ODEs\n",
    "(c,kvg) = optimize.leastsq(f_resid, guess) #get params\n",
    "\n",
    "print (\"parameter values are \",c)\n",
    "\n",
    "# fit ODE results to interpolating spline just for fun\n",
    "xeval=np.linspace(min(x_data), max(x_data),30) \n",
    "gls = interpolate.UnivariateSpline(xeval, my_ls_func(xeval,c), k=3, s=0)\n",
    "\n",
    "#pick a few more points for a very smooth curve, then plot \n",
    "#   data and curve fit\n",
    "xeval=np.linspace(min(x_data), max(x_data),200)\n",
    "#Plot of the data as red dots and fit as blue line\n",
    "pp.plot(x_data, y_data,'.r',xeval,gls(xeval),'-b')\n",
    "pp.xlabel('xlabel',{\"fontsize\":16})\n",
    "pp.ylabel(\"ylabel\",{\"fontsize\":16})\n",
    "pp.legend(('data','fit'),loc=0)\n",
    "pp.show()"
   ]
  }
 ],
 "metadata": {
  "interpreter": {
   "hash": "ef9235cafc8dd8a3dee0ea099ab3fa10a7a120be7bbce4a1c06199c73fea4cdb"
  },
  "kernelspec": {
   "display_name": "Python 3.9.7 64-bit ('meiron': conda)",
   "language": "python",
   "name": "python3"
  },
  "language_info": {
   "codemirror_mode": {
    "name": "ipython",
    "version": 3
   },
   "file_extension": ".py",
   "mimetype": "text/x-python",
   "name": "python",
   "nbconvert_exporter": "python",
   "pygments_lexer": "ipython3",
   "version": "3.9.7"
  },
  "orig_nbformat": 4
 },
 "nbformat": 4,
 "nbformat_minor": 2
}
